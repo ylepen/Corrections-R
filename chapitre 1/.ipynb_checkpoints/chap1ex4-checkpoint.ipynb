{
 "cells": [
  {
   "cell_type": "markdown",
   "id": "1893e1f5",
   "metadata": {},
   "source": [
    "# Chapitre I, exercice 4 : Etude préliminaire du CAC 40\n",
    "\n",
    "## Importation des données\n",
    "\n",
    "### Option 1 : à partir d'un fichier de données\n",
    "\n",
    "#### Source : Datastream\n",
    "\n",
    "Datastream est une base de données payante accessible à la BU Dauphine. Elle présente l'avantage de fournir des données complètes. Le séparateur de décimale est le point \".\""
   ]
  },
  {
   "cell_type": "markdown",
   "id": "3abf2659",
   "metadata": {},
   "source": [
    "CAC40_df_1<-read.csv2(\"./data/cac40_datastream.csv\",dec=\".\",col.names = c('Date','CAC40'))\n",
    "head(CAC40_df_1)"
   ]
  },
  {
   "cell_type": "markdown",
   "id": "a43e79fa",
   "metadata": {},
   "source": [
    "<a target=\"_blank\" href=\"https://colab.research.google.com/github/ylepen/Corrections-R/blob/main/chapitre%201/chap1ex4.ipynb\">\n",
    "  <img src=\"https://colab.research.google.com/assets/colab-badge.svg\" alt=\"Open In Colab\"/>\n",
    "</a>"
   ]
  }
 ],
 "metadata": {
  "kernelspec": {
   "display_name": "R",
   "language": "R",
   "name": "ir"
  },
  "language_info": {
   "codemirror_mode": "r",
   "file_extension": ".r",
   "mimetype": "text/x-r-source",
   "name": "R",
   "pygments_lexer": "r",
   "version": "4.2.1"
  }
 },
 "nbformat": 4,
 "nbformat_minor": 5
}

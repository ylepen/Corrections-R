{
  "cells": [
    {
      "cell_type": "markdown",
      "id": "75039164",
      "metadata": {
        "id": "75039164"
      },
      "source": [
        "# Chapitre I, exercice 4 : Etude préliminaire du CAC 40\n",
        "\n",
        "## Importation des données\n",
        "\n",
        "### Option 1 : à partir d'un fichier de données\n",
        "\n",
        "#### Source : Datastream\n",
        "\n",
        "Datastream est une base de données payante accessible à la BU Dauphine. Elle présente l'avantage de fournir des données complètes. Le séparateur de décimale est le point \".\""
      ]
    },
    {
      "cell_type": "code",
      "source": [
        "library(googledrive)"
      ],
      "metadata": {
        "id": "Zl9fp35tbZpN"
      },
      "id": "Zl9fp35tbZpN",
      "execution_count": 3,
      "outputs": []
    },
    {
      "cell_type": "code",
      "source": [
        "drive_download(\"https://drive.google.com/file/d/1YwRPBpF9LcilV_1gQMVxEEvklQvq13zk/view?usp=share_link\")"
      ],
      "metadata": {
        "colab": {
          "base_uri": "https://localhost:8080/",
          "height": 298
        },
        "id": "5CGhZACwb2Eq",
        "outputId": "8dd4ed95-ed20-475a-8278-7c32328f4ebb"
      },
      "id": "5CGhZACwb2Eq",
      "execution_count": 15,
      "outputs": [
        {
          "output_type": "error",
          "ename": "ERROR",
          "evalue": "ignored",
          "traceback": [
            "Error: Path exists and overwrite is FALSE\nTraceback:\n",
            "1. drive_download(\"https://drive.google.com/file/d/1YwRPBpF9LcilV_1gQMVxEEvklQvq13zk/view?usp=share_link\")",
            "2. request_make(request, httr::write_disk(path, overwrite = overwrite))",
            "3. gargle::request_retry(x, ..., user_agent = drive_ua())",
            "4. request_make(...)",
            "5. method(url = x$url, body = x$body, x$token, encode = encode, \n .     user_agent, ...)",
            "6. handle_url(handle, url, ...)",
            "7. named(list(...))",
            "8. httr::write_disk(path, overwrite = overwrite)",
            "9. stop(\"Path exists and overwrite is FALSE\", call. = FALSE)"
          ]
        }
      ]
    },
    {
      "cell_type": "code",
      "source": [
        "drive_download(\"https://drive.google.com/file/d/1vo0To5q9LCGCk6b1fdgT5nS-SM3oxvT6/view?usp=share_link\")"
      ],
      "metadata": {
        "id": "w4jLrsUQgpP2",
        "outputId": "fb034cc9-8dd7-4824-9561-068dbb111aab",
        "colab": {
          "base_uri": "https://localhost:8080/"
        }
      },
      "id": "w4jLrsUQgpP2",
      "execution_count": 16,
      "outputs": [
        {
          "output_type": "stream",
          "name": "stderr",
          "text": [
            "File downloaded:\n",
            "\n",
            "• \u001b[36mcac40_datastream.csv\u001b[39m \u001b[90m<id: 1vo0To5q9LCGCk6b1fdgT5nS-SM3oxvT6>\u001b[39m\n",
            "\n",
            "Saved locally as:\n",
            "\n",
            "• \u001b[34mcac40_datastream.csv\u001b[39m\n",
            "\n"
          ]
        }
      ]
    },
    {
      "cell_type": "code",
      "execution_count": 18,
      "id": "0445784d",
      "metadata": {
        "colab": {
          "base_uri": "https://localhost:8080/",
          "height": 299
        },
        "id": "0445784d",
        "outputId": "8d00b9a3-7a47-4e11-cc58-719850f856a8"
      },
      "outputs": [
        {
          "output_type": "display_data",
          "data": {
            "text/html": [
              "<table class=\"dataframe\">\n",
              "<caption>A data.frame: 6 × 2</caption>\n",
              "<thead>\n",
              "\t<tr><th></th><th scope=col>Date</th><th scope=col>CAC40</th></tr>\n",
              "\t<tr><th></th><th scope=col>&lt;chr&gt;</th><th scope=col>&lt;dbl&gt;</th></tr>\n",
              "</thead>\n",
              "<tbody>\n",
              "\t<tr><th scope=row>1</th><td>09/07/1987</td><td>1482.89</td></tr>\n",
              "\t<tr><th scope=row>2</th><td>10/07/1987</td><td>1490.42</td></tr>\n",
              "\t<tr><th scope=row>3</th><td>13/07/1987</td><td>1490.42</td></tr>\n",
              "\t<tr><th scope=row>4</th><td>14/07/1987</td><td>1490.42</td></tr>\n",
              "\t<tr><th scope=row>5</th><td>15/07/1987</td><td>1490.42</td></tr>\n",
              "\t<tr><th scope=row>6</th><td>16/07/1987</td><td>1474.22</td></tr>\n",
              "</tbody>\n",
              "</table>\n"
            ],
            "text/markdown": "\nA data.frame: 6 × 2\n\n| <!--/--> | Date &lt;chr&gt; | CAC40 &lt;dbl&gt; |\n|---|---|---|\n| 1 | 09/07/1987 | 1482.89 |\n| 2 | 10/07/1987 | 1490.42 |\n| 3 | 13/07/1987 | 1490.42 |\n| 4 | 14/07/1987 | 1490.42 |\n| 5 | 15/07/1987 | 1490.42 |\n| 6 | 16/07/1987 | 1474.22 |\n\n",
            "text/latex": "A data.frame: 6 × 2\n\\begin{tabular}{r|ll}\n  & Date & CAC40\\\\\n  & <chr> & <dbl>\\\\\n\\hline\n\t1 & 09/07/1987 & 1482.89\\\\\n\t2 & 10/07/1987 & 1490.42\\\\\n\t3 & 13/07/1987 & 1490.42\\\\\n\t4 & 14/07/1987 & 1490.42\\\\\n\t5 & 15/07/1987 & 1490.42\\\\\n\t6 & 16/07/1987 & 1474.22\\\\\n\\end{tabular}\n",
            "text/plain": [
              "  Date       CAC40  \n",
              "1 09/07/1987 1482.89\n",
              "2 10/07/1987 1490.42\n",
              "3 13/07/1987 1490.42\n",
              "4 14/07/1987 1490.42\n",
              "5 15/07/1987 1490.42\n",
              "6 16/07/1987 1474.22"
            ]
          },
          "metadata": {}
        }
      ],
      "source": [
        "CAC40_df_1<-read.csv2(\"cac40_datastream.csv\",dec=\".\",col.names = c('Date','CAC40'))\n",
        "head(CAC40_df_1)"
      ]
    },
    {
      "cell_type": "markdown",
      "id": "708b7cd3",
      "metadata": {
        "id": "708b7cd3"
      },
      "source": [
        "On convertit la colonne Date au format date Year/Month/Day"
      ]
    },
    {
      "cell_type": "code",
      "execution_count": 19,
      "id": "a6c75424",
      "metadata": {
        "colab": {
          "base_uri": "https://localhost:8080/",
          "height": 54
        },
        "id": "a6c75424",
        "outputId": "be690a3b-51df-42f3-fb5e-5cc1c5b5031d"
      },
      "outputs": [
        {
          "output_type": "display_data",
          "data": {
            "text/html": [
              "<style>\n",
              ".list-inline {list-style: none; margin:0; padding: 0}\n",
              ".list-inline>li {display: inline-block}\n",
              ".list-inline>li:not(:last-child)::after {content: \"\\00b7\"; padding: 0 .5ex}\n",
              "</style>\n",
              "<ol class=list-inline><li><time datetime=\"2023-06-19\">2023-06-19</time></li><li><time datetime=\"2023-06-20\">2023-06-20</time></li><li><time datetime=\"2023-06-21\">2023-06-21</time></li><li><time datetime=\"2023-06-22\">2023-06-22</time></li><li><time datetime=\"2023-06-23\">2023-06-23</time></li><li><time datetime=\"2023-06-26\">2023-06-26</time></li></ol>\n"
            ],
            "text/markdown": "1. 2023-06-19\n2. 2023-06-20\n3. 2023-06-21\n4. 2023-06-22\n5. 2023-06-23\n6. 2023-06-26\n\n\n",
            "text/latex": "\\begin{enumerate*}\n\\item 2023-06-19\n\\item 2023-06-20\n\\item 2023-06-21\n\\item 2023-06-22\n\\item 2023-06-23\n\\item 2023-06-26\n\\end{enumerate*}\n",
            "text/plain": [
              "[1] \"2023-06-19\" \"2023-06-20\" \"2023-06-21\" \"2023-06-22\" \"2023-06-23\"\n",
              "[6] \"2023-06-26\""
            ]
          },
          "metadata": {}
        }
      ],
      "source": [
        "CAC40_df_1$Date<-as.Date(CAC40_df_1$Date,format = \"%d/%m/%Y\")\n",
        "tail(CAC40_df_1$Date)\n",
        "\n",
        "\n",
        "#library(lubridate)\n",
        "#CAC40_df_1$Date<-dmy(CAC40_df_1$Date)"
      ]
    },
    {
      "cell_type": "markdown",
      "id": "235b514d",
      "metadata": {
        "id": "235b514d"
      },
      "source": [
        "On vérifie qu'il n'y a pas de données manquantes"
      ]
    },
    {
      "cell_type": "code",
      "execution_count": 20,
      "id": "5e3e2c7b",
      "metadata": {
        "colab": {
          "base_uri": "https://localhost:8080/",
          "height": 54
        },
        "id": "5e3e2c7b",
        "outputId": "56312003-2574-4962-9b1c-99ca07d47bb1"
      },
      "outputs": [
        {
          "output_type": "display_data",
          "data": {
            "text/html": [
              "<style>\n",
              ".dl-inline {width: auto; margin:0; padding: 0}\n",
              ".dl-inline>dt, .dl-inline>dd {float: none; width: auto; display: inline-block}\n",
              ".dl-inline>dt::after {content: \":\\0020\"; padding-right: .5ex}\n",
              ".dl-inline>dt:not(:first-of-type) {padding-left: .5ex}\n",
              "</style><dl class=dl-inline><dt>Date</dt><dd>0</dd><dt>CAC40</dt><dd>0</dd></dl>\n"
            ],
            "text/markdown": "Date\n:   0CAC40\n:   0\n\n",
            "text/latex": "\\begin{description*}\n\\item[Date] 0\n\\item[CAC40] 0\n\\end{description*}\n",
            "text/plain": [
              " Date CAC40 \n",
              "    0     0 "
            ]
          },
          "metadata": {}
        }
      ],
      "source": [
        "sapply(CAC40_df_1,function(x) sum(is.na(x)))"
      ]
    },
    {
      "cell_type": "markdown",
      "id": "5b70112b",
      "metadata": {
        "id": "5b70112b"
      },
      "source": [
        "Les données commencent en \"1987-07-09\". On décide d'étudier la série à partir de \"1990-01-01\" en partie pour avoir le même échantillon que les autres sources de données."
      ]
    },
    {
      "cell_type": "code",
      "execution_count": 21,
      "id": "242bdebe",
      "metadata": {
        "id": "242bdebe"
      },
      "outputs": [],
      "source": [
        "CAC40_df_1<-CAC40_df_1[CAC40_df_1$Date>=\"1990-01-01\",]"
      ]
    },
    {
      "cell_type": "markdown",
      "id": "693a02a9",
      "metadata": {
        "id": "693a02a9"
      },
      "source": [
        "#### Source : fichier csv provenant de Yahoo Finance\n",
        "Les données de Yahoo contiennent des données manquantes représentées par le terme ''null''. Avec R, \"null\" n'est pas le symbole habituel des données manquantes qui est \"na\". Dans l'importation des données à partir de la fonction read.csv, on ajoute l'option na.strings=c(\"null\") pour lui indiquer que le symbole des données manquantes dans le fichier ^FCHI.csv."
      ]
    },
    {
      "cell_type": "code",
      "execution_count": 22,
      "id": "f82df2dc",
      "metadata": {
        "colab": {
          "base_uri": "https://localhost:8080/",
          "height": 186
        },
        "id": "f82df2dc",
        "outputId": "d03b0d58-e201-403e-b219-ccaac8fe126b"
      },
      "outputs": [
        {
          "output_type": "display_data",
          "data": {
            "text/html": [
              "'data.frame'"
            ],
            "text/markdown": "'data.frame'",
            "text/latex": "'data.frame'",
            "text/plain": [
              "[1] \"data.frame\""
            ]
          },
          "metadata": {}
        },
        {
          "output_type": "stream",
          "name": "stdout",
          "text": [
            "'data.frame':\t8605 obs. of  7 variables:\n",
            " $ Date     : chr  \"1990-03-01\" \"1990-03-02\" \"1990-03-05\" \"1990-03-06\" ...\n",
            " $ Open     : num  1836 1831 1866 1869 1874 ...\n",
            " $ High     : num  1838 1860 1874 1875 1881 ...\n",
            " $ Low      : num  1827 1831 1862 1866 1874 ...\n",
            " $ Close    : num  1832 1860 1874 1872 1880 ...\n",
            " $ Adj.Close: num  1832 1860 1874 1872 1880 ...\n",
            " $ Volume   : int  0 0 0 0 0 0 0 0 0 0 ...\n"
          ]
        }
      ],
      "source": [
        "CAC40_df_2<-read.csv(\"^FCHI.csv\",na.strings=c(\"null\"))\n",
        "class(CAC40_df_2)\n",
        "str(CAC40_df_2)"
      ]
    },
    {
      "cell_type": "markdown",
      "id": "3de3feee",
      "metadata": {
        "id": "3de3feee"
      },
      "source": [
        "Décompte des données manquantes :"
      ]
    },
    {
      "cell_type": "code",
      "execution_count": 10,
      "id": "e8125cfd",
      "metadata": {
        "colab": {
          "base_uri": "https://localhost:8080/",
          "height": 54
        },
        "id": "e8125cfd",
        "outputId": "b19b2f06-c154-4ea8-d818-cc5f8c09281b"
      },
      "outputs": [
        {
          "output_type": "display_data",
          "data": {
            "text/html": [
              "<style>\n",
              ".dl-inline {width: auto; margin:0; padding: 0}\n",
              ".dl-inline>dt, .dl-inline>dd {float: none; width: auto; display: inline-block}\n",
              ".dl-inline>dt::after {content: \":\\0020\"; padding-right: .5ex}\n",
              ".dl-inline>dt:not(:first-of-type) {padding-left: .5ex}\n",
              "</style><dl class=dl-inline><dt>Date</dt><dd>0</dd><dt>Open</dt><dd>147</dd><dt>High</dt><dd>147</dd><dt>Low</dt><dd>147</dd><dt>Close</dt><dd>147</dd><dt>Adj.Close</dt><dd>147</dd><dt>Volume</dt><dd>147</dd></dl>\n"
            ],
            "text/markdown": "Date\n:   0Open\n:   147High\n:   147Low\n:   147Close\n:   147Adj.Close\n:   147Volume\n:   147\n\n",
            "text/latex": "\\begin{description*}\n\\item[Date] 0\n\\item[Open] 147\n\\item[High] 147\n\\item[Low] 147\n\\item[Close] 147\n\\item[Adj.Close] 147\n\\item[Volume] 147\n\\end{description*}\n",
            "text/plain": [
              "     Date      Open      High       Low     Close Adj.Close    Volume \n",
              "        0       147       147       147       147       147       147 "
            ]
          },
          "metadata": {}
        }
      ],
      "source": [
        "sapply(CAC40_df_2,function(x) sum(is.na(x)))"
      ]
    },
    {
      "cell_type": "markdown",
      "id": "623a6e66",
      "metadata": {
        "id": "623a6e66"
      },
      "source": [
        "Il existe plusieurs manières de gérer les données manquantes. On décide ici de supprimer les dates ayant des données manquantes car elles peuvent empécher l'éxécution de certaines fonctions de R."
      ]
    },
    {
      "cell_type": "code",
      "execution_count": 11,
      "id": "21f3fa1f",
      "metadata": {
        "colab": {
          "base_uri": "https://localhost:8080/",
          "height": 54
        },
        "id": "21f3fa1f",
        "outputId": "3ee301ce-5c53-4910-f5b0-9d3c8c8f2e2e"
      },
      "outputs": [
        {
          "output_type": "display_data",
          "data": {
            "text/html": [
              "<style>\n",
              ".dl-inline {width: auto; margin:0; padding: 0}\n",
              ".dl-inline>dt, .dl-inline>dd {float: none; width: auto; display: inline-block}\n",
              ".dl-inline>dt::after {content: \":\\0020\"; padding-right: .5ex}\n",
              ".dl-inline>dt:not(:first-of-type) {padding-left: .5ex}\n",
              "</style><dl class=dl-inline><dt>Date</dt><dd>0</dd><dt>Open</dt><dd>0</dd><dt>High</dt><dd>0</dd><dt>Low</dt><dd>0</dd><dt>Close</dt><dd>0</dd><dt>Adj.Close</dt><dd>0</dd><dt>Volume</dt><dd>0</dd></dl>\n"
            ],
            "text/markdown": "Date\n:   0Open\n:   0High\n:   0Low\n:   0Close\n:   0Adj.Close\n:   0Volume\n:   0\n\n",
            "text/latex": "\\begin{description*}\n\\item[Date] 0\n\\item[Open] 0\n\\item[High] 0\n\\item[Low] 0\n\\item[Close] 0\n\\item[Adj.Close] 0\n\\item[Volume] 0\n\\end{description*}\n",
            "text/plain": [
              "     Date      Open      High       Low     Close Adj.Close    Volume \n",
              "        0         0         0         0         0         0         0 "
            ]
          },
          "metadata": {}
        }
      ],
      "source": [
        "CAC40_df_2<-na.omit(CAC40_df_2)\n",
        "sapply(CAC40_df_2,function(x) sum(is.na(x)))"
      ]
    },
    {
      "cell_type": "markdown",
      "id": "fd28baf7",
      "metadata": {
        "id": "fd28baf7"
      },
      "source": [
        "Rappel : Les fonctions\n",
        "class() : affiche la classe d'un objet\n",
        "str() : affiche la structure d'un objet\n",
        "head() : affiche les premières lignes d'un objet\n",
        "tail() : affiche les dernières lignes d'un objet\n"
      ]
    },
    {
      "cell_type": "code",
      "execution_count": null,
      "id": "9e5e4252",
      "metadata": {
        "id": "9e5e4252",
        "outputId": "ef2b5f97-503b-41ea-8cb1-5323ed5c09f6"
      },
      "outputs": [
        {
          "data": {
            "text/html": [
              "'data.frame'"
            ],
            "text/latex": [
              "'data.frame'"
            ],
            "text/markdown": [
              "'data.frame'"
            ],
            "text/plain": [
              "[1] \"data.frame\""
            ]
          },
          "metadata": {},
          "output_type": "display_data"
        }
      ],
      "source": [
        "class(CAC40_df_2)"
      ]
    },
    {
      "cell_type": "code",
      "execution_count": 12,
      "id": "07cd35d7",
      "metadata": {
        "colab": {
          "base_uri": "https://localhost:8080/"
        },
        "id": "07cd35d7",
        "outputId": "85bc429d-b67b-4618-cbc4-38d44529d7a7"
      },
      "outputs": [
        {
          "output_type": "stream",
          "name": "stdout",
          "text": [
            "'data.frame':\t8458 obs. of  7 variables:\n",
            " $ Date     : chr  \"1990-03-01\" \"1990-03-02\" \"1990-03-05\" \"1990-03-06\" ...\n",
            " $ Open     : num  1836 1831 1866 1869 1874 ...\n",
            " $ High     : num  1838 1860 1874 1875 1881 ...\n",
            " $ Low      : num  1827 1831 1862 1866 1874 ...\n",
            " $ Close    : num  1832 1860 1874 1872 1880 ...\n",
            " $ Adj.Close: num  1832 1860 1874 1872 1880 ...\n",
            " $ Volume   : int  0 0 0 0 0 0 0 0 0 0 ...\n",
            " - attr(*, \"na.action\")= 'omit' Named int [1:147] 32 33 44 49 61 68 120 176 213 214 ...\n",
            "  ..- attr(*, \"names\")= chr [1:147] \"32\" \"33\" \"44\" \"49\" ...\n"
          ]
        }
      ],
      "source": [
        "str(CAC40_df_2)"
      ]
    },
    {
      "cell_type": "code",
      "execution_count": 13,
      "id": "74a0b5e4",
      "metadata": {
        "colab": {
          "base_uri": "https://localhost:8080/",
          "height": 560
        },
        "id": "74a0b5e4",
        "outputId": "194a9008-508f-40f3-8e70-fe9ea20b4bc3"
      },
      "outputs": [
        {
          "output_type": "display_data",
          "data": {
            "text/html": [
              "<table class=\"dataframe\">\n",
              "<caption>A data.frame: 6 × 7</caption>\n",
              "<thead>\n",
              "\t<tr><th></th><th scope=col>Date</th><th scope=col>Open</th><th scope=col>High</th><th scope=col>Low</th><th scope=col>Close</th><th scope=col>Adj.Close</th><th scope=col>Volume</th></tr>\n",
              "\t<tr><th></th><th scope=col>&lt;chr&gt;</th><th scope=col>&lt;dbl&gt;</th><th scope=col>&lt;dbl&gt;</th><th scope=col>&lt;dbl&gt;</th><th scope=col>&lt;dbl&gt;</th><th scope=col>&lt;dbl&gt;</th><th scope=col>&lt;int&gt;</th></tr>\n",
              "</thead>\n",
              "<tbody>\n",
              "\t<tr><th scope=row>1</th><td>1990-03-01</td><td>1836</td><td>1838</td><td>1827</td><td>1832</td><td>1832</td><td>0</td></tr>\n",
              "\t<tr><th scope=row>2</th><td>1990-03-02</td><td>1831</td><td>1860</td><td>1831</td><td>1860</td><td>1860</td><td>0</td></tr>\n",
              "\t<tr><th scope=row>3</th><td>1990-03-05</td><td>1866</td><td>1874</td><td>1862</td><td>1874</td><td>1874</td><td>0</td></tr>\n",
              "\t<tr><th scope=row>4</th><td>1990-03-06</td><td>1869</td><td>1875</td><td>1866</td><td>1872</td><td>1872</td><td>0</td></tr>\n",
              "\t<tr><th scope=row>5</th><td>1990-03-07</td><td>1874</td><td>1881</td><td>1874</td><td>1880</td><td>1880</td><td>0</td></tr>\n",
              "\t<tr><th scope=row>6</th><td>1990-03-08</td><td>1891</td><td>1923</td><td>1891</td><td>1917</td><td>1917</td><td>0</td></tr>\n",
              "</tbody>\n",
              "</table>\n"
            ],
            "text/markdown": "\nA data.frame: 6 × 7\n\n| <!--/--> | Date &lt;chr&gt; | Open &lt;dbl&gt; | High &lt;dbl&gt; | Low &lt;dbl&gt; | Close &lt;dbl&gt; | Adj.Close &lt;dbl&gt; | Volume &lt;int&gt; |\n|---|---|---|---|---|---|---|---|\n| 1 | 1990-03-01 | 1836 | 1838 | 1827 | 1832 | 1832 | 0 |\n| 2 | 1990-03-02 | 1831 | 1860 | 1831 | 1860 | 1860 | 0 |\n| 3 | 1990-03-05 | 1866 | 1874 | 1862 | 1874 | 1874 | 0 |\n| 4 | 1990-03-06 | 1869 | 1875 | 1866 | 1872 | 1872 | 0 |\n| 5 | 1990-03-07 | 1874 | 1881 | 1874 | 1880 | 1880 | 0 |\n| 6 | 1990-03-08 | 1891 | 1923 | 1891 | 1917 | 1917 | 0 |\n\n",
            "text/latex": "A data.frame: 6 × 7\n\\begin{tabular}{r|lllllll}\n  & Date & Open & High & Low & Close & Adj.Close & Volume\\\\\n  & <chr> & <dbl> & <dbl> & <dbl> & <dbl> & <dbl> & <int>\\\\\n\\hline\n\t1 & 1990-03-01 & 1836 & 1838 & 1827 & 1832 & 1832 & 0\\\\\n\t2 & 1990-03-02 & 1831 & 1860 & 1831 & 1860 & 1860 & 0\\\\\n\t3 & 1990-03-05 & 1866 & 1874 & 1862 & 1874 & 1874 & 0\\\\\n\t4 & 1990-03-06 & 1869 & 1875 & 1866 & 1872 & 1872 & 0\\\\\n\t5 & 1990-03-07 & 1874 & 1881 & 1874 & 1880 & 1880 & 0\\\\\n\t6 & 1990-03-08 & 1891 & 1923 & 1891 & 1917 & 1917 & 0\\\\\n\\end{tabular}\n",
            "text/plain": [
              "  Date       Open High Low  Close Adj.Close Volume\n",
              "1 1990-03-01 1836 1838 1827 1832  1832      0     \n",
              "2 1990-03-02 1831 1860 1831 1860  1860      0     \n",
              "3 1990-03-05 1866 1874 1862 1874  1874      0     \n",
              "4 1990-03-06 1869 1875 1866 1872  1872      0     \n",
              "5 1990-03-07 1874 1881 1874 1880  1880      0     \n",
              "6 1990-03-08 1891 1923 1891 1917  1917      0     "
            ]
          },
          "metadata": {}
        },
        {
          "output_type": "display_data",
          "data": {
            "text/html": [
              "<table class=\"dataframe\">\n",
              "<caption>A data.frame: 6 × 7</caption>\n",
              "<thead>\n",
              "\t<tr><th></th><th scope=col>Date</th><th scope=col>Open</th><th scope=col>High</th><th scope=col>Low</th><th scope=col>Close</th><th scope=col>Adj.Close</th><th scope=col>Volume</th></tr>\n",
              "\t<tr><th></th><th scope=col>&lt;chr&gt;</th><th scope=col>&lt;dbl&gt;</th><th scope=col>&lt;dbl&gt;</th><th scope=col>&lt;dbl&gt;</th><th scope=col>&lt;dbl&gt;</th><th scope=col>&lt;dbl&gt;</th><th scope=col>&lt;int&gt;</th></tr>\n",
              "</thead>\n",
              "<tbody>\n",
              "\t<tr><th scope=row>8600</th><td>2023-06-19</td><td>7353.31</td><td>7362.44</td><td>7302.63</td><td>7314.05</td><td>7314.05</td><td>       0</td></tr>\n",
              "\t<tr><th scope=row>8601</th><td>2023-06-20</td><td>7303.24</td><td>7322.57</td><td>7281.12</td><td>7294.17</td><td>7294.17</td><td>55853400</td></tr>\n",
              "\t<tr><th scope=row>8602</th><td>2023-06-21</td><td>7273.89</td><td>7297.85</td><td>7246.86</td><td>7260.97</td><td>7260.97</td><td>48414000</td></tr>\n",
              "\t<tr><th scope=row>8603</th><td>2023-06-22</td><td>7194.26</td><td>7206.89</td><td>7145.06</td><td>7203.28</td><td>7203.28</td><td>53704500</td></tr>\n",
              "\t<tr><th scope=row>8604</th><td>2023-06-23</td><td>7165.38</td><td>7193.78</td><td>7128.64</td><td>7163.42</td><td>7163.42</td><td>51938700</td></tr>\n",
              "\t<tr><th scope=row>8605</th><td>2023-06-26</td><td>7175.88</td><td>7203.46</td><td>7105.72</td><td>7184.35</td><td>7184.35</td><td>52606600</td></tr>\n",
              "</tbody>\n",
              "</table>\n"
            ],
            "text/markdown": "\nA data.frame: 6 × 7\n\n| <!--/--> | Date &lt;chr&gt; | Open &lt;dbl&gt; | High &lt;dbl&gt; | Low &lt;dbl&gt; | Close &lt;dbl&gt; | Adj.Close &lt;dbl&gt; | Volume &lt;int&gt; |\n|---|---|---|---|---|---|---|---|\n| 8600 | 2023-06-19 | 7353.31 | 7362.44 | 7302.63 | 7314.05 | 7314.05 |        0 |\n| 8601 | 2023-06-20 | 7303.24 | 7322.57 | 7281.12 | 7294.17 | 7294.17 | 55853400 |\n| 8602 | 2023-06-21 | 7273.89 | 7297.85 | 7246.86 | 7260.97 | 7260.97 | 48414000 |\n| 8603 | 2023-06-22 | 7194.26 | 7206.89 | 7145.06 | 7203.28 | 7203.28 | 53704500 |\n| 8604 | 2023-06-23 | 7165.38 | 7193.78 | 7128.64 | 7163.42 | 7163.42 | 51938700 |\n| 8605 | 2023-06-26 | 7175.88 | 7203.46 | 7105.72 | 7184.35 | 7184.35 | 52606600 |\n\n",
            "text/latex": "A data.frame: 6 × 7\n\\begin{tabular}{r|lllllll}\n  & Date & Open & High & Low & Close & Adj.Close & Volume\\\\\n  & <chr> & <dbl> & <dbl> & <dbl> & <dbl> & <dbl> & <int>\\\\\n\\hline\n\t8600 & 2023-06-19 & 7353.31 & 7362.44 & 7302.63 & 7314.05 & 7314.05 &        0\\\\\n\t8601 & 2023-06-20 & 7303.24 & 7322.57 & 7281.12 & 7294.17 & 7294.17 & 55853400\\\\\n\t8602 & 2023-06-21 & 7273.89 & 7297.85 & 7246.86 & 7260.97 & 7260.97 & 48414000\\\\\n\t8603 & 2023-06-22 & 7194.26 & 7206.89 & 7145.06 & 7203.28 & 7203.28 & 53704500\\\\\n\t8604 & 2023-06-23 & 7165.38 & 7193.78 & 7128.64 & 7163.42 & 7163.42 & 51938700\\\\\n\t8605 & 2023-06-26 & 7175.88 & 7203.46 & 7105.72 & 7184.35 & 7184.35 & 52606600\\\\\n\\end{tabular}\n",
            "text/plain": [
              "     Date       Open    High    Low     Close   Adj.Close Volume  \n",
              "8600 2023-06-19 7353.31 7362.44 7302.63 7314.05 7314.05          0\n",
              "8601 2023-06-20 7303.24 7322.57 7281.12 7294.17 7294.17   55853400\n",
              "8602 2023-06-21 7273.89 7297.85 7246.86 7260.97 7260.97   48414000\n",
              "8603 2023-06-22 7194.26 7206.89 7145.06 7203.28 7203.28   53704500\n",
              "8604 2023-06-23 7165.38 7193.78 7128.64 7163.42 7163.42   51938700\n",
              "8605 2023-06-26 7175.88 7203.46 7105.72 7184.35 7184.35   52606600"
            ]
          },
          "metadata": {}
        }
      ],
      "source": [
        "head(CAC40_df_2)\n",
        "tail(CAC40_df_2)"
      ]
    },
    {
      "cell_type": "markdown",
      "id": "244548d7",
      "metadata": {
        "id": "244548d7"
      },
      "source": [
        "### Option 2 : Importation des données à partir d'un site internet\n",
        "\n",
        "#### librairie quantmod"
      ]
    },
    {
      "cell_type": "code",
      "execution_count": 14,
      "id": "37d8c3cd",
      "metadata": {
        "colab": {
          "base_uri": "https://localhost:8080/"
        },
        "id": "37d8c3cd",
        "outputId": "e14ce8d6-762e-4f22-e404-d38d57c1e6e1"
      },
      "outputs": [
        {
          "output_type": "stream",
          "name": "stderr",
          "text": [
            "Installing package into ‘/usr/local/lib/R/site-library’\n",
            "(as ‘lib’ is unspecified)\n",
            "\n",
            "also installing the dependencies ‘lazyeval’, ‘Rcpp’, ‘later’, ‘crosstalk’, ‘promises’, ‘DT’, ‘data.tree’, ‘htmlwidgets’\n",
            "\n",
            "\n"
          ]
        }
      ],
      "source": [
        "install.packages('TT')"
      ]
    },
    {
      "cell_type": "code",
      "execution_count": null,
      "id": "b58f36b9",
      "metadata": {
        "id": "b58f36b9",
        "outputId": "6deb7018-e796-4996-9ea6-73bd1b7837a5"
      },
      "outputs": [
        {
          "name": "stderr",
          "output_type": "stream",
          "text": [
            "Loading required package: xts\n",
            "Loading required package: zoo\n",
            "\n",
            "Attaching package: 'zoo'\n",
            "\n",
            "The following objects are masked from 'package:base':\n",
            "\n",
            "    as.Date, as.Date.numeric\n",
            "\n",
            "Registered S3 method overwritten by 'xts':\n",
            "  method     from\n",
            "  as.zoo.xts zoo \n",
            "Loading required package: TTR\n",
            "Registered S3 method overwritten by 'quantmod':\n",
            "  method            from\n",
            "  as.zoo.data.frame zoo \n",
            "Version 0.4-0 included new data defaults. See ?getSymbols.\n",
            "'getSymbols' currently uses auto.assign=TRUE by default, but will\n",
            "use auto.assign=FALSE in 0.5-0. You will still be able to use\n",
            "'loadSymbols' to automatically load data. getOption(\"getSymbols.env\")\n",
            "and getOption(\"getSymbols.auto.assign\") will still be checked for\n",
            "alternate defaults.\n",
            "\n",
            "This message is shown once per session and may be disabled by setting \n",
            "options(\"getSymbols.warning4.0\"=FALSE). See ?getSymbols for details.\n",
            "\n"
          ]
        },
        {
          "ename": "ERROR",
          "evalue": "Error in new.session(): Could not establish session after 5 attempts.\n",
          "output_type": "error",
          "traceback": [
            "Error in new.session(): Could not establish session after 5 attempts.\nTraceback:\n",
            "1. getSymbols(\"^FCHI\", auto.assign = FALSE, from = \"1990-01-01\")",
            "2. do.call(paste(\"getSymbols.\", symbol.source, sep = \"\"), list(Symbols = current.symbols, \n .     env = env, verbose = verbose, warnings = warnings, auto.assign = auto.assign, \n .     ..., .has1sym. = .has1sym.))",
            "3. getSymbols.yahoo(Symbols = \"^FCHI\", env = <environment>, verbose = FALSE, \n .     warnings = TRUE, auto.assign = FALSE, from = \"1990-01-01\", \n .     .has1sym. = TRUE)",
            "4. .getHandle(curl.options)",
            "5. new.session()",
            "6. stop(\"Could not establish session after 5 attempts.\")"
          ]
        }
      ],
      "source": [
        "library(TT)\n",
        "library(quantmod)\n",
        "\n",
        "\n",
        "CAC40 <-getSymbols('^FCHI',auto.assign = FALSE,from ='1990-01-01')\n",
        "class(CAC40) # an xts object\n",
        "\n",
        "CAC40_df<-data.frame(date=index(CAC40),coredata(CAC40))# conversion xts en dataframe avec les dates comme indices\n",
        "colnames(CAC40_df)<-c(\"Date\",\"Open\",\"High\",\"Low\",\"Close\",\"Vol\",\"Adj.Close\")\n",
        "sapply(CAC40_df,function(x) sum(is.na(x)))\n",
        "CAC40_df<-na.omit(CAC40_df)\n",
        "sapply(CAC40_df,function(x) sum(is.na(x)))\n",
        "class(CAC40_df)"
      ]
    },
    {
      "cell_type": "code",
      "execution_count": null,
      "id": "fc5cca4e",
      "metadata": {
        "id": "fc5cca4e",
        "outputId": "94dc67a7-4b8d-4a30-947f-f3b63557b1c2"
      },
      "outputs": [
        {
          "ename": "ERROR",
          "evalue": "Error in head(CAC40_df): objet 'CAC40_df' introuvable\n",
          "output_type": "error",
          "traceback": [
            "Error in head(CAC40_df): objet 'CAC40_df' introuvable\nTraceback:\n",
            "1. head(CAC40_df)"
          ]
        }
      ],
      "source": [
        "head(CAC40_df)"
      ]
    },
    {
      "cell_type": "markdown",
      "id": "8e6dccdf",
      "metadata": {
        "id": "8e6dccdf"
      },
      "source": [
        "### Utilisation de la librairie yahoofinancer\n",
        "Il existe aussi la librairie yahoofinancer mais elle ne semble pas capable d'importer des données dès qu'elles contiennent des observations manquantes. On importe ici des données mensuelles et non quotidiennes.\n"
      ]
    },
    {
      "cell_type": "code",
      "execution_count": null,
      "id": "57c1aa68",
      "metadata": {
        "id": "57c1aa68",
        "outputId": "139032a7-3a94-4caf-922b-94d8f186f24f"
      },
      "outputs": [
        {
          "name": "stdout",
          "output_type": "stream",
          "text": [
            "\n",
            "Les packages binaires téléchargés sont dans\n",
            "\t/var/folders/xg/0g_n267j1qgbrh2hgn3w9nnc0000gp/T//RtmpywTKWU/downloaded_packages\n"
          ]
        }
      ],
      "source": [
        "install.packages('yahoofinancer')"
      ]
    },
    {
      "cell_type": "code",
      "execution_count": null,
      "id": "d9035891",
      "metadata": {
        "id": "d9035891"
      },
      "outputs": [],
      "source": [
        "library(yahoofinancer)\n",
        "cac40<-Index$new('^FCHI')\n",
        "cac40_data<-cac40$get_history(start = '1990-01-01',interval = '1mo')"
      ]
    },
    {
      "cell_type": "markdown",
      "id": "d8f75ee8",
      "metadata": {
        "id": "d8f75ee8"
      },
      "source": [
        "## Représentation graphique de l'indice CAC40\n",
        "On utilise les données importées via quantmod.\n"
      ]
    },
    {
      "cell_type": "code",
      "execution_count": null,
      "id": "48bc14c8",
      "metadata": {
        "id": "48bc14c8",
        "outputId": "5190fa71-5004-4b04-cfac-f935f34c99a9"
      },
      "outputs": [
        {
          "name": "stderr",
          "output_type": "stream",
          "text": [
            "also installing the dependencies 'cli', 'lifecycle', 'rlang', 'scales', 'vctrs'\n",
            "\n"
          ]
        },
        {
          "name": "stdout",
          "output_type": "stream",
          "text": [
            "\n",
            "  There are binary versions available but the source versions are later:\n",
            "          binary source needs_compilation\n",
            "cli        2.5.0  3.6.1              TRUE\n",
            "lifecycle  1.0.0  1.0.3             FALSE\n",
            "rlang     0.4.11  1.1.1              TRUE\n",
            "scales     1.1.1  1.2.1             FALSE\n",
            "vctrs      0.3.8  0.6.3              TRUE\n",
            "ggplot2    3.3.3  3.4.2             FALSE\n",
            "\n",
            "  Binaries will be installed\n",
            "package 'cli' successfully unpacked and MD5 sums checked\n",
            "package 'rlang' successfully unpacked and MD5 sums checked\n"
          ]
        },
        {
          "name": "stderr",
          "output_type": "stream",
          "text": [
            "Warning message:\n",
            "\"cannot remove prior installation of package 'rlang'\"Warning message in file.copy(savedcopy, lib, recursive = TRUE):\n",
            "\"problème lors de la copie de C:\\Users\\ylepen\\Anaconda3\\envs\\r-tutorial\\Lib\\R\\library\\00LOCK\\rlang\\libs\\x64\\rlang.dll vers C:\\Users\\ylepen\\Anaconda3\\envs\\r-tutorial\\Lib\\R\\library\\rlang\\libs\\x64\\rlang.dll: Permission denied\"Warning message:\n",
            "\"restored 'rlang'\""
          ]
        },
        {
          "name": "stdout",
          "output_type": "stream",
          "text": [
            "package 'vctrs' successfully unpacked and MD5 sums checked\n",
            "\n",
            "The downloaded binary packages are in\n",
            "\tC:\\Users\\ylepen\\AppData\\Local\\Temp\\RtmporXieq\\downloaded_packages\n"
          ]
        },
        {
          "name": "stderr",
          "output_type": "stream",
          "text": [
            "installing the source packages 'lifecycle', 'scales', 'ggplot2'\n",
            "\n",
            "Warning message in install.packages(\"ggplot2\"):\n",
            "\"installation of package 'lifecycle' had non-zero exit status\"Warning message in install.packages(\"ggplot2\"):\n",
            "\"installation of package 'scales' had non-zero exit status\"Warning message in install.packages(\"ggplot2\"):\n",
            "\"installation of package 'ggplot2' had non-zero exit status\""
          ]
        }
      ],
      "source": [
        "#install.packages(c('cli','lifecycle','rlang','scales','vctrs'))\n",
        "install.packages('ggplot2')\n"
      ]
    },
    {
      "cell_type": "code",
      "execution_count": null,
      "id": "9043ee54",
      "metadata": {
        "id": "9043ee54",
        "outputId": "fc3b5e0b-0a0e-4158-ea85-210d10e7cf0a"
      },
      "outputs": [
        {
          "ename": "ERROR",
          "evalue": "Error in library(ggplot2): there is no package called 'ggplot2'\n",
          "output_type": "error",
          "traceback": [
            "Error in library(ggplot2): there is no package called 'ggplot2'\nTraceback:\n",
            "1. library(ggplot2)"
          ]
        }
      ],
      "source": [
        "library(ggplot2)\n",
        "p1<-ggplot(data=CAC40_df,aes(x=Date,y=Adj.Close))+geom_line(colour='blue')+ggtitle('Indice CAC 40 en log')+xlab('date')+ylab('indice en log')+theme_bw()+theme(plot.title = element_text(hjust = 0.5))\n",
        "p1"
      ]
    },
    {
      "cell_type": "code",
      "execution_count": null,
      "id": "a6e85473",
      "metadata": {
        "id": "a6e85473"
      },
      "outputs": [],
      "source": []
    }
  ],
  "metadata": {
    "kernelspec": {
      "display_name": "R",
      "language": "R",
      "name": "ir"
    },
    "language_info": {
      "codemirror_mode": "r",
      "file_extension": ".r",
      "mimetype": "text/x-r-source",
      "name": "R",
      "pygments_lexer": "r",
      "version": "3.6.1"
    },
    "colab": {
      "provenance": []
    }
  },
  "nbformat": 4,
  "nbformat_minor": 5
}
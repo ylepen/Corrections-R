{
 "cells": [
  {
   "cell_type": "markdown",
   "id": "75039164",
   "metadata": {},
   "source": [
    "# Chapitre I, exercice 4 : Etude préliminaire du CAC 40\n",
    "\n",
    "## Importation des données\n",
    "\n",
    "### Option 1 : à partir d'un fichier de données\n",
    "\n",
    "#### Source : Datastream\n",
    "\n",
    "Datastream est une base de données payante accessible à la BU Dauphine. Elle présente l'avantage de fournir des données complètes. Le séparateur de décimale est le point \".\""
   ]
  },
  {
   "cell_type": "code",
<<<<<<< Updated upstream
   "execution_count": 2,
=======
   "execution_count": 7,
>>>>>>> Stashed changes
   "id": "0445784d",
   "metadata": {},
   "outputs": [
    {
     "data": {
      "text/html": [
<<<<<<< Updated upstream
       "<table class=\"dataframe\">\n",
       "<caption>A data.frame: 6 × 2</caption>\n",
       "<thead>\n",
       "\t<tr><th></th><th scope=col>Date</th><th scope=col>CAC40</th></tr>\n",
       "\t<tr><th></th><th scope=col>&lt;chr&gt;</th><th scope=col>&lt;dbl&gt;</th></tr>\n",
       "</thead>\n",
       "<tbody>\n",
       "\t<tr><th scope=row>1</th><td>09/07/1987</td><td>1482.89</td></tr>\n",
       "\t<tr><th scope=row>2</th><td>10/07/1987</td><td>1490.42</td></tr>\n",
       "\t<tr><th scope=row>3</th><td>13/07/1987</td><td>1490.42</td></tr>\n",
       "\t<tr><th scope=row>4</th><td>14/07/1987</td><td>1490.42</td></tr>\n",
       "\t<tr><th scope=row>5</th><td>15/07/1987</td><td>1490.42</td></tr>\n",
       "\t<tr><th scope=row>6</th><td>16/07/1987</td><td>1474.22</td></tr>\n",
=======
       "<table>\n",
       "<thead><tr><th scope=col>Date</th><th scope=col>CAC40</th></tr></thead>\n",
       "<tbody>\n",
       "\t<tr><td>09/07/1987</td><td>1482.89   </td></tr>\n",
       "\t<tr><td>10/07/1987</td><td>1490.42   </td></tr>\n",
       "\t<tr><td>13/07/1987</td><td>1490.42   </td></tr>\n",
       "\t<tr><td>14/07/1987</td><td>1490.42   </td></tr>\n",
       "\t<tr><td>15/07/1987</td><td>1490.42   </td></tr>\n",
       "\t<tr><td>16/07/1987</td><td>1474.22   </td></tr>\n",
>>>>>>> Stashed changes
       "</tbody>\n",
       "</table>\n"
      ],
      "text/latex": [
<<<<<<< Updated upstream
       "A data.frame: 6 × 2\n",
       "\\begin{tabular}{r|ll}\n",
       "  & Date & CAC40\\\\\n",
       "  & <chr> & <dbl>\\\\\n",
       "\\hline\n",
       "\t1 & 09/07/1987 & 1482.89\\\\\n",
       "\t2 & 10/07/1987 & 1490.42\\\\\n",
       "\t3 & 13/07/1987 & 1490.42\\\\\n",
       "\t4 & 14/07/1987 & 1490.42\\\\\n",
       "\t5 & 15/07/1987 & 1490.42\\\\\n",
       "\t6 & 16/07/1987 & 1474.22\\\\\n",
=======
       "\\begin{tabular}{r|ll}\n",
       " Date & CAC40\\\\\n",
       "\\hline\n",
       "\t 09/07/1987 & 1482.89   \\\\\n",
       "\t 10/07/1987 & 1490.42   \\\\\n",
       "\t 13/07/1987 & 1490.42   \\\\\n",
       "\t 14/07/1987 & 1490.42   \\\\\n",
       "\t 15/07/1987 & 1490.42   \\\\\n",
       "\t 16/07/1987 & 1474.22   \\\\\n",
>>>>>>> Stashed changes
       "\\end{tabular}\n"
      ],
      "text/markdown": [
       "\n",
<<<<<<< Updated upstream
       "A data.frame: 6 × 2\n",
       "\n",
       "| <!--/--> | Date &lt;chr&gt; | CAC40 &lt;dbl&gt; |\n",
       "|---|---|---|\n",
       "| 1 | 09/07/1987 | 1482.89 |\n",
       "| 2 | 10/07/1987 | 1490.42 |\n",
       "| 3 | 13/07/1987 | 1490.42 |\n",
       "| 4 | 14/07/1987 | 1490.42 |\n",
       "| 5 | 15/07/1987 | 1490.42 |\n",
       "| 6 | 16/07/1987 | 1474.22 |\n",
=======
       "| Date | CAC40 |\n",
       "|---|---|\n",
       "| 09/07/1987 | 1482.89    |\n",
       "| 10/07/1987 | 1490.42    |\n",
       "| 13/07/1987 | 1490.42    |\n",
       "| 14/07/1987 | 1490.42    |\n",
       "| 15/07/1987 | 1490.42    |\n",
       "| 16/07/1987 | 1474.22    |\n",
>>>>>>> Stashed changes
       "\n"
      ],
      "text/plain": [
       "  Date       CAC40  \n",
       "1 09/07/1987 1482.89\n",
       "2 10/07/1987 1490.42\n",
       "3 13/07/1987 1490.42\n",
       "4 14/07/1987 1490.42\n",
       "5 15/07/1987 1490.42\n",
       "6 16/07/1987 1474.22"
      ]
     },
     "metadata": {},
     "output_type": "display_data"
    }
   ],
   "source": [
    "CAC40_df_1<-read.csv2(\"./data/cac40_datastream.csv\",dec=\".\",col.names = c('Date','CAC40'))\n",
    "head(CAC40_df_1)"
   ]
  },
  {
   "cell_type": "markdown",
   "id": "708b7cd3",
   "metadata": {},
   "source": [
    "On convertit la colonne Date au format date Year/Month/Day"
   ]
  },
  {
   "cell_type": "code",
<<<<<<< Updated upstream
   "execution_count": 3,
=======
   "execution_count": 8,
>>>>>>> Stashed changes
   "id": "a6c75424",
   "metadata": {},
   "outputs": [
    {
     "data": {
      "text/html": [
<<<<<<< Updated upstream
       "<style>\n",
       ".list-inline {list-style: none; margin:0; padding: 0}\n",
       ".list-inline>li {display: inline-block}\n",
       ".list-inline>li:not(:last-child)::after {content: \"\\00b7\"; padding: 0 .5ex}\n",
       "</style>\n",
       "<ol class=list-inline><li><time datetime=\"2023-06-19\">2023-06-19</time></li><li><time datetime=\"2023-06-20\">2023-06-20</time></li><li><time datetime=\"2023-06-21\">2023-06-21</time></li><li><time datetime=\"2023-06-22\">2023-06-22</time></li><li><time datetime=\"2023-06-23\">2023-06-23</time></li><li><time datetime=\"2023-06-26\">2023-06-26</time></li></ol>\n"
=======
       "<ol class=list-inline>\n",
       "\t<li><time datetime=\"2023-06-19\">2023-06-19</time></li>\n",
       "\t<li><time datetime=\"2023-06-20\">2023-06-20</time></li>\n",
       "\t<li><time datetime=\"2023-06-21\">2023-06-21</time></li>\n",
       "\t<li><time datetime=\"2023-06-22\">2023-06-22</time></li>\n",
       "\t<li><time datetime=\"2023-06-23\">2023-06-23</time></li>\n",
       "\t<li><time datetime=\"2023-06-26\">2023-06-26</time></li>\n",
       "</ol>\n"
>>>>>>> Stashed changes
      ],
      "text/latex": [
       "\\begin{enumerate*}\n",
       "\\item 2023-06-19\n",
       "\\item 2023-06-20\n",
       "\\item 2023-06-21\n",
       "\\item 2023-06-22\n",
       "\\item 2023-06-23\n",
       "\\item 2023-06-26\n",
       "\\end{enumerate*}\n"
      ],
      "text/markdown": [
       "1. 2023-06-19\n",
       "2. 2023-06-20\n",
       "3. 2023-06-21\n",
       "4. 2023-06-22\n",
       "5. 2023-06-23\n",
       "6. 2023-06-26\n",
       "\n",
       "\n"
      ],
      "text/plain": [
       "[1] \"2023-06-19\" \"2023-06-20\" \"2023-06-21\" \"2023-06-22\" \"2023-06-23\"\n",
       "[6] \"2023-06-26\""
      ]
     },
     "metadata": {},
     "output_type": "display_data"
    }
   ],
   "source": [
    "CAC40_df_1$Date<-as.Date(CAC40_df_1$Date,format = \"%d/%m/%Y\")\n",
    "tail(CAC40_df_1$Date)\n",
    "\n",
    "\n",
    "#library(lubridate)\n",
    "#CAC40_df_1$Date<-dmy(CAC40_df_1$Date)"
   ]
  },
  {
<<<<<<< Updated upstream
   "cell_type": "markdown",
   "id": "235b514d",
   "metadata": {},
=======
   "cell_type": "code",
   "execution_count": null,
   "id": "7d1f3e64",
   "metadata": {},
   "outputs": [],
>>>>>>> Stashed changes
   "source": [
    "On vérifie qu'il n'y a pas de données manquantes"
   ]
  },
  {
   "cell_type": "code",
<<<<<<< Updated upstream
   "execution_count": 4,
=======
   "execution_count": 9,
>>>>>>> Stashed changes
   "id": "5e3e2c7b",
   "metadata": {},
   "outputs": [
    {
     "data": {
      "text/html": [
<<<<<<< Updated upstream
       "<style>\n",
       ".dl-inline {width: auto; margin:0; padding: 0}\n",
       ".dl-inline>dt, .dl-inline>dd {float: none; width: auto; display: inline-block}\n",
       ".dl-inline>dt::after {content: \":\\0020\"; padding-right: .5ex}\n",
       ".dl-inline>dt:not(:first-of-type) {padding-left: .5ex}\n",
       "</style><dl class=dl-inline><dt>Date</dt><dd>0</dd><dt>CAC40</dt><dd>0</dd></dl>\n"
=======
       "<dl class=dl-horizontal>\n",
       "\t<dt>Date</dt>\n",
       "\t\t<dd>0</dd>\n",
       "\t<dt>CAC40</dt>\n",
       "\t\t<dd>0</dd>\n",
       "</dl>\n"
>>>>>>> Stashed changes
      ],
      "text/latex": [
       "\\begin{description*}\n",
       "\\item[Date] 0\n",
       "\\item[CAC40] 0\n",
       "\\end{description*}\n"
      ],
      "text/markdown": [
       "Date\n",
       ":   0CAC40\n",
       ":   0\n",
       "\n"
      ],
      "text/plain": [
       " Date CAC40 \n",
       "    0     0 "
      ]
     },
     "metadata": {},
     "output_type": "display_data"
    }
   ],
   "source": [
    "sapply(CAC40_df_1,function(x) sum(is.na(x)))"
   ]
  },
  {
   "cell_type": "markdown",
   "id": "5b70112b",
   "metadata": {},
   "source": [
    "Les données commencent en \"1987-07-09\". On décide d'étudier la série à partir de \"1990-01-01\" en partie pour avoir le même échantillon que les autres sources de données."
   ]
  },
  {
   "cell_type": "code",
<<<<<<< Updated upstream
   "execution_count": 5,
=======
   "execution_count": 10,
>>>>>>> Stashed changes
   "id": "242bdebe",
   "metadata": {},
   "outputs": [],
   "source": [
    "CAC40_df_1<-CAC40_df_1[CAC40_df_1$Date>=\"1990-01-01\",]"
   ]
  },
  {
   "cell_type": "markdown",
   "id": "693a02a9",
   "metadata": {},
   "source": [
    "#### Source : fichier csv provenant de Yahoo Finance\n",
    "Les données de Yahoo contiennent des données manquantes représentées par le terme ''null''. Avec R, \"null\" n'est pas le symbole habituel des données manquantes qui est \"na\". Dans l'importation des données à partir de la fonction read.csv, on ajoute l'option na.strings=c(\"null\") pour lui indiquer que le symbole des données manquantes dans le fichier ^FCHI.csv."
   ]
  },
  {
   "cell_type": "code",
<<<<<<< Updated upstream
   "execution_count": 7,
=======
   "execution_count": 12,
>>>>>>> Stashed changes
   "id": "f82df2dc",
   "metadata": {},
   "outputs": [
    {
     "data": {
      "text/html": [
       "'data.frame'"
      ],
      "text/latex": [
       "'data.frame'"
      ],
      "text/markdown": [
       "'data.frame'"
      ],
      "text/plain": [
       "[1] \"data.frame\""
      ]
     },
     "metadata": {},
     "output_type": "display_data"
    },
    {
     "name": "stdout",
     "output_type": "stream",
     "text": [
      "'data.frame':\t8605 obs. of  7 variables:\n",
<<<<<<< Updated upstream
      " $ Date     : chr  \"1990-03-01\" \"1990-03-02\" \"1990-03-05\" \"1990-03-06\" ...\n",
=======
      " $ Date     : Factor w/ 8605 levels \"1990-03-01\",\"1990-03-02\",..: 1 2 3 4 5 6 7 8 9 10 ...\n",
>>>>>>> Stashed changes
      " $ Open     : num  1836 1831 1866 1869 1874 ...\n",
      " $ High     : num  1838 1860 1874 1875 1881 ...\n",
      " $ Low      : num  1827 1831 1862 1866 1874 ...\n",
      " $ Close    : num  1832 1860 1874 1872 1880 ...\n",
      " $ Adj.Close: num  1832 1860 1874 1872 1880 ...\n",
      " $ Volume   : int  0 0 0 0 0 0 0 0 0 0 ...\n"
     ]
    }
   ],
   "source": [
    "library(readr)\n",
<<<<<<< Updated upstream
    "CAC40_df_2<-read.csv(\"./data/^FCHI.csv\",na.strings=c(\"null\"))\n",
=======
    "CAC40_df_2<-read.csv(\"C:\\\\users\\\\ylepen\\\\Documents\\\\COURS dauphine\\\\econometrie II\\\\data exercice\\\\^FCHI.csv\",na.strings=c(\"null\"))\n",
>>>>>>> Stashed changes
    "class(CAC40_df_2)\n",
    "str(CAC40_df_2)"
   ]
  },
  {
   "cell_type": "markdown",
   "id": "3de3feee",
   "metadata": {},
   "source": [
    "Décompte des données manquantes : "
   ]
  },
  {
   "cell_type": "code",
<<<<<<< Updated upstream
   "execution_count": 8,
=======
   "execution_count": 13,
>>>>>>> Stashed changes
   "id": "e8125cfd",
   "metadata": {},
   "outputs": [
    {
     "data": {
      "text/html": [
<<<<<<< Updated upstream
       "<style>\n",
       ".dl-inline {width: auto; margin:0; padding: 0}\n",
       ".dl-inline>dt, .dl-inline>dd {float: none; width: auto; display: inline-block}\n",
       ".dl-inline>dt::after {content: \":\\0020\"; padding-right: .5ex}\n",
       ".dl-inline>dt:not(:first-of-type) {padding-left: .5ex}\n",
       "</style><dl class=dl-inline><dt>Date</dt><dd>0</dd><dt>Open</dt><dd>147</dd><dt>High</dt><dd>147</dd><dt>Low</dt><dd>147</dd><dt>Close</dt><dd>147</dd><dt>Adj.Close</dt><dd>147</dd><dt>Volume</dt><dd>147</dd></dl>\n"
=======
       "<dl class=dl-horizontal>\n",
       "\t<dt>Date</dt>\n",
       "\t\t<dd>0</dd>\n",
       "\t<dt>Open</dt>\n",
       "\t\t<dd>147</dd>\n",
       "\t<dt>High</dt>\n",
       "\t\t<dd>147</dd>\n",
       "\t<dt>Low</dt>\n",
       "\t\t<dd>147</dd>\n",
       "\t<dt>Close</dt>\n",
       "\t\t<dd>147</dd>\n",
       "\t<dt>Adj.Close</dt>\n",
       "\t\t<dd>147</dd>\n",
       "\t<dt>Volume</dt>\n",
       "\t\t<dd>147</dd>\n",
       "</dl>\n"
>>>>>>> Stashed changes
      ],
      "text/latex": [
       "\\begin{description*}\n",
       "\\item[Date] 0\n",
       "\\item[Open] 147\n",
       "\\item[High] 147\n",
       "\\item[Low] 147\n",
       "\\item[Close] 147\n",
       "\\item[Adj.Close] 147\n",
       "\\item[Volume] 147\n",
       "\\end{description*}\n"
      ],
      "text/markdown": [
       "Date\n",
       ":   0Open\n",
       ":   147High\n",
       ":   147Low\n",
       ":   147Close\n",
       ":   147Adj.Close\n",
       ":   147Volume\n",
       ":   147\n",
       "\n"
      ],
      "text/plain": [
       "     Date      Open      High       Low     Close Adj.Close    Volume \n",
       "        0       147       147       147       147       147       147 "
      ]
     },
     "metadata": {},
     "output_type": "display_data"
    }
   ],
   "source": [
    "sapply(CAC40_df_2,function(x) sum(is.na(x)))"
   ]
  },
  {
   "cell_type": "markdown",
   "id": "623a6e66",
   "metadata": {},
   "source": [
    "Il existe plusieurs manières de gérer les données manquantes. On décide ici de supprimer les dates ayant des données manquantes car elles peuvent empécher l'éxécution de certaines fonctions de R. "
   ]
  },
  {
   "cell_type": "code",
<<<<<<< Updated upstream
   "execution_count": 9,
   "id": "21f3fa1f",
   "metadata": {},
   "outputs": [
    {
     "data": {
      "text/html": [
       "<style>\n",
       ".dl-inline {width: auto; margin:0; padding: 0}\n",
       ".dl-inline>dt, .dl-inline>dd {float: none; width: auto; display: inline-block}\n",
       ".dl-inline>dt::after {content: \":\\0020\"; padding-right: .5ex}\n",
       ".dl-inline>dt:not(:first-of-type) {padding-left: .5ex}\n",
       "</style><dl class=dl-inline><dt>Date</dt><dd>0</dd><dt>Open</dt><dd>0</dd><dt>High</dt><dd>0</dd><dt>Low</dt><dd>0</dd><dt>Close</dt><dd>0</dd><dt>Adj.Close</dt><dd>0</dd><dt>Volume</dt><dd>0</dd></dl>\n"
      ],
      "text/latex": [
       "\\begin{description*}\n",
       "\\item[Date] 0\n",
       "\\item[Open] 0\n",
       "\\item[High] 0\n",
       "\\item[Low] 0\n",
       "\\item[Close] 0\n",
       "\\item[Adj.Close] 0\n",
       "\\item[Volume] 0\n",
       "\\end{description*}\n"
      ],
      "text/markdown": [
       "Date\n",
       ":   0Open\n",
       ":   0High\n",
       ":   0Low\n",
       ":   0Close\n",
       ":   0Adj.Close\n",
       ":   0Volume\n",
       ":   0\n",
       "\n"
      ],
      "text/plain": [
       "     Date      Open      High       Low     Close Adj.Close    Volume \n",
       "        0         0         0         0         0         0         0 "
      ]
     },
     "metadata": {},
     "output_type": "display_data"
    }
   ],
=======
   "execution_count": null,
   "id": "21f3fa1f",
   "metadata": {},
   "outputs": [],
>>>>>>> Stashed changes
   "source": [
    "CAC40_df_2<-na.omit(CAC40_df_2)\n",
    "sapply(CAC40_df_2,function(x) sum(is.na(x)))"
   ]
<<<<<<< Updated upstream
  },
  {
   "cell_type": "markdown",
   "id": "fd28baf7",
   "metadata": {},
   "source": [
    "Rappel : Les fonctions \n",
    "class() : affiche la classe d'un objet\n",
    "str() : affiche la structure d'un objet\n",
    "head() : affiche les premières lignes d'un objet\n",
    "tail() : affiche les dernières lignes d'un objet\n"
   ]
  },
  {
   "cell_type": "code",
   "execution_count": 10,
   "id": "9e5e4252",
   "metadata": {},
   "outputs": [
    {
     "data": {
      "text/html": [
       "'data.frame'"
      ],
      "text/latex": [
       "'data.frame'"
      ],
      "text/markdown": [
       "'data.frame'"
      ],
      "text/plain": [
       "[1] \"data.frame\""
      ]
     },
     "metadata": {},
     "output_type": "display_data"
    }
   ],
   "source": [
    "class(CAC40_df_2)"
   ]
  },
  {
   "cell_type": "code",
   "execution_count": 11,
   "id": "07cd35d7",
   "metadata": {},
   "outputs": [
    {
     "name": "stdout",
     "output_type": "stream",
     "text": [
      "'data.frame':\t8458 obs. of  7 variables:\n",
      " $ Date     : chr  \"1990-03-01\" \"1990-03-02\" \"1990-03-05\" \"1990-03-06\" ...\n",
      " $ Open     : num  1836 1831 1866 1869 1874 ...\n",
      " $ High     : num  1838 1860 1874 1875 1881 ...\n",
      " $ Low      : num  1827 1831 1862 1866 1874 ...\n",
      " $ Close    : num  1832 1860 1874 1872 1880 ...\n",
      " $ Adj.Close: num  1832 1860 1874 1872 1880 ...\n",
      " $ Volume   : int  0 0 0 0 0 0 0 0 0 0 ...\n",
      " - attr(*, \"na.action\")= 'omit' Named int [1:147] 32 33 44 49 61 68 120 176 213 214 ...\n",
      "  ..- attr(*, \"names\")= chr [1:147] \"32\" \"33\" \"44\" \"49\" ...\n"
     ]
    }
   ],
   "source": [
    "str(CAC40_df_2)"
   ]
  },
  {
   "cell_type": "code",
   "execution_count": 12,
   "id": "74a0b5e4",
   "metadata": {},
   "outputs": [
    {
     "data": {
      "text/html": [
       "<table class=\"dataframe\">\n",
       "<caption>A data.frame: 6 × 7</caption>\n",
       "<thead>\n",
       "\t<tr><th></th><th scope=col>Date</th><th scope=col>Open</th><th scope=col>High</th><th scope=col>Low</th><th scope=col>Close</th><th scope=col>Adj.Close</th><th scope=col>Volume</th></tr>\n",
       "\t<tr><th></th><th scope=col>&lt;chr&gt;</th><th scope=col>&lt;dbl&gt;</th><th scope=col>&lt;dbl&gt;</th><th scope=col>&lt;dbl&gt;</th><th scope=col>&lt;dbl&gt;</th><th scope=col>&lt;dbl&gt;</th><th scope=col>&lt;int&gt;</th></tr>\n",
       "</thead>\n",
       "<tbody>\n",
       "\t<tr><th scope=row>1</th><td>1990-03-01</td><td>1836</td><td>1838</td><td>1827</td><td>1832</td><td>1832</td><td>0</td></tr>\n",
       "\t<tr><th scope=row>2</th><td>1990-03-02</td><td>1831</td><td>1860</td><td>1831</td><td>1860</td><td>1860</td><td>0</td></tr>\n",
       "\t<tr><th scope=row>3</th><td>1990-03-05</td><td>1866</td><td>1874</td><td>1862</td><td>1874</td><td>1874</td><td>0</td></tr>\n",
       "\t<tr><th scope=row>4</th><td>1990-03-06</td><td>1869</td><td>1875</td><td>1866</td><td>1872</td><td>1872</td><td>0</td></tr>\n",
       "\t<tr><th scope=row>5</th><td>1990-03-07</td><td>1874</td><td>1881</td><td>1874</td><td>1880</td><td>1880</td><td>0</td></tr>\n",
       "\t<tr><th scope=row>6</th><td>1990-03-08</td><td>1891</td><td>1923</td><td>1891</td><td>1917</td><td>1917</td><td>0</td></tr>\n",
       "</tbody>\n",
       "</table>\n"
      ],
      "text/latex": [
       "A data.frame: 6 × 7\n",
       "\\begin{tabular}{r|lllllll}\n",
       "  & Date & Open & High & Low & Close & Adj.Close & Volume\\\\\n",
       "  & <chr> & <dbl> & <dbl> & <dbl> & <dbl> & <dbl> & <int>\\\\\n",
       "\\hline\n",
       "\t1 & 1990-03-01 & 1836 & 1838 & 1827 & 1832 & 1832 & 0\\\\\n",
       "\t2 & 1990-03-02 & 1831 & 1860 & 1831 & 1860 & 1860 & 0\\\\\n",
       "\t3 & 1990-03-05 & 1866 & 1874 & 1862 & 1874 & 1874 & 0\\\\\n",
       "\t4 & 1990-03-06 & 1869 & 1875 & 1866 & 1872 & 1872 & 0\\\\\n",
       "\t5 & 1990-03-07 & 1874 & 1881 & 1874 & 1880 & 1880 & 0\\\\\n",
       "\t6 & 1990-03-08 & 1891 & 1923 & 1891 & 1917 & 1917 & 0\\\\\n",
       "\\end{tabular}\n"
      ],
      "text/markdown": [
       "\n",
       "A data.frame: 6 × 7\n",
       "\n",
       "| <!--/--> | Date &lt;chr&gt; | Open &lt;dbl&gt; | High &lt;dbl&gt; | Low &lt;dbl&gt; | Close &lt;dbl&gt; | Adj.Close &lt;dbl&gt; | Volume &lt;int&gt; |\n",
       "|---|---|---|---|---|---|---|---|\n",
       "| 1 | 1990-03-01 | 1836 | 1838 | 1827 | 1832 | 1832 | 0 |\n",
       "| 2 | 1990-03-02 | 1831 | 1860 | 1831 | 1860 | 1860 | 0 |\n",
       "| 3 | 1990-03-05 | 1866 | 1874 | 1862 | 1874 | 1874 | 0 |\n",
       "| 4 | 1990-03-06 | 1869 | 1875 | 1866 | 1872 | 1872 | 0 |\n",
       "| 5 | 1990-03-07 | 1874 | 1881 | 1874 | 1880 | 1880 | 0 |\n",
       "| 6 | 1990-03-08 | 1891 | 1923 | 1891 | 1917 | 1917 | 0 |\n",
       "\n"
      ],
      "text/plain": [
       "  Date       Open High Low  Close Adj.Close Volume\n",
       "1 1990-03-01 1836 1838 1827 1832  1832      0     \n",
       "2 1990-03-02 1831 1860 1831 1860  1860      0     \n",
       "3 1990-03-05 1866 1874 1862 1874  1874      0     \n",
       "4 1990-03-06 1869 1875 1866 1872  1872      0     \n",
       "5 1990-03-07 1874 1881 1874 1880  1880      0     \n",
       "6 1990-03-08 1891 1923 1891 1917  1917      0     "
      ]
     },
     "metadata": {},
     "output_type": "display_data"
    },
    {
     "data": {
      "text/html": [
       "<table class=\"dataframe\">\n",
       "<caption>A data.frame: 6 × 7</caption>\n",
       "<thead>\n",
       "\t<tr><th></th><th scope=col>Date</th><th scope=col>Open</th><th scope=col>High</th><th scope=col>Low</th><th scope=col>Close</th><th scope=col>Adj.Close</th><th scope=col>Volume</th></tr>\n",
       "\t<tr><th></th><th scope=col>&lt;chr&gt;</th><th scope=col>&lt;dbl&gt;</th><th scope=col>&lt;dbl&gt;</th><th scope=col>&lt;dbl&gt;</th><th scope=col>&lt;dbl&gt;</th><th scope=col>&lt;dbl&gt;</th><th scope=col>&lt;int&gt;</th></tr>\n",
       "</thead>\n",
       "<tbody>\n",
       "\t<tr><th scope=row>8600</th><td>2023-06-19</td><td>7353.31</td><td>7362.44</td><td>7302.63</td><td>7314.05</td><td>7314.05</td><td>       0</td></tr>\n",
       "\t<tr><th scope=row>8601</th><td>2023-06-20</td><td>7303.24</td><td>7322.57</td><td>7281.12</td><td>7294.17</td><td>7294.17</td><td>55853400</td></tr>\n",
       "\t<tr><th scope=row>8602</th><td>2023-06-21</td><td>7273.89</td><td>7297.85</td><td>7246.86</td><td>7260.97</td><td>7260.97</td><td>48414000</td></tr>\n",
       "\t<tr><th scope=row>8603</th><td>2023-06-22</td><td>7194.26</td><td>7206.89</td><td>7145.06</td><td>7203.28</td><td>7203.28</td><td>53704500</td></tr>\n",
       "\t<tr><th scope=row>8604</th><td>2023-06-23</td><td>7165.38</td><td>7193.78</td><td>7128.64</td><td>7163.42</td><td>7163.42</td><td>51938700</td></tr>\n",
       "\t<tr><th scope=row>8605</th><td>2023-06-26</td><td>7175.88</td><td>7203.46</td><td>7105.72</td><td>7184.35</td><td>7184.35</td><td>52606600</td></tr>\n",
       "</tbody>\n",
       "</table>\n"
      ],
      "text/latex": [
       "A data.frame: 6 × 7\n",
       "\\begin{tabular}{r|lllllll}\n",
       "  & Date & Open & High & Low & Close & Adj.Close & Volume\\\\\n",
       "  & <chr> & <dbl> & <dbl> & <dbl> & <dbl> & <dbl> & <int>\\\\\n",
       "\\hline\n",
       "\t8600 & 2023-06-19 & 7353.31 & 7362.44 & 7302.63 & 7314.05 & 7314.05 &        0\\\\\n",
       "\t8601 & 2023-06-20 & 7303.24 & 7322.57 & 7281.12 & 7294.17 & 7294.17 & 55853400\\\\\n",
       "\t8602 & 2023-06-21 & 7273.89 & 7297.85 & 7246.86 & 7260.97 & 7260.97 & 48414000\\\\\n",
       "\t8603 & 2023-06-22 & 7194.26 & 7206.89 & 7145.06 & 7203.28 & 7203.28 & 53704500\\\\\n",
       "\t8604 & 2023-06-23 & 7165.38 & 7193.78 & 7128.64 & 7163.42 & 7163.42 & 51938700\\\\\n",
       "\t8605 & 2023-06-26 & 7175.88 & 7203.46 & 7105.72 & 7184.35 & 7184.35 & 52606600\\\\\n",
       "\\end{tabular}\n"
      ],
      "text/markdown": [
       "\n",
       "A data.frame: 6 × 7\n",
       "\n",
       "| <!--/--> | Date &lt;chr&gt; | Open &lt;dbl&gt; | High &lt;dbl&gt; | Low &lt;dbl&gt; | Close &lt;dbl&gt; | Adj.Close &lt;dbl&gt; | Volume &lt;int&gt; |\n",
       "|---|---|---|---|---|---|---|---|\n",
       "| 8600 | 2023-06-19 | 7353.31 | 7362.44 | 7302.63 | 7314.05 | 7314.05 |        0 |\n",
       "| 8601 | 2023-06-20 | 7303.24 | 7322.57 | 7281.12 | 7294.17 | 7294.17 | 55853400 |\n",
       "| 8602 | 2023-06-21 | 7273.89 | 7297.85 | 7246.86 | 7260.97 | 7260.97 | 48414000 |\n",
       "| 8603 | 2023-06-22 | 7194.26 | 7206.89 | 7145.06 | 7203.28 | 7203.28 | 53704500 |\n",
       "| 8604 | 2023-06-23 | 7165.38 | 7193.78 | 7128.64 | 7163.42 | 7163.42 | 51938700 |\n",
       "| 8605 | 2023-06-26 | 7175.88 | 7203.46 | 7105.72 | 7184.35 | 7184.35 | 52606600 |\n",
       "\n"
      ],
      "text/plain": [
       "     Date       Open    High    Low     Close   Adj.Close Volume  \n",
       "8600 2023-06-19 7353.31 7362.44 7302.63 7314.05 7314.05          0\n",
       "8601 2023-06-20 7303.24 7322.57 7281.12 7294.17 7294.17   55853400\n",
       "8602 2023-06-21 7273.89 7297.85 7246.86 7260.97 7260.97   48414000\n",
       "8603 2023-06-22 7194.26 7206.89 7145.06 7203.28 7203.28   53704500\n",
       "8604 2023-06-23 7165.38 7193.78 7128.64 7163.42 7163.42   51938700\n",
       "8605 2023-06-26 7175.88 7203.46 7105.72 7184.35 7184.35   52606600"
      ]
     },
     "metadata": {},
     "output_type": "display_data"
    }
   ],
   "source": [
    "head(CAC40_df_2)\n",
    "tail(CAC40_df_2)"
   ]
  },
  {
   "cell_type": "markdown",
   "id": "244548d7",
   "metadata": {},
   "source": [
    "### Option 2 : Importation des données à partir d'un site internet\n",
    "\n",
    "#### librairie quantmod"
   ]
  },
  {
   "cell_type": "code",
   "execution_count": 14,
   "id": "37d8c3cd",
   "metadata": {},
   "outputs": [
    {
     "name": "stdout",
     "output_type": "stream",
     "text": [
      "\n",
      "Les packages binaires téléchargés sont dans\n",
      "\t/var/folders/xg/0g_n267j1qgbrh2hgn3w9nnc0000gp/T//RtmpywTKWU/downloaded_packages\n"
     ]
    }
   ],
   "source": [
    "install.packages('TT')"
   ]
  },
  {
   "cell_type": "code",
   "execution_count": 15,
   "id": "b58f36b9",
   "metadata": {},
   "outputs": [
    {
     "name": "stderr",
     "output_type": "stream",
     "text": [
      "Le chargement a nécessité le package : xts\n",
      "\n",
      "Le chargement a nécessité le package : zoo\n",
      "\n",
      "\n",
      "Attachement du package : ‘zoo’\n",
      "\n",
      "\n",
      "Les objets suivants sont masqués depuis ‘package:base’:\n",
      "\n",
      "    as.Date, as.Date.numeric\n",
      "\n",
      "\n",
      "Le chargement a nécessité le package : TTR\n",
      "\n",
      "Registered S3 method overwritten by 'quantmod':\n",
      "  method            from\n",
      "  as.zoo.data.frame zoo \n",
      "\n",
      "Warning message:\n",
      "“^FCHI contains missing values. Some functions will not work if objects contain missing values in the middle of the series. Consider using na.omit(), na.approx(), na.fill(), etc to remove or replace them.”\n"
     ]
    },
    {
     "data": {
      "text/html": [
       "<style>\n",
       ".list-inline {list-style: none; margin:0; padding: 0}\n",
       ".list-inline>li {display: inline-block}\n",
       ".list-inline>li:not(:last-child)::after {content: \"\\00b7\"; padding: 0 .5ex}\n",
       "</style>\n",
       "<ol class=list-inline><li>'xts'</li><li>'zoo'</li></ol>\n"
      ],
      "text/latex": [
       "\\begin{enumerate*}\n",
       "\\item 'xts'\n",
       "\\item 'zoo'\n",
       "\\end{enumerate*}\n"
      ],
      "text/markdown": [
       "1. 'xts'\n",
       "2. 'zoo'\n",
       "\n",
       "\n"
      ],
      "text/plain": [
       "[1] \"xts\" \"zoo\""
      ]
     },
     "metadata": {},
     "output_type": "display_data"
    },
    {
     "data": {
      "text/html": [
       "<style>\n",
       ".dl-inline {width: auto; margin:0; padding: 0}\n",
       ".dl-inline>dt, .dl-inline>dd {float: none; width: auto; display: inline-block}\n",
       ".dl-inline>dt::after {content: \":\\0020\"; padding-right: .5ex}\n",
       ".dl-inline>dt:not(:first-of-type) {padding-left: .5ex}\n",
       "</style><dl class=dl-inline><dt>Date</dt><dd>0</dd><dt>Open</dt><dd>147</dd><dt>High</dt><dd>147</dd><dt>Low</dt><dd>147</dd><dt>Close</dt><dd>147</dd><dt>Vol</dt><dd>147</dd><dt>Adj.Close</dt><dd>147</dd></dl>\n"
      ],
      "text/latex": [
       "\\begin{description*}\n",
       "\\item[Date] 0\n",
       "\\item[Open] 147\n",
       "\\item[High] 147\n",
       "\\item[Low] 147\n",
       "\\item[Close] 147\n",
       "\\item[Vol] 147\n",
       "\\item[Adj.Close] 147\n",
       "\\end{description*}\n"
      ],
      "text/markdown": [
       "Date\n",
       ":   0Open\n",
       ":   147High\n",
       ":   147Low\n",
       ":   147Close\n",
       ":   147Vol\n",
       ":   147Adj.Close\n",
       ":   147\n",
       "\n"
      ],
      "text/plain": [
       "     Date      Open      High       Low     Close       Vol Adj.Close \n",
       "        0       147       147       147       147       147       147 "
      ]
     },
     "metadata": {},
     "output_type": "display_data"
    },
    {
     "data": {
      "text/html": [
       "<style>\n",
       ".dl-inline {width: auto; margin:0; padding: 0}\n",
       ".dl-inline>dt, .dl-inline>dd {float: none; width: auto; display: inline-block}\n",
       ".dl-inline>dt::after {content: \":\\0020\"; padding-right: .5ex}\n",
       ".dl-inline>dt:not(:first-of-type) {padding-left: .5ex}\n",
       "</style><dl class=dl-inline><dt>Date</dt><dd>0</dd><dt>Open</dt><dd>0</dd><dt>High</dt><dd>0</dd><dt>Low</dt><dd>0</dd><dt>Close</dt><dd>0</dd><dt>Vol</dt><dd>0</dd><dt>Adj.Close</dt><dd>0</dd></dl>\n"
      ],
      "text/latex": [
       "\\begin{description*}\n",
       "\\item[Date] 0\n",
       "\\item[Open] 0\n",
       "\\item[High] 0\n",
       "\\item[Low] 0\n",
       "\\item[Close] 0\n",
       "\\item[Vol] 0\n",
       "\\item[Adj.Close] 0\n",
       "\\end{description*}\n"
      ],
      "text/markdown": [
       "Date\n",
       ":   0Open\n",
       ":   0High\n",
       ":   0Low\n",
       ":   0Close\n",
       ":   0Vol\n",
       ":   0Adj.Close\n",
       ":   0\n",
       "\n"
      ],
      "text/plain": [
       "     Date      Open      High       Low     Close       Vol Adj.Close \n",
       "        0         0         0         0         0         0         0 "
      ]
     },
     "metadata": {},
     "output_type": "display_data"
    },
    {
     "data": {
      "text/html": [
       "'data.frame'"
      ],
      "text/latex": [
       "'data.frame'"
      ],
      "text/markdown": [
       "'data.frame'"
      ],
      "text/plain": [
       "[1] \"data.frame\""
      ]
     },
     "metadata": {},
     "output_type": "display_data"
    }
   ],
   "source": [
    "library(TT)\n",
    "library(quantmod)\n",
    "\n",
    "\n",
    "CAC40 <-getSymbols('^FCHI',auto.assign = FALSE,from ='1990-01-01')\n",
    "class(CAC40) # an xts object\n",
    "\n",
    "CAC40_df<-data.frame(date=index(CAC40),coredata(CAC40))# conversion xts en dataframe avec les dates comme indices\n",
    "colnames(CAC40_df)<-c(\"Date\",\"Open\",\"High\",\"Low\",\"Close\",\"Vol\",\"Adj.Close\")\n",
    "sapply(CAC40_df,function(x) sum(is.na(x)))\n",
    "CAC40_df<-na.omit(CAC40_df)\n",
    "sapply(CAC40_df,function(x) sum(is.na(x)))\n",
    "class(CAC40_df)"
   ]
  },
  {
   "cell_type": "markdown",
   "id": "8e6dccdf",
   "metadata": {},
   "source": [
    "### Utilisation de la librairie yahoofinancer \n",
    "Il existe aussi la librairie yahoofinancer mais elle ne semble pas capable d'importer des données dès qu'elles contiennent des observations manquantes. On importe ici des données mensuelles et non quotidiennes.\n"
   ]
  },
  {
   "cell_type": "code",
   "execution_count": 16,
   "id": "57c1aa68",
   "metadata": {},
   "outputs": [
    {
     "name": "stdout",
     "output_type": "stream",
     "text": [
      "\n",
      "Les packages binaires téléchargés sont dans\n",
      "\t/var/folders/xg/0g_n267j1qgbrh2hgn3w9nnc0000gp/T//RtmpywTKWU/downloaded_packages\n"
     ]
    }
   ],
   "source": [
    "install.packages('yahoofinancer')"
   ]
  },
  {
   "cell_type": "code",
   "execution_count": 17,
   "id": "d9035891",
   "metadata": {},
   "outputs": [],
   "source": [
    "library(yahoofinancer)\n",
    "cac40<-Index$new('^FCHI')\n",
    "cac40_data<-cac40$get_history(start = '1990-01-01',interval = '1mo')"
   ]
  },
  {
   "cell_type": "markdown",
   "id": "d8f75ee8",
   "metadata": {},
   "source": [
    "## Représentation graphique de l'indice CAC40\n",
    "On utilise les données importées via quantmod. \n"
   ]
  },
  {
   "cell_type": "code",
   "execution_count": 18,
   "id": "48bc14c8",
   "metadata": {},
   "outputs": [
    {
     "name": "stdout",
     "output_type": "stream",
     "text": [
      "\n",
      "Les packages binaires téléchargés sont dans\n",
      "\t/var/folders/xg/0g_n267j1qgbrh2hgn3w9nnc0000gp/T//RtmpywTKWU/downloaded_packages\n",
      "\n",
      "Les packages binaires téléchargés sont dans\n",
      "\t/var/folders/xg/0g_n267j1qgbrh2hgn3w9nnc0000gp/T//RtmpywTKWU/downloaded_packages\n"
     ]
    }
   ],
   "source": [
    "install.packages(c('cli','lifecycle','rlang','scales','vctrs'))\n",
    "install.packages('ggplot2')\n"
   ]
  },
  {
   "cell_type": "code",
   "execution_count": 19,
   "id": "9043ee54",
   "metadata": {},
   "outputs": [
    {
     "data": {
      "image/png": "iVBORw0KGgoAAAANSUhEUgAAA0gAAANICAIAAAByhViMAAAABmJLR0QA/wD/AP+gvaeTAAAg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\nAElFTkSuQmCC",
      "text/plain": [
       "plot without title"
      ]
     },
     "metadata": {
      "image/png": {
       "height": 420,
       "width": 420
      }
     },
     "output_type": "display_data"
    }
   ],
   "source": [
    "library(ggplot2)\n",
    "p1<-ggplot(data=CAC40_df,aes(x=Date,y=Adj.Close))+geom_line(colour='blue')+ggtitle('Indice CAC 40 en log')+xlab('date')+ylab('indice en log')+theme_bw()+theme(plot.title = element_text(hjust = 0.5))\n",
    "p1"
   ]
  },
  {
   "cell_type": "code",
   "execution_count": null,
   "id": "a6e85473",
   "metadata": {},
   "outputs": [],
   "source": []
=======
>>>>>>> Stashed changes
  }
 ],
 "metadata": {
  "kernelspec": {
   "display_name": "R",
   "language": "R",
   "name": "ir"
  },
  "language_info": {
   "codemirror_mode": "r",
   "file_extension": ".r",
   "mimetype": "text/x-r-source",
   "name": "R",
   "pygments_lexer": "r",
   "version": "4.2.1"
  }
 },
 "nbformat": 4,
 "nbformat_minor": 5
}

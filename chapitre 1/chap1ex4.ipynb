{
  "cells": [
    {
      "cell_type": "markdown",
      "source": [
        "<a target=\"_blank\" href=\"https://colab.research.google.com/github/ylepen/Corrections-R/\">\n",
        "  <img src=\"https://colab.research.google.com/assets/colab-badge.svg\" alt=\"Open In Colab\"/>\n",
        "</a>"
      ],
      "metadata": {
        "id": "lpbjfR92JoOD"
      },
      "id": "lpbjfR92JoOD"
    },
    {
      "cell_type": "markdown",
      "id": "75039164",
      "metadata": {
        "id": "75039164"
      },
      "source": [
        "# Chapitre I, exercice 4 : Etude préliminaire du CAC 40\n",
        "\n",
        "## Importation des données\n",
        "\n",
        "### Option 1 : à partir d'un fichier de données\n",
        "\n",
        "#### Source : Datastream\n",
        "\n",
        "Datastream est une base de données payante accessible à la BU Dauphine. Elle présente l'avantage de fournir des données complètes. Le séparateur de décimale est le point \".\""
      ]
    },
    {
      "cell_type": "code",
      "source": [
        "library(googledrive)"
      ],
      "metadata": {
        "id": "Zl9fp35tbZpN"
      },
      "id": "Zl9fp35tbZpN",
<<<<<<< HEAD
      "execution_count": null,
=======
      "execution_count": 1,
>>>>>>> 6fa7445c7552e8e81b3ad03696af1cf46a281e28
      "outputs": []
    },
    {
      "cell_type": "code",
      "source": [
        "drive_download(\"https://drive.google.com/file/d/1YwRPBpF9LcilV_1gQMVxEEvklQvq13zk/view?usp=share_link\")"
      ],
      "metadata": {
        "colab": {
          "base_uri": "https://localhost:8080/"
        },
        "id": "5CGhZACwb2Eq",
        "outputId": "ec0aaa87-e73c-4fc8-b047-73024f3cf297"
      },
      "id": "5CGhZACwb2Eq",
<<<<<<< HEAD
      "execution_count": null,
=======
      "execution_count": 2,
>>>>>>> 6fa7445c7552e8e81b3ad03696af1cf46a281e28
      "outputs": [
        {
          "output_type": "stream",
          "name": "stderr",
          "text": [
            "\u001b[1m\u001b[22mIs it OK to cache OAuth access credentials in the folder \u001b[34m~/.cache/gargle\u001b[39m\n",
            "between R sessions?\n",
            "\u001b[1m1\u001b[22m: Yes\n",
            "\u001b[1m2\u001b[22m: No\n"
          ]
        },
        {
          "name": "stdout",
          "output_type": "stream",
          "text": [
            "Selection: 1\n"
          ]
        },
        {
          "output_type": "stream",
          "name": "stderr",
          "text": [
            "Please point your browser to the following url: \n",
            "\n",
            "https://accounts.google.com/o/oauth2/v2/auth?client_id=603366585132-frjlouoa3s2ono25d2l9ukvhlsrlnr7k.apps.googleusercontent.com&scope=https%3A%2F%2Fwww.googleapis.com%2Fauth%2Fdrive%20https%3A%2F%2Fwww.googleapis.com%2Fauth%2Fuserinfo.email&redirect_uri=https%3A%2F%2Fwww.tidyverse.org%2Fgoogle-callback%2F&response_type=code&state=fcab36c6dda27563e72c954466ba865e&access_type=offline&prompt=consent\n",
            "\n"
          ]
        },
        {
          "name": "stdout",
          "output_type": "stream",
          "text": [
            "Enter authorization code: eyJjb2RlIjoiNC8wQVpFT3ZoVXNIZVVXTWlnME9NRnlwYjU2d0pXNXpiNVdReGtxSTBSZ0NpNTloSGk4V0o3eG16X0tJT2lac3lTSE9JNGxqZyIsInN0YXRlIjoiZmNhYjM2YzZkZGEyNzU2M2U3MmM5NTQ0NjZiYTg2NWUifQ==\n"
          ]
        },
        {
          "output_type": "stream",
          "name": "stderr",
          "text": [
            "File downloaded:\n",
            "\n",
            "• '\u001b[36m^FCHI.csv\u001b[39m' \u001b[90m<id: 1YwRPBpF9LcilV_1gQMVxEEvklQvq13zk>\u001b[39m\n",
            "\n",
            "Saved locally as:\n",
            "\n",
            "• '\u001b[34m^FCHI.csv\u001b[39m'\n",
            "\n"
          ]
        }
      ]
    },
    {
      "cell_type": "code",
      "source": [
        "drive_download(\"https://drive.google.com/file/d/1vo0To5q9LCGCk6b1fdgT5nS-SM3oxvT6/view?usp=share_link\")"
      ],
      "metadata": {
        "colab": {
          "base_uri": "https://localhost:8080/"
        },
        "id": "w4jLrsUQgpP2",
        "outputId": "72460a68-2512-47fd-a1d9-891803356397"
      },
      "id": "w4jLrsUQgpP2",
<<<<<<< HEAD
      "execution_count": null,
=======
      "execution_count": 4,
>>>>>>> 6fa7445c7552e8e81b3ad03696af1cf46a281e28
      "outputs": [
        {
          "output_type": "stream",
          "name": "stderr",
          "text": [
            "File downloaded:\n",
            "\n",
            "• \u001b[36mcac40_datastream.csv\u001b[39m \u001b[90m<id: 1vo0To5q9LCGCk6b1fdgT5nS-SM3oxvT6>\u001b[39m\n",
            "\n",
            "Saved locally as:\n",
            "\n",
            "• \u001b[34mcac40_datastream.csv\u001b[39m\n",
            "\n"
          ]
        }
      ]
    },
    {
      "cell_type": "code",
<<<<<<< HEAD
      "execution_count": null,
=======
      "execution_count": 6,
>>>>>>> 6fa7445c7552e8e81b3ad03696af1cf46a281e28
      "id": "0445784d",
      "metadata": {
        "colab": {
          "base_uri": "https://localhost:8080/",
          "height": 286
        },
        "id": "0445784d",
        "outputId": "7f21ba26-cae5-4a8c-800b-e8f07f2c1636"
      },
      "outputs": [
        {
          "output_type": "display_data",
          "data": {
            "text/html": [
              "<table class=\"dataframe\">\n",
              "<caption>A data.frame: 6 × 2</caption>\n",
              "<thead>\n",
              "\t<tr><th></th><th scope=col>Date</th><th scope=col>CAC40</th></tr>\n",
              "\t<tr><th></th><th scope=col>&lt;chr&gt;</th><th scope=col>&lt;dbl&gt;</th></tr>\n",
              "</thead>\n",
              "<tbody>\n",
              "\t<tr><th scope=row>1</th><td>09/07/1987</td><td>1482.89</td></tr>\n",
              "\t<tr><th scope=row>2</th><td>10/07/1987</td><td>1490.42</td></tr>\n",
              "\t<tr><th scope=row>3</th><td>13/07/1987</td><td>1490.42</td></tr>\n",
              "\t<tr><th scope=row>4</th><td>14/07/1987</td><td>1490.42</td></tr>\n",
              "\t<tr><th scope=row>5</th><td>15/07/1987</td><td>1490.42</td></tr>\n",
              "\t<tr><th scope=row>6</th><td>16/07/1987</td><td>1474.22</td></tr>\n",
              "</tbody>\n",
              "</table>\n"
            ],
            "text/markdown": "\nA data.frame: 6 × 2\n\n| <!--/--> | Date &lt;chr&gt; | CAC40 &lt;dbl&gt; |\n|---|---|---|\n| 1 | 09/07/1987 | 1482.89 |\n| 2 | 10/07/1987 | 1490.42 |\n| 3 | 13/07/1987 | 1490.42 |\n| 4 | 14/07/1987 | 1490.42 |\n| 5 | 15/07/1987 | 1490.42 |\n| 6 | 16/07/1987 | 1474.22 |\n\n",
            "text/latex": "A data.frame: 6 × 2\n\\begin{tabular}{r|ll}\n  & Date & CAC40\\\\\n  & <chr> & <dbl>\\\\\n\\hline\n\t1 & 09/07/1987 & 1482.89\\\\\n\t2 & 10/07/1987 & 1490.42\\\\\n\t3 & 13/07/1987 & 1490.42\\\\\n\t4 & 14/07/1987 & 1490.42\\\\\n\t5 & 15/07/1987 & 1490.42\\\\\n\t6 & 16/07/1987 & 1474.22\\\\\n\\end{tabular}\n",
            "text/plain": [
              "  Date       CAC40  \n",
              "1 09/07/1987 1482.89\n",
              "2 10/07/1987 1490.42\n",
              "3 13/07/1987 1490.42\n",
              "4 14/07/1987 1490.42\n",
              "5 15/07/1987 1490.42\n",
              "6 16/07/1987 1474.22"
            ]
          },
          "metadata": {}
        }
      ],
      "source": [
        "CAC40_df_1<-read.csv2(\"cac40_datastream.csv\",dec=\".\",col.names = c('Date','CAC40'))\n",
        "head(CAC40_df_1)"
      ]
    },
    {
      "cell_type": "markdown",
      "id": "708b7cd3",
      "metadata": {
        "id": "708b7cd3"
      },
      "source": [
        "On convertit la colonne Date au format date Year/Month/Day"
      ]
    },
    {
      "cell_type": "code",
<<<<<<< HEAD
      "execution_count": null,
=======
      "execution_count": 7,
>>>>>>> 6fa7445c7552e8e81b3ad03696af1cf46a281e28
      "id": "a6c75424",
      "metadata": {
        "colab": {
          "base_uri": "https://localhost:8080/",
          "height": 34
        },
        "id": "a6c75424",
        "outputId": "4a2ffdeb-db94-475d-c586-fdd843cdac7d"
      },
      "outputs": [
        {
          "output_type": "display_data",
          "data": {
            "text/html": [
              "<style>\n",
              ".list-inline {list-style: none; margin:0; padding: 0}\n",
              ".list-inline>li {display: inline-block}\n",
              ".list-inline>li:not(:last-child)::after {content: \"\\00b7\"; padding: 0 .5ex}\n",
              "</style>\n",
              "<ol class=list-inline><li><time datetime=\"2023-06-19\">2023-06-19</time></li><li><time datetime=\"2023-06-20\">2023-06-20</time></li><li><time datetime=\"2023-06-21\">2023-06-21</time></li><li><time datetime=\"2023-06-22\">2023-06-22</time></li><li><time datetime=\"2023-06-23\">2023-06-23</time></li><li><time datetime=\"2023-06-26\">2023-06-26</time></li></ol>\n"
            ],
            "text/markdown": "1. 2023-06-19\n2. 2023-06-20\n3. 2023-06-21\n4. 2023-06-22\n5. 2023-06-23\n6. 2023-06-26\n\n\n",
            "text/latex": "\\begin{enumerate*}\n\\item 2023-06-19\n\\item 2023-06-20\n\\item 2023-06-21\n\\item 2023-06-22\n\\item 2023-06-23\n\\item 2023-06-26\n\\end{enumerate*}\n",
            "text/plain": [
              "[1] \"2023-06-19\" \"2023-06-20\" \"2023-06-21\" \"2023-06-22\" \"2023-06-23\"\n",
              "[6] \"2023-06-26\""
            ]
          },
          "metadata": {}
        }
      ],
      "source": [
        "CAC40_df_1$Date<-as.Date(CAC40_df_1$Date,format = \"%d/%m/%Y\")\n",
        "tail(CAC40_df_1$Date)\n",
        "\n",
        "\n",
        "#library(lubridate)\n",
        "#CAC40_df_1$Date<-dmy(CAC40_df_1$Date)"
      ]
    },
    {
      "cell_type": "markdown",
      "id": "235b514d",
      "metadata": {
        "id": "235b514d"
      },
      "source": [
        "On vérifie qu'il n'y a pas de données manquantes"
      ]
    },
    {
      "cell_type": "code",
<<<<<<< HEAD
      "execution_count": null,
=======
      "execution_count": 8,
>>>>>>> 6fa7445c7552e8e81b3ad03696af1cf46a281e28
      "id": "5e3e2c7b",
      "metadata": {
        "colab": {
          "base_uri": "https://localhost:8080/",
          "height": 34
        },
        "id": "5e3e2c7b",
        "outputId": "f9babe8d-e240-4d5c-c1da-cb5872367887"
      },
      "outputs": [
        {
          "output_type": "display_data",
          "data": {
            "text/html": [
              "<style>\n",
              ".dl-inline {width: auto; margin:0; padding: 0}\n",
              ".dl-inline>dt, .dl-inline>dd {float: none; width: auto; display: inline-block}\n",
              ".dl-inline>dt::after {content: \":\\0020\"; padding-right: .5ex}\n",
              ".dl-inline>dt:not(:first-of-type) {padding-left: .5ex}\n",
              "</style><dl class=dl-inline><dt>Date</dt><dd>0</dd><dt>CAC40</dt><dd>0</dd></dl>\n"
            ],
            "text/markdown": "Date\n:   0CAC40\n:   0\n\n",
            "text/latex": "\\begin{description*}\n\\item[Date] 0\n\\item[CAC40] 0\n\\end{description*}\n",
            "text/plain": [
              " Date CAC40 \n",
              "    0     0 "
            ]
          },
          "metadata": {}
        }
      ],
      "source": [
        "sapply(CAC40_df_1,function(x) sum(is.na(x)))"
      ]
    },
    {
      "cell_type": "markdown",
      "id": "5b70112b",
      "metadata": {
        "id": "5b70112b"
      },
      "source": [
        "Les données commencent en \"1987-07-09\". On décide d'étudier la série à partir de \"1990-01-01\" en partie pour avoir le même échantillon que les autres sources de données."
      ]
    },
    {
      "cell_type": "code",
<<<<<<< HEAD
      "execution_count": null,
=======
      "execution_count": 9,
>>>>>>> 6fa7445c7552e8e81b3ad03696af1cf46a281e28
      "id": "242bdebe",
      "metadata": {
        "id": "242bdebe"
      },
      "outputs": [],
      "source": [
        "CAC40_df_1<-CAC40_df_1[CAC40_df_1$Date>=\"1990-01-01\",]"
      ]
    },
    {
      "cell_type": "markdown",
      "id": "693a02a9",
      "metadata": {
        "id": "693a02a9"
      },
      "source": [
        "#### Source : fichier csv provenant de Yahoo Finance\n",
        "Les données de Yahoo contiennent des données manquantes représentées par le terme ''null''. Avec R, \"null\" n'est pas le symbole habituel des données manquantes qui est \"na\". Dans l'importation des données à partir de la fonction read.csv, on ajoute l'option na.strings=c(\"null\") pour lui indiquer que le symbole des données manquantes dans le fichier ^FCHI.csv."
      ]
    },
    {
      "cell_type": "code",
      "execution_count": null,
      "id": "f82df2dc",
      "metadata": {
        "colab": {
          "base_uri": "https://localhost:8080/",
          "height": 186
        },
        "id": "f82df2dc",
        "outputId": "8fb4f09c-f88d-47a5-f321-95f6c5dfd51e"
      },
      "outputs": [
        {
          "output_type": "display_data",
          "data": {
            "text/html": [
              "'data.frame'"
            ],
            "text/markdown": "'data.frame'",
            "text/latex": "'data.frame'",
            "text/plain": [
              "[1] \"data.frame\""
            ]
          },
          "metadata": {}
        },
        {
          "output_type": "stream",
          "name": "stdout",
          "text": [
            "'data.frame':\t8605 obs. of  7 variables:\n",
            " $ Date     : chr  \"1990-03-01\" \"1990-03-02\" \"1990-03-05\" \"1990-03-06\" ...\n",
            " $ Open     : num  1836 1831 1866 1869 1874 ...\n",
            " $ High     : num  1838 1860 1874 1875 1881 ...\n",
            " $ Low      : num  1827 1831 1862 1866 1874 ...\n",
            " $ Close    : num  1832 1860 1874 1872 1880 ...\n",
            " $ Adj.Close: num  1832 1860 1874 1872 1880 ...\n",
            " $ Volume   : int  0 0 0 0 0 0 0 0 0 0 ...\n"
          ]
        }
      ],
      "source": [
        "CAC40_df_2<-read.csv(\"^FCHI.csv\",na.strings=c(\"null\"))\n",
        "class(CAC40_df_2)\n",
        "str(CAC40_df_2)"
      ]
    },
    {
      "cell_type": "markdown",
      "id": "3de3feee",
      "metadata": {
        "id": "3de3feee"
      },
      "source": [
        "Décompte des données manquantes :"
      ]
    },
    {
      "cell_type": "code",
      "execution_count": null,
      "id": "e8125cfd",
      "metadata": {
        "colab": {
          "base_uri": "https://localhost:8080/",
          "height": 54
        },
        "id": "e8125cfd",
        "outputId": "441d1970-d689-4882-ed32-6769060791a1"
      },
      "outputs": [
        {
          "output_type": "display_data",
          "data": {
            "text/html": [
              "<style>\n",
              ".dl-inline {width: auto; margin:0; padding: 0}\n",
              ".dl-inline>dt, .dl-inline>dd {float: none; width: auto; display: inline-block}\n",
              ".dl-inline>dt::after {content: \":\\0020\"; padding-right: .5ex}\n",
              ".dl-inline>dt:not(:first-of-type) {padding-left: .5ex}\n",
              "</style><dl class=dl-inline><dt>Date</dt><dd>0</dd><dt>Open</dt><dd>147</dd><dt>High</dt><dd>147</dd><dt>Low</dt><dd>147</dd><dt>Close</dt><dd>147</dd><dt>Adj.Close</dt><dd>147</dd><dt>Volume</dt><dd>147</dd></dl>\n"
            ],
            "text/markdown": "Date\n:   0Open\n:   147High\n:   147Low\n:   147Close\n:   147Adj.Close\n:   147Volume\n:   147\n\n",
            "text/latex": "\\begin{description*}\n\\item[Date] 0\n\\item[Open] 147\n\\item[High] 147\n\\item[Low] 147\n\\item[Close] 147\n\\item[Adj.Close] 147\n\\item[Volume] 147\n\\end{description*}\n",
            "text/plain": [
              "     Date      Open      High       Low     Close Adj.Close    Volume \n",
              "        0       147       147       147       147       147       147 "
            ]
          },
          "metadata": {}
        }
      ],
      "source": [
        "sapply(CAC40_df_2,function(x) sum(is.na(x)))"
      ]
    },
    {
      "cell_type": "markdown",
      "id": "623a6e66",
      "metadata": {
        "id": "623a6e66"
      },
      "source": [
        "Il existe plusieurs manières de gérer les données manquantes. On décide ici de supprimer les dates ayant des données manquantes car elles peuvent empécher l'éxécution de certaines fonctions de R."
      ]
    },
    {
      "cell_type": "code",
      "execution_count": null,
      "id": "21f3fa1f",
      "metadata": {
        "colab": {
          "base_uri": "https://localhost:8080/",
          "height": 54
        },
        "id": "21f3fa1f",
        "outputId": "e4d40fa9-92a1-4c5c-9b2b-a0acb793f334"
      },
      "outputs": [
        {
          "output_type": "display_data",
          "data": {
            "text/html": [
              "<style>\n",
              ".dl-inline {width: auto; margin:0; padding: 0}\n",
              ".dl-inline>dt, .dl-inline>dd {float: none; width: auto; display: inline-block}\n",
              ".dl-inline>dt::after {content: \":\\0020\"; padding-right: .5ex}\n",
              ".dl-inline>dt:not(:first-of-type) {padding-left: .5ex}\n",
              "</style><dl class=dl-inline><dt>Date</dt><dd>0</dd><dt>Open</dt><dd>0</dd><dt>High</dt><dd>0</dd><dt>Low</dt><dd>0</dd><dt>Close</dt><dd>0</dd><dt>Adj.Close</dt><dd>0</dd><dt>Volume</dt><dd>0</dd></dl>\n"
            ],
            "text/markdown": "Date\n:   0Open\n:   0High\n:   0Low\n:   0Close\n:   0Adj.Close\n:   0Volume\n:   0\n\n",
            "text/latex": "\\begin{description*}\n\\item[Date] 0\n\\item[Open] 0\n\\item[High] 0\n\\item[Low] 0\n\\item[Close] 0\n\\item[Adj.Close] 0\n\\item[Volume] 0\n\\end{description*}\n",
            "text/plain": [
              "     Date      Open      High       Low     Close Adj.Close    Volume \n",
              "        0         0         0         0         0         0         0 "
            ]
          },
          "metadata": {}
        }
      ],
      "source": [
        "CAC40_df_2<-na.omit(CAC40_df_2)\n",
        "sapply(CAC40_df_2,function(x) sum(is.na(x)))"
      ]
    },
    {
      "cell_type": "markdown",
      "id": "fd28baf7",
      "metadata": {
        "id": "fd28baf7"
      },
      "source": [
        "Rappel : Les fonctions\n",
        "class() : affiche la classe d'un objet\n",
        "str() : affiche la structure d'un objet\n",
        "head() : affiche les premières lignes d'un objet\n",
        "tail() : affiche les dernières lignes d'un objet\n"
      ]
    },
    {
      "cell_type": "code",
      "execution_count": null,
      "id": "9e5e4252",
      "metadata": {
        "colab": {
          "base_uri": "https://localhost:8080/",
          "height": 54
        },
        "id": "9e5e4252",
        "outputId": "e8e7fdd7-ce46-4586-ff3f-ee010372d142"
      },
      "outputs": [
        {
          "output_type": "display_data",
          "data": {
            "text/html": [
              "'data.frame'"
            ],
            "text/markdown": "'data.frame'",
            "text/latex": "'data.frame'",
            "text/plain": [
              "[1] \"data.frame\""
            ]
          },
          "metadata": {}
        }
      ],
      "source": [
        "class(CAC40_df_2)"
      ]
    },
    {
      "cell_type": "code",
      "execution_count": null,
      "id": "07cd35d7",
      "metadata": {
        "colab": {
          "base_uri": "https://localhost:8080/"
        },
        "id": "07cd35d7",
        "outputId": "0a4a3700-60c8-4b16-a31b-30dcf57001b5"
      },
      "outputs": [
        {
          "output_type": "stream",
          "name": "stdout",
          "text": [
            "'data.frame':\t8458 obs. of  7 variables:\n",
            " $ Date     : chr  \"1990-03-01\" \"1990-03-02\" \"1990-03-05\" \"1990-03-06\" ...\n",
            " $ Open     : num  1836 1831 1866 1869 1874 ...\n",
            " $ High     : num  1838 1860 1874 1875 1881 ...\n",
            " $ Low      : num  1827 1831 1862 1866 1874 ...\n",
            " $ Close    : num  1832 1860 1874 1872 1880 ...\n",
            " $ Adj.Close: num  1832 1860 1874 1872 1880 ...\n",
            " $ Volume   : int  0 0 0 0 0 0 0 0 0 0 ...\n",
            " - attr(*, \"na.action\")= 'omit' Named int [1:147] 32 33 44 49 61 68 120 176 213 214 ...\n",
            "  ..- attr(*, \"names\")= chr [1:147] \"32\" \"33\" \"44\" \"49\" ...\n"
          ]
        }
      ],
      "source": [
        "str(CAC40_df_2)"
      ]
    },
    {
      "cell_type": "code",
      "execution_count": null,
      "id": "74a0b5e4",
      "metadata": {
        "colab": {
          "base_uri": "https://localhost:8080/",
          "height": 560
        },
        "id": "74a0b5e4",
        "outputId": "a9a263eb-e791-49ff-e3c7-204cb93d38dd"
      },
      "outputs": [
        {
          "output_type": "display_data",
          "data": {
            "text/html": [
              "<table class=\"dataframe\">\n",
              "<caption>A data.frame: 6 × 7</caption>\n",
              "<thead>\n",
              "\t<tr><th></th><th scope=col>Date</th><th scope=col>Open</th><th scope=col>High</th><th scope=col>Low</th><th scope=col>Close</th><th scope=col>Adj.Close</th><th scope=col>Volume</th></tr>\n",
              "\t<tr><th></th><th scope=col>&lt;chr&gt;</th><th scope=col>&lt;dbl&gt;</th><th scope=col>&lt;dbl&gt;</th><th scope=col>&lt;dbl&gt;</th><th scope=col>&lt;dbl&gt;</th><th scope=col>&lt;dbl&gt;</th><th scope=col>&lt;int&gt;</th></tr>\n",
              "</thead>\n",
              "<tbody>\n",
              "\t<tr><th scope=row>1</th><td>1990-03-01</td><td>1836</td><td>1838</td><td>1827</td><td>1832</td><td>1832</td><td>0</td></tr>\n",
              "\t<tr><th scope=row>2</th><td>1990-03-02</td><td>1831</td><td>1860</td><td>1831</td><td>1860</td><td>1860</td><td>0</td></tr>\n",
              "\t<tr><th scope=row>3</th><td>1990-03-05</td><td>1866</td><td>1874</td><td>1862</td><td>1874</td><td>1874</td><td>0</td></tr>\n",
              "\t<tr><th scope=row>4</th><td>1990-03-06</td><td>1869</td><td>1875</td><td>1866</td><td>1872</td><td>1872</td><td>0</td></tr>\n",
              "\t<tr><th scope=row>5</th><td>1990-03-07</td><td>1874</td><td>1881</td><td>1874</td><td>1880</td><td>1880</td><td>0</td></tr>\n",
              "\t<tr><th scope=row>6</th><td>1990-03-08</td><td>1891</td><td>1923</td><td>1891</td><td>1917</td><td>1917</td><td>0</td></tr>\n",
              "</tbody>\n",
              "</table>\n"
            ],
            "text/markdown": "\nA data.frame: 6 × 7\n\n| <!--/--> | Date &lt;chr&gt; | Open &lt;dbl&gt; | High &lt;dbl&gt; | Low &lt;dbl&gt; | Close &lt;dbl&gt; | Adj.Close &lt;dbl&gt; | Volume &lt;int&gt; |\n|---|---|---|---|---|---|---|---|\n| 1 | 1990-03-01 | 1836 | 1838 | 1827 | 1832 | 1832 | 0 |\n| 2 | 1990-03-02 | 1831 | 1860 | 1831 | 1860 | 1860 | 0 |\n| 3 | 1990-03-05 | 1866 | 1874 | 1862 | 1874 | 1874 | 0 |\n| 4 | 1990-03-06 | 1869 | 1875 | 1866 | 1872 | 1872 | 0 |\n| 5 | 1990-03-07 | 1874 | 1881 | 1874 | 1880 | 1880 | 0 |\n| 6 | 1990-03-08 | 1891 | 1923 | 1891 | 1917 | 1917 | 0 |\n\n",
            "text/latex": "A data.frame: 6 × 7\n\\begin{tabular}{r|lllllll}\n  & Date & Open & High & Low & Close & Adj.Close & Volume\\\\\n  & <chr> & <dbl> & <dbl> & <dbl> & <dbl> & <dbl> & <int>\\\\\n\\hline\n\t1 & 1990-03-01 & 1836 & 1838 & 1827 & 1832 & 1832 & 0\\\\\n\t2 & 1990-03-02 & 1831 & 1860 & 1831 & 1860 & 1860 & 0\\\\\n\t3 & 1990-03-05 & 1866 & 1874 & 1862 & 1874 & 1874 & 0\\\\\n\t4 & 1990-03-06 & 1869 & 1875 & 1866 & 1872 & 1872 & 0\\\\\n\t5 & 1990-03-07 & 1874 & 1881 & 1874 & 1880 & 1880 & 0\\\\\n\t6 & 1990-03-08 & 1891 & 1923 & 1891 & 1917 & 1917 & 0\\\\\n\\end{tabular}\n",
            "text/plain": [
              "  Date       Open High Low  Close Adj.Close Volume\n",
              "1 1990-03-01 1836 1838 1827 1832  1832      0     \n",
              "2 1990-03-02 1831 1860 1831 1860  1860      0     \n",
              "3 1990-03-05 1866 1874 1862 1874  1874      0     \n",
              "4 1990-03-06 1869 1875 1866 1872  1872      0     \n",
              "5 1990-03-07 1874 1881 1874 1880  1880      0     \n",
              "6 1990-03-08 1891 1923 1891 1917  1917      0     "
            ]
          },
          "metadata": {}
        },
        {
          "output_type": "display_data",
          "data": {
            "text/html": [
              "<table class=\"dataframe\">\n",
              "<caption>A data.frame: 6 × 7</caption>\n",
              "<thead>\n",
              "\t<tr><th></th><th scope=col>Date</th><th scope=col>Open</th><th scope=col>High</th><th scope=col>Low</th><th scope=col>Close</th><th scope=col>Adj.Close</th><th scope=col>Volume</th></tr>\n",
              "\t<tr><th></th><th scope=col>&lt;chr&gt;</th><th scope=col>&lt;dbl&gt;</th><th scope=col>&lt;dbl&gt;</th><th scope=col>&lt;dbl&gt;</th><th scope=col>&lt;dbl&gt;</th><th scope=col>&lt;dbl&gt;</th><th scope=col>&lt;int&gt;</th></tr>\n",
              "</thead>\n",
              "<tbody>\n",
              "\t<tr><th scope=row>8600</th><td>2023-06-19</td><td>7353.31</td><td>7362.44</td><td>7302.63</td><td>7314.05</td><td>7314.05</td><td>       0</td></tr>\n",
              "\t<tr><th scope=row>8601</th><td>2023-06-20</td><td>7303.24</td><td>7322.57</td><td>7281.12</td><td>7294.17</td><td>7294.17</td><td>55853400</td></tr>\n",
              "\t<tr><th scope=row>8602</th><td>2023-06-21</td><td>7273.89</td><td>7297.85</td><td>7246.86</td><td>7260.97</td><td>7260.97</td><td>48414000</td></tr>\n",
              "\t<tr><th scope=row>8603</th><td>2023-06-22</td><td>7194.26</td><td>7206.89</td><td>7145.06</td><td>7203.28</td><td>7203.28</td><td>53704500</td></tr>\n",
              "\t<tr><th scope=row>8604</th><td>2023-06-23</td><td>7165.38</td><td>7193.78</td><td>7128.64</td><td>7163.42</td><td>7163.42</td><td>51938700</td></tr>\n",
              "\t<tr><th scope=row>8605</th><td>2023-06-26</td><td>7175.88</td><td>7203.46</td><td>7105.72</td><td>7184.35</td><td>7184.35</td><td>52606600</td></tr>\n",
              "</tbody>\n",
              "</table>\n"
            ],
            "text/markdown": "\nA data.frame: 6 × 7\n\n| <!--/--> | Date &lt;chr&gt; | Open &lt;dbl&gt; | High &lt;dbl&gt; | Low &lt;dbl&gt; | Close &lt;dbl&gt; | Adj.Close &lt;dbl&gt; | Volume &lt;int&gt; |\n|---|---|---|---|---|---|---|---|\n| 8600 | 2023-06-19 | 7353.31 | 7362.44 | 7302.63 | 7314.05 | 7314.05 |        0 |\n| 8601 | 2023-06-20 | 7303.24 | 7322.57 | 7281.12 | 7294.17 | 7294.17 | 55853400 |\n| 8602 | 2023-06-21 | 7273.89 | 7297.85 | 7246.86 | 7260.97 | 7260.97 | 48414000 |\n| 8603 | 2023-06-22 | 7194.26 | 7206.89 | 7145.06 | 7203.28 | 7203.28 | 53704500 |\n| 8604 | 2023-06-23 | 7165.38 | 7193.78 | 7128.64 | 7163.42 | 7163.42 | 51938700 |\n| 8605 | 2023-06-26 | 7175.88 | 7203.46 | 7105.72 | 7184.35 | 7184.35 | 52606600 |\n\n",
            "text/latex": "A data.frame: 6 × 7\n\\begin{tabular}{r|lllllll}\n  & Date & Open & High & Low & Close & Adj.Close & Volume\\\\\n  & <chr> & <dbl> & <dbl> & <dbl> & <dbl> & <dbl> & <int>\\\\\n\\hline\n\t8600 & 2023-06-19 & 7353.31 & 7362.44 & 7302.63 & 7314.05 & 7314.05 &        0\\\\\n\t8601 & 2023-06-20 & 7303.24 & 7322.57 & 7281.12 & 7294.17 & 7294.17 & 55853400\\\\\n\t8602 & 2023-06-21 & 7273.89 & 7297.85 & 7246.86 & 7260.97 & 7260.97 & 48414000\\\\\n\t8603 & 2023-06-22 & 7194.26 & 7206.89 & 7145.06 & 7203.28 & 7203.28 & 53704500\\\\\n\t8604 & 2023-06-23 & 7165.38 & 7193.78 & 7128.64 & 7163.42 & 7163.42 & 51938700\\\\\n\t8605 & 2023-06-26 & 7175.88 & 7203.46 & 7105.72 & 7184.35 & 7184.35 & 52606600\\\\\n\\end{tabular}\n",
            "text/plain": [
              "     Date       Open    High    Low     Close   Adj.Close Volume  \n",
              "8600 2023-06-19 7353.31 7362.44 7302.63 7314.05 7314.05          0\n",
              "8601 2023-06-20 7303.24 7322.57 7281.12 7294.17 7294.17   55853400\n",
              "8602 2023-06-21 7273.89 7297.85 7246.86 7260.97 7260.97   48414000\n",
              "8603 2023-06-22 7194.26 7206.89 7145.06 7203.28 7203.28   53704500\n",
              "8604 2023-06-23 7165.38 7193.78 7128.64 7163.42 7163.42   51938700\n",
              "8605 2023-06-26 7175.88 7203.46 7105.72 7184.35 7184.35   52606600"
            ]
          },
          "metadata": {}
        }
      ],
      "source": [
        "head(CAC40_df_2)\n",
        "tail(CAC40_df_2)"
      ]
    },
    {
      "cell_type": "markdown",
      "id": "244548d7",
      "metadata": {
        "id": "244548d7"
      },
      "source": [
        "### Option 2 : Importation des données à partir d'un site internet\n",
        "\n",
        "#### librairie quantmod"
      ]
    },
    {
      "cell_type": "code",
      "source": [
        "#install.packages(\"TT\")\n",
        "#install.packages(\"quantmod\")"
      ],
      "metadata": {
        "id": "ikJv-aCP0E6f"
      },
      "id": "ikJv-aCP0E6f",
      "execution_count": null,
      "outputs": []
    },
    {
      "cell_type": "code",
      "execution_count": null,
      "id": "b58f36b9",
      "metadata": {
        "colab": {
          "base_uri": "https://localhost:8080/",
          "height": 451
        },
        "id": "b58f36b9",
        "outputId": "a94c956f-e316-42b2-ed5f-d6aee262e085"
      },
      "outputs": [
        {
          "output_type": "stream",
          "name": "stderr",
          "text": [
            "Loading required package: xts\n",
            "\n",
            "Loading required package: zoo\n",
            "\n",
            "\n",
            "Attaching package: ‘zoo’\n",
            "\n",
            "\n",
            "The following objects are masked from ‘package:base’:\n",
            "\n",
            "    as.Date, as.Date.numeric\n",
            "\n",
            "\n",
            "Loading required package: TTR\n",
            "\n",
            "Registered S3 method overwritten by 'quantmod':\n",
            "  method            from\n",
            "  as.zoo.data.frame zoo \n",
            "\n",
            "Warning message:\n",
            "“^FCHI contains missing values. Some functions will not work if objects contain missing values in the middle of the series. Consider using na.omit(), na.approx(), na.fill(), etc to remove or replace them.”\n"
          ]
        },
        {
          "output_type": "display_data",
          "data": {
            "text/html": [
              "<style>\n",
              ".list-inline {list-style: none; margin:0; padding: 0}\n",
              ".list-inline>li {display: inline-block}\n",
              ".list-inline>li:not(:last-child)::after {content: \"\\00b7\"; padding: 0 .5ex}\n",
              "</style>\n",
              "<ol class=list-inline><li>'xts'</li><li>'zoo'</li></ol>\n"
            ],
            "text/markdown": "1. 'xts'\n2. 'zoo'\n\n\n",
            "text/latex": "\\begin{enumerate*}\n\\item 'xts'\n\\item 'zoo'\n\\end{enumerate*}\n",
            "text/plain": [
              "[1] \"xts\" \"zoo\""
            ]
          },
          "metadata": {}
        },
        {
          "output_type": "display_data",
          "data": {
            "text/html": [
              "<style>\n",
              ".dl-inline {width: auto; margin:0; padding: 0}\n",
              ".dl-inline>dt, .dl-inline>dd {float: none; width: auto; display: inline-block}\n",
              ".dl-inline>dt::after {content: \":\\0020\"; padding-right: .5ex}\n",
              ".dl-inline>dt:not(:first-of-type) {padding-left: .5ex}\n",
              "</style><dl class=dl-inline><dt>Date</dt><dd>0</dd><dt>Open</dt><dd>147</dd><dt>High</dt><dd>147</dd><dt>Low</dt><dd>147</dd><dt>Close</dt><dd>147</dd><dt>Vol</dt><dd>147</dd><dt>Adj.Close</dt><dd>147</dd></dl>\n"
            ],
            "text/markdown": "Date\n:   0Open\n:   147High\n:   147Low\n:   147Close\n:   147Vol\n:   147Adj.Close\n:   147\n\n",
            "text/latex": "\\begin{description*}\n\\item[Date] 0\n\\item[Open] 147\n\\item[High] 147\n\\item[Low] 147\n\\item[Close] 147\n\\item[Vol] 147\n\\item[Adj.Close] 147\n\\end{description*}\n",
            "text/plain": [
              "     Date      Open      High       Low     Close       Vol Adj.Close \n",
              "        0       147       147       147       147       147       147 "
            ]
          },
          "metadata": {}
        },
        {
          "output_type": "display_data",
          "data": {
            "text/html": [
              "<style>\n",
              ".dl-inline {width: auto; margin:0; padding: 0}\n",
              ".dl-inline>dt, .dl-inline>dd {float: none; width: auto; display: inline-block}\n",
              ".dl-inline>dt::after {content: \":\\0020\"; padding-right: .5ex}\n",
              ".dl-inline>dt:not(:first-of-type) {padding-left: .5ex}\n",
              "</style><dl class=dl-inline><dt>Date</dt><dd>0</dd><dt>Open</dt><dd>0</dd><dt>High</dt><dd>0</dd><dt>Low</dt><dd>0</dd><dt>Close</dt><dd>0</dd><dt>Vol</dt><dd>0</dd><dt>Adj.Close</dt><dd>0</dd></dl>\n"
            ],
            "text/markdown": "Date\n:   0Open\n:   0High\n:   0Low\n:   0Close\n:   0Vol\n:   0Adj.Close\n:   0\n\n",
            "text/latex": "\\begin{description*}\n\\item[Date] 0\n\\item[Open] 0\n\\item[High] 0\n\\item[Low] 0\n\\item[Close] 0\n\\item[Vol] 0\n\\item[Adj.Close] 0\n\\end{description*}\n",
            "text/plain": [
              "     Date      Open      High       Low     Close       Vol Adj.Close \n",
              "        0         0         0         0         0         0         0 "
            ]
          },
          "metadata": {}
        },
        {
          "output_type": "display_data",
          "data": {
            "text/html": [
              "'data.frame'"
            ],
            "text/markdown": "'data.frame'",
            "text/latex": "'data.frame'",
            "text/plain": [
              "[1] \"data.frame\""
            ]
          },
          "metadata": {}
        }
      ],
      "source": [
        "library(TT)\n",
        "library(quantmod)\n",
        "\n",
        "CAC40 <-getSymbols('^FCHI',auto.assign = FALSE,from ='1990-01-01')\n",
        "class(CAC40) # an xts object\n",
        "\n",
        "CAC40_df<-data.frame(date=index(CAC40),coredata(CAC40))# conversion xts en dataframe avec les dates comme indices\n",
        "colnames(CAC40_df)<-c(\"Date\",\"Open\",\"High\",\"Low\",\"Close\",\"Vol\",\"Adj.Close\")\n",
        "sapply(CAC40_df,function(x) sum(is.na(x)))\n",
        "CAC40_df<-na.omit(CAC40_df)\n",
        "sapply(CAC40_df,function(x) sum(is.na(x)))\n",
        "class(CAC40_df)"
      ]
    },
    {
      "cell_type": "code",
      "execution_count": null,
      "id": "fc5cca4e",
      "metadata": {
        "colab": {
          "base_uri": "https://localhost:8080/",
          "height": 299
        },
        "id": "fc5cca4e",
        "outputId": "4582b810-fcfe-4025-d986-bb8eca5d9347"
      },
      "outputs": [
        {
          "output_type": "display_data",
          "data": {
            "text/html": [
              "<table class=\"dataframe\">\n",
              "<caption>A data.frame: 6 × 7</caption>\n",
              "<thead>\n",
              "\t<tr><th></th><th scope=col>Date</th><th scope=col>Open</th><th scope=col>High</th><th scope=col>Low</th><th scope=col>Close</th><th scope=col>Vol</th><th scope=col>Adj.Close</th></tr>\n",
              "\t<tr><th></th><th scope=col>&lt;date&gt;</th><th scope=col>&lt;dbl&gt;</th><th scope=col>&lt;dbl&gt;</th><th scope=col>&lt;dbl&gt;</th><th scope=col>&lt;dbl&gt;</th><th scope=col>&lt;dbl&gt;</th><th scope=col>&lt;dbl&gt;</th></tr>\n",
              "</thead>\n",
              "<tbody>\n",
              "\t<tr><th scope=row>1</th><td>1990-03-01</td><td>1836</td><td>1838</td><td>1827</td><td>1832</td><td>0</td><td>1832</td></tr>\n",
              "\t<tr><th scope=row>2</th><td>1990-03-02</td><td>1831</td><td>1860</td><td>1831</td><td>1860</td><td>0</td><td>1860</td></tr>\n",
              "\t<tr><th scope=row>3</th><td>1990-03-05</td><td>1866</td><td>1874</td><td>1862</td><td>1874</td><td>0</td><td>1874</td></tr>\n",
              "\t<tr><th scope=row>4</th><td>1990-03-06</td><td>1869</td><td>1875</td><td>1866</td><td>1872</td><td>0</td><td>1872</td></tr>\n",
              "\t<tr><th scope=row>5</th><td>1990-03-07</td><td>1874</td><td>1881</td><td>1874</td><td>1880</td><td>0</td><td>1880</td></tr>\n",
              "\t<tr><th scope=row>6</th><td>1990-03-08</td><td>1891</td><td>1923</td><td>1891</td><td>1917</td><td>0</td><td>1917</td></tr>\n",
              "</tbody>\n",
              "</table>\n"
            ],
            "text/markdown": "\nA data.frame: 6 × 7\n\n| <!--/--> | Date &lt;date&gt; | Open &lt;dbl&gt; | High &lt;dbl&gt; | Low &lt;dbl&gt; | Close &lt;dbl&gt; | Vol &lt;dbl&gt; | Adj.Close &lt;dbl&gt; |\n|---|---|---|---|---|---|---|---|\n| 1 | 1990-03-01 | 1836 | 1838 | 1827 | 1832 | 0 | 1832 |\n| 2 | 1990-03-02 | 1831 | 1860 | 1831 | 1860 | 0 | 1860 |\n| 3 | 1990-03-05 | 1866 | 1874 | 1862 | 1874 | 0 | 1874 |\n| 4 | 1990-03-06 | 1869 | 1875 | 1866 | 1872 | 0 | 1872 |\n| 5 | 1990-03-07 | 1874 | 1881 | 1874 | 1880 | 0 | 1880 |\n| 6 | 1990-03-08 | 1891 | 1923 | 1891 | 1917 | 0 | 1917 |\n\n",
            "text/latex": "A data.frame: 6 × 7\n\\begin{tabular}{r|lllllll}\n  & Date & Open & High & Low & Close & Vol & Adj.Close\\\\\n  & <date> & <dbl> & <dbl> & <dbl> & <dbl> & <dbl> & <dbl>\\\\\n\\hline\n\t1 & 1990-03-01 & 1836 & 1838 & 1827 & 1832 & 0 & 1832\\\\\n\t2 & 1990-03-02 & 1831 & 1860 & 1831 & 1860 & 0 & 1860\\\\\n\t3 & 1990-03-05 & 1866 & 1874 & 1862 & 1874 & 0 & 1874\\\\\n\t4 & 1990-03-06 & 1869 & 1875 & 1866 & 1872 & 0 & 1872\\\\\n\t5 & 1990-03-07 & 1874 & 1881 & 1874 & 1880 & 0 & 1880\\\\\n\t6 & 1990-03-08 & 1891 & 1923 & 1891 & 1917 & 0 & 1917\\\\\n\\end{tabular}\n",
            "text/plain": [
              "  Date       Open High Low  Close Vol Adj.Close\n",
              "1 1990-03-01 1836 1838 1827 1832  0   1832     \n",
              "2 1990-03-02 1831 1860 1831 1860  0   1860     \n",
              "3 1990-03-05 1866 1874 1862 1874  0   1874     \n",
              "4 1990-03-06 1869 1875 1866 1872  0   1872     \n",
              "5 1990-03-07 1874 1881 1874 1880  0   1880     \n",
              "6 1990-03-08 1891 1923 1891 1917  0   1917     "
            ]
          },
          "metadata": {}
        }
      ],
      "source": [
        "head(CAC40_df)"
      ]
    },
    {
      "cell_type": "markdown",
      "id": "8e6dccdf",
      "metadata": {
        "id": "8e6dccdf"
      },
      "source": [
        "### Utilisation de la librairie yahoofinancer\n",
        "Il existe aussi la librairie yahoofinancer mais elle ne semble pas capable d'importer des données dès qu'elles contiennent des observations manquantes. On importe ici des données mensuelles et non quotidiennes.\n"
      ]
    },
    {
      "cell_type": "code",
      "execution_count": null,
      "id": "57c1aa68",
      "metadata": {
        "colab": {
          "base_uri": "https://localhost:8080/"
        },
        "id": "57c1aa68",
        "outputId": "22d5a3e8-9fb0-4154-e57d-0880bed6a5b4"
      },
      "outputs": [
        {
          "output_type": "stream",
          "name": "stderr",
          "text": [
            "Installing package into ‘/usr/local/lib/R/site-library’\n",
            "(as ‘lib’ is unspecified)\n",
            "\n"
          ]
        }
      ],
      "source": [
        "#install.packages('yahoofinancer')"
      ]
    },
    {
      "cell_type": "code",
      "execution_count": null,
      "id": "d9035891",
      "metadata": {
        "id": "d9035891"
      },
      "outputs": [],
      "source": [
        "library(yahoofinancer)\n",
        "cac40<-Index$new('^FCHI')\n",
        "cac40_data<-cac40$get_history(start = '1990-01-01',interval = '1mo')"
      ]
    },
    {
      "cell_type": "markdown",
      "id": "d8f75ee8",
      "metadata": {
        "id": "d8f75ee8"
      },
      "source": [
        "## Représentation graphique de l'indice CAC40\n",
        "On utilise les données importées via quantmod.\n"
      ]
    },
    {
      "cell_type": "code",
      "execution_count": null,
      "id": "48bc14c8",
      "metadata": {
        "id": "48bc14c8"
      },
      "outputs": [],
      "source": [
        "#install.packages('ggplot2')\n"
      ]
    },
    {
      "cell_type": "code",
      "execution_count": null,
      "id": "9043ee54",
      "metadata": {
        "colab": {
          "base_uri": "https://localhost:8080/",
          "height": 458
        },
        "id": "9043ee54",
        "outputId": "40e0142f-8fbf-4e3a-abeb-47bb74bb72a7"
      },
      "outputs": [
        {
          "output_type": "display_data",
          "data": {
            "text/plain": [
              "plot without title"
            ],
            "image/png": "iVBORw0KGgoAAAANSUhEUgAAA0gAAANICAIAAAByhViMAAAACXBIWXMAABJ0AAASdAHeZh94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"
          },
          "metadata": {
            "image/png": {
              "width": 420,
              "height": 420
            }
          }
        }
      ],
      "source": [
        "library(ggplot2)\n",
        "p1<-ggplot(data=CAC40_df,aes(x=Date,y=Adj.Close))+geom_line(colour='blue')+ggtitle('Indice CAC 40 en log')+xlab('date')+ylab('indice en log')+theme_bw()+theme(plot.title = element_text(hjust = 0.5))\n",
        "p1"
      ]
    },
    {
      "cell_type": "code",
      "execution_count": null,
      "id": "a6e85473",
      "metadata": {
        "id": "a6e85473"
      },
      "outputs": [],
      "source": []
    }
  ],
  "metadata": {
    "kernelspec": {
      "display_name": "R",
      "language": "R",
      "name": "ir"
    },
    "language_info": {
      "codemirror_mode": "r",
      "file_extension": ".r",
      "mimetype": "text/x-r-source",
      "name": "R",
      "pygments_lexer": "r",
      "version": "3.6.1"
    },
    "colab": {
      "provenance": []
    }
  },
  "nbformat": 4,
  "nbformat_minor": 5
}
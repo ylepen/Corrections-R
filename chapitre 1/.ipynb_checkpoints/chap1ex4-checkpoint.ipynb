{
 "cells": [
  {
   "cell_type": "markdown",
   "id": "75039164",
   "metadata": {},
   "source": [
    "# Chapitre I, exercice 4 : Etude préliminaire du CAC 40\n",
    "\n",
    "## Importation des données\n",
    "\n",
    "### Option 1 : à partir d'un fichier de données\n",
    "\n",
    "#### Source : Datastream\n",
    "\n",
    "Datastream est une base de données payante accessible à la BU Dauphine. Elle présente l'avantage de fournir des données complètes. Le séparateur de décimale est le point \".\""
   ]
  },
  {
   "cell_type": "code",
   "execution_count": 7,
   "id": "0445784d",
   "metadata": {},
   "outputs": [
    {
     "data": {
      "text/html": [
       "<table>\n",
       "<thead><tr><th scope=col>Date</th><th scope=col>CAC40</th></tr></thead>\n",
       "<tbody>\n",
       "\t<tr><td>09/07/1987</td><td>1482.89   </td></tr>\n",
       "\t<tr><td>10/07/1987</td><td>1490.42   </td></tr>\n",
       "\t<tr><td>13/07/1987</td><td>1490.42   </td></tr>\n",
       "\t<tr><td>14/07/1987</td><td>1490.42   </td></tr>\n",
       "\t<tr><td>15/07/1987</td><td>1490.42   </td></tr>\n",
       "\t<tr><td>16/07/1987</td><td>1474.22   </td></tr>\n",
       "</tbody>\n",
       "</table>\n"
      ],
      "text/latex": [
       "\\begin{tabular}{r|ll}\n",
       " Date & CAC40\\\\\n",
       "\\hline\n",
       "\t 09/07/1987 & 1482.89   \\\\\n",
       "\t 10/07/1987 & 1490.42   \\\\\n",
       "\t 13/07/1987 & 1490.42   \\\\\n",
       "\t 14/07/1987 & 1490.42   \\\\\n",
       "\t 15/07/1987 & 1490.42   \\\\\n",
       "\t 16/07/1987 & 1474.22   \\\\\n",
       "\\end{tabular}\n"
      ],
      "text/markdown": [
       "\n",
       "| Date | CAC40 |\n",
       "|---|---|\n",
       "| 09/07/1987 | 1482.89    |\n",
       "| 10/07/1987 | 1490.42    |\n",
       "| 13/07/1987 | 1490.42    |\n",
       "| 14/07/1987 | 1490.42    |\n",
       "| 15/07/1987 | 1490.42    |\n",
       "| 16/07/1987 | 1474.22    |\n",
       "\n"
      ],
      "text/plain": [
       "  Date       CAC40  \n",
       "1 09/07/1987 1482.89\n",
       "2 10/07/1987 1490.42\n",
       "3 13/07/1987 1490.42\n",
       "4 14/07/1987 1490.42\n",
       "5 15/07/1987 1490.42\n",
       "6 16/07/1987 1474.22"
      ]
     },
     "metadata": {},
     "output_type": "display_data"
    }
   ],
   "source": [
    "CAC40_df_1<-read.csv2(\"./data/cac40_datastream.csv\",dec=\".\",col.names = c('Date','CAC40'))\n",
    "head(CAC40_df_1)"
   ]
  },
  {
   "cell_type": "markdown",
   "id": "708b7cd3",
   "metadata": {},
   "source": [
    "On convertit la colonne Date au format date Year/Month/Day"
   ]
  },
  {
   "cell_type": "code",
   "execution_count": 8,
   "id": "a6c75424",
   "metadata": {},
   "outputs": [
    {
     "data": {
      "text/html": [
       "<ol class=list-inline>\n",
       "\t<li><time datetime=\"2023-06-19\">2023-06-19</time></li>\n",
       "\t<li><time datetime=\"2023-06-20\">2023-06-20</time></li>\n",
       "\t<li><time datetime=\"2023-06-21\">2023-06-21</time></li>\n",
       "\t<li><time datetime=\"2023-06-22\">2023-06-22</time></li>\n",
       "\t<li><time datetime=\"2023-06-23\">2023-06-23</time></li>\n",
       "\t<li><time datetime=\"2023-06-26\">2023-06-26</time></li>\n",
       "</ol>\n"
      ],
      "text/latex": [
       "\\begin{enumerate*}\n",
       "\\item 2023-06-19\n",
       "\\item 2023-06-20\n",
       "\\item 2023-06-21\n",
       "\\item 2023-06-22\n",
       "\\item 2023-06-23\n",
       "\\item 2023-06-26\n",
       "\\end{enumerate*}\n"
      ],
      "text/markdown": [
       "1. 2023-06-19\n",
       "2. 2023-06-20\n",
       "3. 2023-06-21\n",
       "4. 2023-06-22\n",
       "5. 2023-06-23\n",
       "6. 2023-06-26\n",
       "\n",
       "\n"
      ],
      "text/plain": [
       "[1] \"2023-06-19\" \"2023-06-20\" \"2023-06-21\" \"2023-06-22\" \"2023-06-23\"\n",
       "[6] \"2023-06-26\""
      ]
     },
     "metadata": {},
     "output_type": "display_data"
    }
   ],
   "source": [
    "CAC40_df_1$Date<-as.Date(CAC40_df_1$Date,format = \"%d/%m/%Y\")\n",
    "tail(CAC40_df_1$Date)\n",
    "\n",
    "\n",
    "#library(lubridate)\n",
    "#CAC40_df_1$Date<-dmy(CAC40_df_1$Date)"
   ]
  },
  {
   "cell_type": "code",
   "execution_count": null,
   "id": "7d1f3e64",
   "metadata": {},
   "outputs": [],
   "source": [
    "On vérifie qu'il n'y a pas de données manquantes"
   ]
  },
  {
   "cell_type": "code",
   "execution_count": 9,
   "id": "5e3e2c7b",
   "metadata": {},
   "outputs": [
    {
     "data": {
      "text/html": [
       "<dl class=dl-horizontal>\n",
       "\t<dt>Date</dt>\n",
       "\t\t<dd>0</dd>\n",
       "\t<dt>CAC40</dt>\n",
       "\t\t<dd>0</dd>\n",
       "</dl>\n"
      ],
      "text/latex": [
       "\\begin{description*}\n",
       "\\item[Date] 0\n",
       "\\item[CAC40] 0\n",
       "\\end{description*}\n"
      ],
      "text/markdown": [
       "Date\n",
       ":   0CAC40\n",
       ":   0\n",
       "\n"
      ],
      "text/plain": [
       " Date CAC40 \n",
       "    0     0 "
      ]
     },
     "metadata": {},
     "output_type": "display_data"
    }
   ],
   "source": [
    "sapply(CAC40_df_1,function(x) sum(is.na(x)))"
   ]
  },
  {
   "cell_type": "markdown",
   "id": "5b70112b",
   "metadata": {},
   "source": [
    "Les données commencent en \"1987-07-09\". On décide d'étudier la série à partir de \"1990-01-01\" en partie pour avoir le même échantillon que les autres sources de données."
   ]
  },
  {
   "cell_type": "code",
   "execution_count": 10,
   "id": "242bdebe",
   "metadata": {},
   "outputs": [],
   "source": [
    "CAC40_df_1<-CAC40_df_1[CAC40_df_1$Date>=\"1990-01-01\",]"
   ]
  },
  {
   "cell_type": "markdown",
   "id": "693a02a9",
   "metadata": {},
   "source": [
    "#### Source : fichier csv provenant de Yahoo Finance\n",
    "Les données de Yahoo contiennent des données manquantes représentées par le terme ''null''. Avec R, \"null\" n'est pas le symbole habituel des données manquantes qui est \"na\". Dans l'importation des données à partir de la fonction read.csv, on ajoute l'option na.strings=c(\"null\") pour lui indiquer que le symbole des données manquantes dans le fichier ^FCHI.csv."
   ]
  },
  {
   "cell_type": "code",
   "execution_count": 12,
   "id": "f82df2dc",
   "metadata": {},
   "outputs": [
    {
     "data": {
      "text/html": [
       "'data.frame'"
      ],
      "text/latex": [
       "'data.frame'"
      ],
      "text/markdown": [
       "'data.frame'"
      ],
      "text/plain": [
       "[1] \"data.frame\""
      ]
     },
     "metadata": {},
     "output_type": "display_data"
    },
    {
     "name": "stdout",
     "output_type": "stream",
     "text": [
      "'data.frame':\t8605 obs. of  7 variables:\n",
      " $ Date     : Factor w/ 8605 levels \"1990-03-01\",\"1990-03-02\",..: 1 2 3 4 5 6 7 8 9 10 ...\n",
      " $ Open     : num  1836 1831 1866 1869 1874 ...\n",
      " $ High     : num  1838 1860 1874 1875 1881 ...\n",
      " $ Low      : num  1827 1831 1862 1866 1874 ...\n",
      " $ Close    : num  1832 1860 1874 1872 1880 ...\n",
      " $ Adj.Close: num  1832 1860 1874 1872 1880 ...\n",
      " $ Volume   : int  0 0 0 0 0 0 0 0 0 0 ...\n"
     ]
    }
   ],
   "source": [
    "library(readr)\n",
    "CAC40_df_2<-read.csv(\"C:\\\\users\\\\ylepen\\\\Documents\\\\COURS dauphine\\\\econometrie II\\\\data exercice\\\\^FCHI.csv\",na.strings=c(\"null\"))\n",
    "class(CAC40_df_2)\n",
    "str(CAC40_df_2)"
   ]
  },
  {
   "cell_type": "markdown",
   "id": "3de3feee",
   "metadata": {},
   "source": [
    "Décompte des données manquantes : "
   ]
  },
  {
   "cell_type": "code",
   "execution_count": 13,
   "id": "e8125cfd",
   "metadata": {},
   "outputs": [
    {
     "data": {
      "text/html": [
       "<dl class=dl-horizontal>\n",
       "\t<dt>Date</dt>\n",
       "\t\t<dd>0</dd>\n",
       "\t<dt>Open</dt>\n",
       "\t\t<dd>147</dd>\n",
       "\t<dt>High</dt>\n",
       "\t\t<dd>147</dd>\n",
       "\t<dt>Low</dt>\n",
       "\t\t<dd>147</dd>\n",
       "\t<dt>Close</dt>\n",
       "\t\t<dd>147</dd>\n",
       "\t<dt>Adj.Close</dt>\n",
       "\t\t<dd>147</dd>\n",
       "\t<dt>Volume</dt>\n",
       "\t\t<dd>147</dd>\n",
       "</dl>\n"
      ],
      "text/latex": [
       "\\begin{description*}\n",
       "\\item[Date] 0\n",
       "\\item[Open] 147\n",
       "\\item[High] 147\n",
       "\\item[Low] 147\n",
       "\\item[Close] 147\n",
       "\\item[Adj.Close] 147\n",
       "\\item[Volume] 147\n",
       "\\end{description*}\n"
      ],
      "text/markdown": [
       "Date\n",
       ":   0Open\n",
       ":   147High\n",
       ":   147Low\n",
       ":   147Close\n",
       ":   147Adj.Close\n",
       ":   147Volume\n",
       ":   147\n",
       "\n"
      ],
      "text/plain": [
       "     Date      Open      High       Low     Close Adj.Close    Volume \n",
       "        0       147       147       147       147       147       147 "
      ]
     },
     "metadata": {},
     "output_type": "display_data"
    }
   ],
   "source": [
    "sapply(CAC40_df_2,function(x) sum(is.na(x)))"
   ]
  },
  {
   "cell_type": "markdown",
   "id": "623a6e66",
   "metadata": {},
   "source": [
    "Il existe plusieurs manières de gérer les données manquantes. On décide ici de supprimer les dates ayant des données manquantes car elles peuvent empécher l'éxécution de certaines fonctions de R. "
   ]
  },
  {
   "cell_type": "code",
   "execution_count": null,
   "id": "21f3fa1f",
   "metadata": {},
   "outputs": [],
   "source": [
    "CAC40_df_2<-na.omit(CAC40_df_2)\n",
    "sapply(CAC40_df_2,function(x) sum(is.na(x)))"
   ]
  }
 ],
 "metadata": {
  "kernelspec": {
   "display_name": "R",
   "language": "R",
   "name": "ir"
  },
  "language_info": {
   "codemirror_mode": "r",
   "file_extension": ".r",
   "mimetype": "text/x-r-source",
   "name": "R",
   "pygments_lexer": "r",
   "version": "3.6.1"
  }
 },
 "nbformat": 4,
 "nbformat_minor": 5
}

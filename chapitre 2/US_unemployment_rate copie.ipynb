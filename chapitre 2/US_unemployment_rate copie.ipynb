{
  "cells": [
    {
      "cell_type": "markdown",
      "source": [
        "# Exercice sur le taux de chômage aux Etats-Unis\n",
        "\n",
        "## Importation et visualisation des données"
      ],
      "metadata": {
        "id": "OXCCVHrD5mmv"
      },
      "id": "OXCCVHrD5mmv"
    },
    {
      "cell_type": "markdown",
      "source": [
        "On importe les données trimestrielles du taux de chômage aux Etats-Unis du 01/01/1994 au 23/01/01 (117 observations). Les données sont importées du site db.nomics. Les données proviennent du ``Bureau of Labor Statistics''. On leur importe en utilisant leur identifiant ids.\n"
      ],
      "metadata": {
        "id": "EkXGEz595d1S"
      },
      "id": "EkXGEz595d1S"
    },
    {
      "cell_type": "markdown",
      "source": [
        "Installation des packages"
      ],
      "metadata": {
        "id": "yqKUGnbo5g2y"
      },
      "id": "yqKUGnbo5g2y"
    },
    {
      "cell_type": "code",
      "source": [
        "#install packages\n",
        "#install.packages(\"data.table\")\n",
        "#install.packages('ggplot2')\n",
        "#install.packages('urca')\n",
        "#sessionInfo()\n",
        "#install.packages(\"https://git.nomics.world/dbnomics/rdbnomics\")\n",
        "#remotes::install_github(\"dbnomics/rdbnomics\", build_vignettes = TRUE, force = TRUE)"
      ],
      "metadata": {
        "id": "gJ0dvmPs214M",
        "outputId": "559db039-aaae-4039-b9d6-2b7dd69dd0db",
        "colab": {
          "base_uri": "https://localhost:8080/"
        }
      },
      "id": "gJ0dvmPs214M",
      "execution_count": 18,
      "outputs": [
        {
          "output_type": "stream",
          "name": "stderr",
          "text": [
            "Installing package into ‘/usr/local/lib/R/site-library’\n",
            "(as ‘lib’ is unspecified)\n",
            "\n"
          ]
        }
      ]
    },
    {
      "cell_type": "code",
      "execution_count": 10,
      "id": "562f1f9d",
      "metadata": {
        "id": "562f1f9d",
        "outputId": "e8401798-7826-45be-f19b-c9c939057842",
        "colab": {
          "base_uri": "https://localhost:8080/",
          "height": 1000
        }
      },
      "outputs": [
        {
          "output_type": "stream",
          "name": "stderr",
          "text": [
            "Visit <https://db.nomics.world>.\n",
            "\n"
          ]
        },
        {
          "output_type": "display_data",
          "data": {
            "text/html": [
              "<style>\n",
              ".list-inline {list-style: none; margin:0; padding: 0}\n",
              ".list-inline>li {display: inline-block}\n",
              ".list-inline>li:not(:last-child)::after {content: \"\\00b7\"; padding: 0 .5ex}\n",
              "</style>\n",
              "<ol class=list-inline><li>'data.table'</li><li>'data.frame'</li></ol>\n"
            ],
            "text/markdown": "1. 'data.table'\n2. 'data.frame'\n\n\n",
            "text/latex": "\\begin{enumerate*}\n\\item 'data.table'\n\\item 'data.frame'\n\\end{enumerate*}\n",
            "text/plain": [
              "[1] \"data.table\" \"data.frame\""
            ]
          },
          "metadata": {}
        },
        {
          "output_type": "stream",
          "name": "stdout",
          "text": [
            "Classes ‘data.table’ and 'data.frame':\t117 obs. of  79 variables:\n",
            " $ @frequency     : chr  \"quarterly\" \"quarterly\" \"quarterly\" \"quarterly\" ...\n",
            " $ absn           : chr  \"0\" \"0\" \"0\" \"0\" ...\n",
            " $ Absn           : chr  \"N/A\" \"N/A\" \"N/A\" \"N/A\" ...\n",
            " $ activity       : chr  \"0\" \"0\" \"0\" \"0\" ...\n",
            " $ Activity       : chr  \"N/A\" \"N/A\" \"N/A\" \"N/A\" ...\n",
            " $ ages           : chr  \"00\" \"00\" \"00\" \"00\" ...\n",
            " $ Ages           : chr  \"16 years and over\" \"16 years and over\" \"16 years and over\" \"16 years and over\" ...\n",
            " $ born           : chr  \"00\" \"00\" \"00\" \"00\" ...\n",
            " $ Born           : chr  \"N/A\" \"N/A\" \"N/A\" \"N/A\" ...\n",
            " $ cert           : chr  \"00\" \"00\" \"00\" \"00\" ...\n",
            " $ Cert           : chr  \"N/A\" \"N/A\" \"N/A\" \"N/A\" ...\n",
            " $ chld           : chr  \"00\" \"00\" \"00\" \"00\" ...\n",
            " $ Chld           : chr  \"N/A\" \"N/A\" \"N/A\" \"N/A\" ...\n",
            " $ class          : chr  \"00\" \"00\" \"00\" \"00\" ...\n",
            " $ Class          : chr  \"N/A\" \"N/A\" \"N/A\" \"N/A\" ...\n",
            " $ dataset_code   : chr  \"ln\" \"ln\" \"ln\" \"ln\" ...\n",
            " $ dataset_name   : chr  \"Labor Force Statistics including the National Unemployment Rate\" \"Labor Force Statistics including the National Unemployment Rate\" \"Labor Force Statistics including the National Unemployment Rate\" \"Labor Force Statistics including the National Unemployment Rate\" ...\n",
            " $ disa           : chr  \"00\" \"00\" \"00\" \"00\" ...\n",
            " $ Disa           : chr  \"N/A\" \"N/A\" \"N/A\" \"N/A\" ...\n",
            " $ duration       : chr  \"000\" \"000\" \"000\" \"000\" ...\n",
            " $ Duration       : chr  \"N/A\" \"N/A\" \"N/A\" \"N/A\" ...\n",
            " $ education      : chr  \"00\" \"00\" \"00\" \"00\" ...\n",
            " $ Education      : chr  \"All educational levels\" \"All educational levels\" \"All educational levels\" \"All educational levels\" ...\n",
            " $ entr           : chr  \"0\" \"0\" \"0\" \"0\" ...\n",
            " $ Entr           : chr  \"N/A\" \"N/A\" \"N/A\" \"N/A\" ...\n",
            " $ expr           : chr  \"0\" \"0\" \"0\" \"0\" ...\n",
            " $ Expr           : chr  \"N/A\" \"N/A\" \"N/A\" \"N/A\" ...\n",
            " $ hheader        : chr  \"00\" \"00\" \"00\" \"00\" ...\n",
            " $ Hheader        : chr  \"N/A\" \"N/A\" \"N/A\" \"N/A\" ...\n",
            " $ hour           : chr  \"00\" \"00\" \"00\" \"00\" ...\n",
            " $ Hour           : chr  \"N/A\" \"N/A\" \"N/A\" \"N/A\" ...\n",
            " $ indexed_at     : POSIXct, format: \"2023-06-03 02:35:04\" \"2023-06-03 02:35:04\" ...\n",
            " $ indy           : chr  \"0000\" \"0000\" \"0000\" \"0000\" ...\n",
            " $ Indy           : chr  \"All Industries\" \"All Industries\" \"All Industries\" \"All Industries\" ...\n",
            " $ jdes           : chr  \"0\" \"0\" \"0\" \"0\" ...\n",
            " $ Jdes           : chr  \"N/A\" \"N/A\" \"N/A\" \"N/A\" ...\n",
            " $ lfst           : chr  \"33\" \"33\" \"33\" \"33\" ...\n",
            " $ Lfst           : chr  \"Aggregated totals unemployed\" \"Aggregated totals unemployed\" \"Aggregated totals unemployed\" \"Aggregated totals unemployed\" ...\n",
            " $ look           : chr  \"00\" \"00\" \"00\" \"00\" ...\n",
            " $ Look           : chr  \"N/A\" \"N/A\" \"N/A\" \"N/A\" ...\n",
            " $ mari           : chr  \"00\" \"00\" \"00\" \"00\" ...\n",
            " $ Mari           : chr  \"N/A\" \"N/A\" \"N/A\" \"N/A\" ...\n",
            " $ mjhs           : chr  \"00\" \"00\" \"00\" \"00\" ...\n",
            " $ Mjhs           : chr  \"N/A\" \"N/A\" \"N/A\" \"N/A\" ...\n",
            " $ occupation     : chr  \"0000\" \"0000\" \"0000\" \"0000\" ...\n",
            " $ Occupation     : chr  \"All Occupations\" \"All Occupations\" \"All Occupations\" \"All Occupations\" ...\n",
            " $ orig           : chr  \"00\" \"00\" \"00\" \"00\" ...\n",
            " $ Orig           : chr  \"All Origins\" \"All Origins\" \"All Origins\" \"All Origins\" ...\n",
            " $ original_period: chr  \"1994-Q1\" \"1994-Q2\" \"1994-Q3\" \"1994-Q4\" ...\n",
            " $ original_value : chr  \"7.9\" \"7.4\" \"7.3\" \"6.8\" ...\n",
            " $ pcts           : chr  \"47\" \"47\" \"47\" \"47\" ...\n",
            " $ Pcts           : chr  \"Unemployed and marginally attached workers as a percent of the labor force and marg attached\" \"Unemployed and marginally attached workers as a percent of the labor force and marg attached\" \"Unemployed and marginally attached workers as a percent of the labor force and marg attached\" \"Unemployed and marginally attached workers as a percent of the labor force and marg attached\" ...\n",
            " $ period         : Date, format: \"1994-01-01\" \"1994-04-01\" ...\n",
            " $ periodicity    : chr  \"Q\" \"Q\" \"Q\" \"Q\" ...\n",
            " $ Periodicity    : chr  \"Quarterly\" \"Quarterly\" \"Quarterly\" \"Quarterly\" ...\n",
            " $ provider_code  : chr  \"BLS\" \"BLS\" \"BLS\" \"BLS\" ...\n",
            " $ race           : chr  \"00\" \"00\" \"00\" \"00\" ...\n",
            " $ Race           : chr  \"All Races\" \"All Races\" \"All Races\" \"All Races\" ...\n",
            " $ rjnw           : chr  \"00\" \"00\" \"00\" \"00\" ...\n",
            " $ Rjnw           : chr  \"N/A\" \"N/A\" \"N/A\" \"N/A\" ...\n",
            " $ rnlf           : chr  \"00\" \"00\" \"00\" \"00\" ...\n",
            " $ Rnlf           : chr  \"N/A\" \"N/A\" \"N/A\" \"N/A\" ...\n",
            " $ rwns           : chr  \"00\" \"00\" \"00\" \"00\" ...\n",
            " $ Rwns           : chr  \"N/A\" \"N/A\" \"N/A\" \"N/A\" ...\n",
            " $ seasonal       : chr  \"S\" \"S\" \"S\" \"S\" ...\n",
            " $ Seasonal       : chr  \"Seasonally Adjusted\" \"Seasonally Adjusted\" \"Seasonally Adjusted\" \"Seasonally Adjusted\" ...\n",
            " $ seek           : chr  \"00\" \"00\" \"00\" \"00\" ...\n",
            " $ Seek           : chr  \"N/A\" \"N/A\" \"N/A\" \"N/A\" ...\n",
            " $ series_code    : chr  \"LNS13327708Q\" \"LNS13327708Q\" \"LNS13327708Q\" \"LNS13327708Q\" ...\n",
            " $ series_name    : chr  \"N/A – N/A – 16 years and over – N/A – N/A – N/A – N/A – N/A – N/A – All educational levels – N/A – N/A – N/A – \"| __truncated__ \"N/A – N/A – 16 years and over – N/A – N/A – N/A – N/A – N/A – N/A – All educational levels – N/A – N/A – N/A – \"| __truncated__ \"N/A – N/A – 16 years and over – N/A – N/A – N/A – N/A – N/A – N/A – All educational levels – N/A – N/A – N/A – \"| __truncated__ \"N/A – N/A – 16 years and over – N/A – N/A – N/A – N/A – N/A – N/A – All educational levels – N/A – N/A – N/A – \"| __truncated__ ...\n",
            " $ sexs           : chr  \"0\" \"0\" \"0\" \"0\" ...\n",
            " $ Sexs           : chr  \"Both Sexes\" \"Both Sexes\" \"Both Sexes\" \"Both Sexes\" ...\n",
            " $ tdat           : chr  \"01\" \"01\" \"01\" \"01\" ...\n",
            " $ Tdat           : chr  \"Percent or rate\" \"Percent or rate\" \"Percent or rate\" \"Percent or rate\" ...\n",
            " $ value          : num  7.9 7.4 7.3 6.8 6.6 6.8 6.8 6.7 6.7 6.6 ...\n",
            " $ vets           : chr  \"00\" \"00\" \"00\" \"00\" ...\n",
            " $ Vets           : chr  \"N/A\" \"N/A\" \"N/A\" \"N/A\" ...\n",
            " $ wkst           : chr  \"00\" \"00\" \"00\" \"00\" ...\n",
            " $ Wkst           : chr  \"N/A\" \"N/A\" \"N/A\" \"N/A\" ...\n",
            " - attr(*, \".internal.selfref\")=<externalptr> \n"
          ]
        }
      ],
      "source": [
        "library(data.table)\n",
        "library(rdbnomics)\n",
        "\n",
        "df<-rdb(ids = \"BLS/ln/LNS13327708Q\")\n",
        "class(df)\n",
        "str(df)"
      ]
    },
    {
      "cell_type": "markdown",
      "source": [
        "On crée un dataframe contenant uniquement les dates et la série du taux de chômage."
      ],
      "metadata": {
        "id": "i9M8rKgC5tf5"
      },
      "id": "i9M8rKgC5tf5"
    },
    {
      "cell_type": "code",
      "source": [
        "df_us<-df[,c(\"period\",\"value\")]\n",
        "colnames(df_us)<-c('Date','taux')"
      ],
      "metadata": {
        "id": "SgdBfHz150WL"
      },
      "id": "SgdBfHz150WL",
      "execution_count": 11,
      "outputs": []
    },
    {
      "cell_type": "code",
      "source": [
        "head(df_us)"
      ],
      "metadata": {
        "id": "ZlCDWWl953w7",
        "outputId": "e9194d63-27d3-4b21-96bb-d589cd12c1c6",
        "colab": {
          "base_uri": "https://localhost:8080/",
          "height": 299
        }
      },
      "id": "ZlCDWWl953w7",
      "execution_count": 12,
      "outputs": [
        {
          "output_type": "display_data",
          "data": {
            "text/html": [
              "<table class=\"dataframe\">\n",
              "<caption>A data.table: 6 × 2</caption>\n",
              "<thead>\n",
              "\t<tr><th scope=col>Date</th><th scope=col>taux</th></tr>\n",
              "\t<tr><th scope=col>&lt;date&gt;</th><th scope=col>&lt;dbl&gt;</th></tr>\n",
              "</thead>\n",
              "<tbody>\n",
              "\t<tr><td>1994-01-01</td><td>7.9</td></tr>\n",
              "\t<tr><td>1994-04-01</td><td>7.4</td></tr>\n",
              "\t<tr><td>1994-07-01</td><td>7.3</td></tr>\n",
              "\t<tr><td>1994-10-01</td><td>6.8</td></tr>\n",
              "\t<tr><td>1995-01-01</td><td>6.6</td></tr>\n",
              "\t<tr><td>1995-04-01</td><td>6.8</td></tr>\n",
              "</tbody>\n",
              "</table>\n"
            ],
            "text/markdown": "\nA data.table: 6 × 2\n\n| Date &lt;date&gt; | taux &lt;dbl&gt; |\n|---|---|\n| 1994-01-01 | 7.9 |\n| 1994-04-01 | 7.4 |\n| 1994-07-01 | 7.3 |\n| 1994-10-01 | 6.8 |\n| 1995-01-01 | 6.6 |\n| 1995-04-01 | 6.8 |\n\n",
            "text/latex": "A data.table: 6 × 2\n\\begin{tabular}{ll}\n Date & taux\\\\\n <date> & <dbl>\\\\\n\\hline\n\t 1994-01-01 & 7.9\\\\\n\t 1994-04-01 & 7.4\\\\\n\t 1994-07-01 & 7.3\\\\\n\t 1994-10-01 & 6.8\\\\\n\t 1995-01-01 & 6.6\\\\\n\t 1995-04-01 & 6.8\\\\\n\\end{tabular}\n",
            "text/plain": [
              "  Date       taux\n",
              "1 1994-01-01 7.9 \n",
              "2 1994-04-01 7.4 \n",
              "3 1994-07-01 7.3 \n",
              "4 1994-10-01 6.8 \n",
              "5 1995-01-01 6.6 \n",
              "6 1995-04-01 6.8 "
            ]
          },
          "metadata": {}
        }
      ]
    },
    {
      "cell_type": "code",
      "source": [
        "tail(df_us)"
      ],
      "metadata": {
        "id": "TPQFexzS57Pl"
      },
      "id": "TPQFexzS57Pl",
      "execution_count": null,
      "outputs": []
    },
    {
      "cell_type": "markdown",
      "source": [
        "Le graphique montre que le taux de chômage aux Etats-Unis fluctue autour de 6\\% du début de l'échantillon jusqu'à l'année 2008 à partir de laquelle il augmente très rapidement jusqu'au niveau de 11\\%, sous l'effet de la crise des subprimes. On observe aussi l'épisode de la crise du Covid avec une hausse instantanée du taux de chômage autour de 14\\% suivie d'un retour rapide à des niveaux très bas. La période du covid peut avoir un impact sur les résultats des tests statistiques. Au vu du graphique, il est assez difficile de trancher sur la stationnarité du taux de chômage."
      ],
      "metadata": {
        "id": "oWIePNvz57_P"
      },
      "id": "oWIePNvz57_P"
    },
    {
      "cell_type": "code",
      "source": [
        "library(ggplot2)\n",
        "p_us<-ggplot(data=df_us,aes(x=Date,y=taux))+geom_point(color='red')+geom_line(color='red')+xlab('Date')+ylab('Taux de chômage')+ggtitle('Taux de chômage aux Etats-Unis - 1994/01/01 à 2023/01/01')+theme(plot.title = element_text(hjust = 0.5))\n",
        "p_us"
      ],
      "metadata": {
        "id": "1kh-ovsW5-T8",
        "outputId": "db31e1d3-37ed-45b7-a464-f3b7176c4ba2",
        "colab": {
          "base_uri": "https://localhost:8080/",
          "height": 458
        }
      },
      "id": "1kh-ovsW5-T8",
      "execution_count": 14,
      "outputs": [
        {
          "output_type": "display_data",
          "data": {
            "text/plain": [
              "plot without title"
            ],
            "image/png": "[encoded data removed]"
          },
          "metadata": {
            "image/png": {
              "width": 420,
              "height": 420
            }
          }
        }
      ]
    },
    {
      "cell_type": "markdown",
      "source": [
        "## Autocorrélogramme du taux de chômage"
      ],
      "metadata": {
        "id": "7MFN5s9a6K4o"
      },
      "id": "7MFN5s9a6K4o"
    },
    {
      "cell_type": "code",
      "source": [
        "acf_us_rate<-acf(x=df_us$taux,main='Autocorrélogramme du taux de chômage des Etats-Unis')\n",
        "acf_us_rate$acf"
      ],
      "metadata": {
        "id": "xRIvoted6O9T",
        "outputId": "f1e1dc9a-f893-4cb2-af22-49d2a4c5ac80",
        "colab": {
          "base_uri": "https://localhost:8080/",
          "height": 507
        }
      },
      "id": "xRIvoted6O9T",
      "execution_count": 15,
      "outputs": [
        {
          "output_type": "display_data",
          "data": {
            "text/html": [
              "<style>\n",
              ".list-inline {list-style: none; margin:0; padding: 0}\n",
              ".list-inline>li {display: inline-block}\n",
              ".list-inline>li:not(:last-child)::after {content: \"\\00b7\"; padding: 0 .5ex}\n",
              "</style>\n",
              "<ol class=list-inline><li>1</li><li>0.849045774571667</li><li>0.746841380343933</li><li>0.665841012024227</li><li>0.585135360875717</li><li>0.496067791774814</li><li>0.412519351830748</li><li>0.34014101240649</li><li>0.28180659505653</li><li>0.230298256207789</li><li>0.187424923590049</li><li>0.154881361995688</li><li>0.150153872812602</li><li>0.0992868776484683</li><li>0.0535028603201744</li><li>0.0115168765305817</li><li>-0.0306319822240756</li><li>-0.070056540899101</li><li>-0.104019522079309</li><li>-0.133889564472292</li><li>-0.152933123621648</li></ol>\n"
            ],
            "text/markdown": "1. 1\n2. 0.849045774571667\n3. 0.746841380343933\n4. 0.665841012024227\n5. 0.585135360875717\n6. 0.496067791774814\n7. 0.412519351830748\n8. 0.34014101240649\n9. 0.28180659505653\n10. 0.230298256207789\n11. 0.187424923590049\n12. 0.154881361995688\n13. 0.150153872812602\n14. 0.0992868776484683\n15. 0.0535028603201744\n16. 0.0115168765305817\n17. -0.0306319822240756\n18. -0.070056540899101\n19. -0.104019522079309\n20. -0.133889564472292\n21. -0.152933123621648\n\n\n",
            "text/latex": "\\begin{enumerate*}\n\\item 1\n\\item 0.849045774571667\n\\item 0.746841380343933\n\\item 0.665841012024227\n\\item 0.585135360875717\n\\item 0.496067791774814\n\\item 0.412519351830748\n\\item 0.34014101240649\n\\item 0.28180659505653\n\\item 0.230298256207789\n\\item 0.187424923590049\n\\item 0.154881361995688\n\\item 0.150153872812602\n\\item 0.0992868776484683\n\\item 0.0535028603201744\n\\item 0.0115168765305817\n\\item -0.0306319822240756\n\\item -0.070056540899101\n\\item -0.104019522079309\n\\item -0.133889564472292\n\\item -0.152933123621648\n\\end{enumerate*}\n",
            "text/plain": [
              ", , 1\n",
              "\n",
              "             [,1]\n",
              " [1,]  1.00000000\n",
              " [2,]  0.84904577\n",
              " [3,]  0.74684138\n",
              " [4,]  0.66584101\n",
              " [5,]  0.58513536\n",
              " [6,]  0.49606779\n",
              " [7,]  0.41251935\n",
              " [8,]  0.34014101\n",
              " [9,]  0.28180660\n",
              "[10,]  0.23029826\n",
              "[11,]  0.18742492\n",
              "[12,]  0.15488136\n",
              "[13,]  0.15015387\n",
              "[14,]  0.09928688\n",
              "[15,]  0.05350286\n",
              "[16,]  0.01151688\n",
              "[17,] -0.03063198\n",
              "[18,] -0.07005654\n",
              "[19,] -0.10401952\n",
              "[20,] -0.13388956\n",
              "[21,] -0.15293312\n"
            ]
          },
          "metadata": {}
        },
        {
          "output_type": "display_data",
          "data": {
            "text/plain": [
              "Plot with title “Autocorrélogramme du taux de chômage des Etats-Unis”"
            ],
            "image/png": "[encoded data removed]"
          },
          "metadata": {
            "image/png": {
              "width": 420,
              "height": 420
            }
          }
        }
      ]
    },
    {
      "cell_type": "markdown",
      "source": [
        "On observe que l'autocorrélation est supérieure à 0.5 jusqu'à l'ordre 4, ce qui est plutôt élevé. Elle n'est plus significative, pour un risque de première espèce de 5%, à partir de l'ordre 11. L'autocorrélogramme du taux de chômage serait compatible avec celui d'un processus stationnaire."
      ],
      "metadata": {
        "id": "JyJ7j8cc6RiJ"
      },
      "id": "JyJ7j8cc6RiJ"
    },
    {
      "cell_type": "code",
      "source": [
        "pacf(x=df_us$taux,main='Autocorrélogramme partiel du taux de chômage des Etats-Unis')"
      ],
      "metadata": {
        "id": "3I2v-C906WFC",
        "outputId": "097ba98e-eeaa-4784-d35f-6079c30d929e",
        "colab": {
          "base_uri": "https://localhost:8080/",
          "height": 458
        }
      },
      "id": "3I2v-C906WFC",
      "execution_count": 16,
      "outputs": [
        {
          "output_type": "display_data",
          "data": {
            "text/plain": [
              "Plot with title “Autocorrélogramme partiel du taux de chômage des Etats-Unis”"
            ],
            "image/png": "[encoded data removed]"
          },
          "metadata": {
            "image/png": {
              "width": 420,
              "height": 420
            }
          }
        }
      ]
    },
    {
      "cell_type": "markdown",
      "source": [
        "Aucune autocorrélation partielle n'est significativement différente de 0. L'autocorrélogramme et l'autocorrélogramme partiel nous suggère que le taux de chômage pourrait être modélisé par un processus AR(p).\n",
        "\n",
        "\n",
        "# Test de Dickey-Fuller augmenté\n",
        "\n",
        "## Test ADF avec constante et tendance déterministe\n",
        "On applique le test ADF avec une tendance déterministe. Le nombre de retards maximum est fixé à 8 et le nombre de retards optimal est déterminé par la minimisation du critère AIC."
      ],
      "metadata": {
        "id": "Y4HUgCte6Zv7"
      },
      "id": "Y4HUgCte6Zv7"
    },
    {
      "cell_type": "code",
      "source": [
        "library(urca)\n",
        "adf1<-ur.df(y = df_us$taux,type=c(\"trend\"), lag=8, selectlags = c('AIC'))\n",
        "summary(adf1)"
      ],
      "metadata": {
        "id": "46h38UGf6ZXN",
        "outputId": "ebd2f8df-9c7e-48e5-9055-7b9a2dc4527e",
        "colab": {
          "base_uri": "https://localhost:8080/",
          "height": 633
        }
      },
      "id": "46h38UGf6ZXN",
      "execution_count": 19,
      "outputs": [
        {
          "output_type": "display_data",
          "data": {
            "text/plain": [
              "\n",
              "############################################### \n",
              "# Augmented Dickey-Fuller Test Unit Root Test # \n",
              "############################################### \n",
              "\n",
              "Test regression trend \n",
              "\n",
              "\n",
              "Call:\n",
              "lm(formula = z.diff ~ z.lag.1 + 1 + tt + z.diff.lag)\n",
              "\n",
              "Residuals:\n",
              "    Min      1Q  Median      3Q     Max \n",
              "-2.4270 -0.3131 -0.1299  0.0887  9.5172 \n",
              "\n",
              "Coefficients:\n",
              "              Estimate Std. Error t value Pr(>|t|)  \n",
              "(Intercept)  0.8277078  0.4057347   2.040   0.0439 *\n",
              "z.lag.1     -0.1216237  0.0532682  -2.283   0.0245 *\n",
              "tt          -0.0005169  0.0033362  -0.155   0.8772  \n",
              "z.diff.lag  -0.1037807  0.0984491  -1.054   0.2943  \n",
              "---\n",
              "Signif. codes:  0 ‘***’ 0.001 ‘**’ 0.01 ‘*’ 0.05 ‘.’ 0.1 ‘ ’ 1\n",
              "\n",
              "Residual standard error: 1.072 on 104 degrees of freedom\n",
              "Multiple R-squared:  0.07586,\tAdjusted R-squared:  0.0492 \n",
              "F-statistic: 2.846 on 3 and 104 DF,  p-value: 0.04123\n",
              "\n",
              "\n",
              "Value of test-statistic is: -2.2832 1.8245 2.7056 \n",
              "\n",
              "Critical values for test statistics: \n",
              "      1pct  5pct 10pct\n",
              "tau3 -3.99 -3.43 -3.13\n",
              "phi2  6.22  4.75  4.07\n",
              "phi3  8.43  6.49  5.47\n"
            ]
          },
          "metadata": {}
        }
      ]
    },
    {
      "cell_type": "markdown",
      "source": [
        "La statistique du test ADF est égale à $t_{ADF}=-2.283$. Les seuils de rejet figurent sur la ligne tau3. La statistique de test $t_{ADF}$ est supérieure aux seuils de rejets pour les risques de première espèce de 1\\%, 5\\% et 10\\%. On ne peut pas rejeter l'hypothèse nulle de racine unitaire.\n",
        "\n",
        "Le t-stat de la tendance déterministe est égal à $t_{\\hat{b}} = -0.155$. Le seuil de rejet qui figurent la table de $t_{\\hat{b}}$ est égal à 3.14 pour un risque de première espèce de 5\\%. on a donc $\\vert t_{\\hat{b}} \\vert = 0.155 <3.14$ : on ne peut pas rejeter l'hypothèse nulle que la tendance déterministe n'est pas significative.\n",
        "\n",
        "## Test ADF avec constante"
      ],
      "metadata": {
        "id": "tnNsjnSiAQS_"
      },
      "id": "tnNsjnSiAQS_"
    },
    {
      "cell_type": "code",
      "source": [
        "adf2<-ur.df(y = df_us$taux,type=c(\"drift\"), lag=8, selectlags = c('AIC'))\n",
        "summary(adf2)"
      ],
      "metadata": {
        "id": "mSuu6J-_ATPE",
        "outputId": "ba5a1952-5fab-46c2-aa21-b4c1033c1a27",
        "colab": {
          "base_uri": "https://localhost:8080/",
          "height": 600
        }
      },
      "id": "mSuu6J-_ATPE",
      "execution_count": 20,
      "outputs": [
        {
          "output_type": "display_data",
          "data": {
            "text/plain": [
              "\n",
              "############################################### \n",
              "# Augmented Dickey-Fuller Test Unit Root Test # \n",
              "############################################### \n",
              "\n",
              "Test regression drift \n",
              "\n",
              "\n",
              "Call:\n",
              "lm(formula = z.diff ~ z.lag.1 + 1 + z.diff.lag)\n",
              "\n",
              "Residuals:\n",
              "    Min      1Q  Median      3Q     Max \n",
              "-2.4520 -0.3038 -0.1329  0.1018  9.4926 \n",
              "\n",
              "Coefficients:\n",
              "            Estimate Std. Error t value Pr(>|t|)  \n",
              "(Intercept)  0.80241    0.36969   2.170   0.0322 *\n",
              "z.lag.1     -0.12266    0.05260  -2.332   0.0216 *\n",
              "z.diff.lag  -0.10272    0.09775  -1.051   0.2958  \n",
              "---\n",
              "Signif. codes:  0 ‘***’ 0.001 ‘**’ 0.01 ‘*’ 0.05 ‘.’ 0.1 ‘ ’ 1\n",
              "\n",
              "Residual standard error: 1.067 on 105 degrees of freedom\n",
              "Multiple R-squared:  0.07565,\tAdjusted R-squared:  0.05804 \n",
              "F-statistic: 4.297 on 2 and 105 DF,  p-value: 0.01609\n",
              "\n",
              "\n",
              "Value of test-statistic is: -2.3319 2.7504 \n",
              "\n",
              "Critical values for test statistics: \n",
              "      1pct  5pct 10pct\n",
              "tau2 -3.46 -2.88 -2.57\n",
              "phi1  6.52  4.63  3.81\n"
            ]
          },
          "metadata": {}
        }
      ]
    },
    {
      "cell_type": "markdown",
      "source": [
        "La statistique du test ADF est égale à $t_{ADF}=-2.332$. Les seuils de rejet figurent sur la ligne tau3. La statistique de test $t_{ADF}$ est supérieure aux seuils de rejets pour les risques de première espèce de 1\\%, 5\\% et 10\\%. On ne peut pas rejeter l'hypothèse nulle de racine unitaire.\n",
        "\n",
        "Le t-stat de la constante est égal à $t_{\\hat{c}} = 2.170$. Le seuil de rejet de la table de $t_{\\hat{c}}$ est égal à 2.86 pour un risque de première espèce de 5\\%. on a donc $\\vert t_{\\hat{c}} \\vert = 2.170<2.86$ : on ne peut pas rejeter l'hypothèse nulle que la contante n'est pas significative.\n",
        "\n",
        "## Test ADF sans constante ni tendance déterministe"
      ],
      "metadata": {
        "id": "XtIjuwdwAYS9"
      },
      "id": "XtIjuwdwAYS9"
    },
    {
      "cell_type": "code",
      "source": [
        "adf3<-ur.df(y = df_us$taux,type=c(\"none\"), lag=8, selectlags = c('AIC'))\n",
        "summary(adf3)"
      ],
      "metadata": {
        "id": "V9t9Z-tyAaek"
      },
      "id": "V9t9Z-tyAaek",
      "execution_count": null,
      "outputs": []
    },
    {
      "cell_type": "markdown",
      "source": [
        "La statistique du test ADF est égale à $t_{ADF}=-0.874$. Les seuils de rejet figurent sur la ligne tau3. La statistique de test $t_{ADF}$ est supérieure aux seuils de rejets pour les risques de première espèce de 1\\%, 5\\% et 10\\%. On ne peut pas rejeter l'hypothèse nulle de racine unitaire. On conclut que la série n'est pas stationnaire.\n",
        "\n",
        "## Conclusion\n",
        "Les résultats des tests ADF nous amènent à conclure que la série du taux de chômage est une série DS sans tendance ni constante. On dit aussi qu'elle est un processus DS sans dérive (drift).\n",
        "\n",
        "\n",
        "\n",
        "# Test de stationnarité de KPSS\n",
        "\n",
        "On applique le test de stationnarité de KPSS. On présente les résultats du test avec une constante. La représentation graphique de la série et les conclusions du test ADF montrent que la taux de chômage ne contient pas de tendance déterministe."
      ],
      "metadata": {
        "id": "rNrm2VTaAd54"
      },
      "id": "rNrm2VTaAd54"
    },
    {
      "cell_type": "code",
      "source": [
        "kpss_mu<-ur.kpss(y=df_us$taux,type=\"mu\",lags=\"short\")\n",
        "summary(kpss_mu)"
      ],
      "metadata": {
        "id": "df9QqYrDAgD4"
      },
      "id": "df9QqYrDAgD4",
      "execution_count": null,
      "outputs": []
    },
    {
      "cell_type": "markdown",
      "source": [
        "La statistique du test KPSS avec une constante est égale à $LM_{KPSS} = 0.2578$. Elle est inférieure au seuil de rejet à 5\\% : $$ 0.2578<0.436$$ (et aussi à celle à 1%). On ne peut donc pas rejetter l'hypothèse de stationnarité du taux de chômage autour d'une constante.\n"
      ],
      "metadata": {
        "id": "A_fh9PFJAh9P"
      },
      "id": "A_fh9PFJAh9P"
    },
    {
      "cell_type": "code",
      "source": [
        "kpss_tau<-ur.kpss(y=df_us$taux,type=\"tau\",lags=\"short\")\n",
        "summary(kpss_tau)"
      ],
      "metadata": {
        "id": "n5KupuWsAjuk"
      },
      "id": "n5KupuWsAjuk",
      "execution_count": null,
      "outputs": []
    },
    {
      "cell_type": "markdown",
      "source": [
        "# Conclusion générale sur les test de racine unitaire et de stationnarité\n",
        "On voit que les conclusions des tests ADF et KPSS sont contradictoires en ce qui concerne la stationnarité du taux de chômage. Des études empiriques sur le taux de chômage aux Etats-Unis conclut à la stationnarité du taux de chômage  (Nelson and Plosser, 1982, Perron, 1988, Xiao and Phillips, 1997). On reviendra sur cette question lors l'étude de la modélisation du taux de chômage par un modèle ARMA (chapitre III).\n",
        "\n",
        "# Tests sans la période Covid\n",
        "\n",
        "On exclut les observations postérieures au premier semestre de l'année 2020. Les résultats des tests de racine unitaire et de stationnarité ne sont modifiés. On peut dire aussi qu'ils sont robustes à cette modification de la période de test."
      ],
      "metadata": {
        "id": "LJuEzCt-An5e"
      },
      "id": "LJuEzCt-An5e"
    },
    {
      "cell_type": "code",
      "source": [
        "df_us_20Q1=df_us[df_us$Date<\"2020-04-01\",]"
      ],
      "metadata": {
        "id": "ZeFT476gAq-H"
      },
      "id": "ZeFT476gAq-H",
      "execution_count": 21,
      "outputs": []
    },
    {
      "cell_type": "code",
      "source": [
        "acf_us_rate<-acf(x=df_us_20Q1$taux,main='Autocorrélogramme du taux de chômage des Etats-Unis')\n",
        "acf_us_rate$acf"
      ],
      "metadata": {
        "id": "MQQDMbfLAtua"
      },
      "id": "MQQDMbfLAtua",
      "execution_count": null,
      "outputs": []
    },
    {
      "cell_type": "code",
      "source": [
        "pacf(x=df_us_20Q1$taux,main='Autocorrélogramme partiel du taux de chômage des Etats-Unis')"
      ],
      "metadata": {
        "id": "vKj4itgPAv8U"
      },
      "id": "vKj4itgPAv8U",
      "execution_count": null,
      "outputs": []
    },
    {
      "cell_type": "markdown",
      "source": [
        "## Test de Dickey-Fuller augmenté\n",
        "On applique le test ADF avec une tendance déterministe. Le nombre de retards maximum est fixé à 8 et le nombre de retards optimal est déterminé par la minimisation du critère AIC."
      ],
      "metadata": {
        "id": "ACfVD39xAxeS"
      },
      "id": "ACfVD39xAxeS"
    },
    {
      "cell_type": "code",
      "source": [
        "adf1<-ur.df(y = df_us_20Q1$taux,type=c(\"trend\"), lag=8, selectlags = c('AIC'))\n",
        "summary(adf1)"
      ],
      "metadata": {
        "id": "TeTx5SsGAz0z"
      },
      "id": "TeTx5SsGAz0z",
      "execution_count": null,
      "outputs": []
    },
    {
      "cell_type": "markdown",
      "source": [
        "La statistique du test ADF est égale à $t_{ADF}=-2.493$. Les seuils de rejet figurent sur la ligne tau3. La statistique de test $t_{ADF}$ est supérieure aux seuils de rejets pour les risques de première espèce de 1\\%, 5\\% et 10\\%. On ne peut pas rejeter l'hypothèse nulle de racine unitaire.\n",
        "\n",
        "Le t-stat de la tendance déterministe est égal à $t_{\\hat{b}} = 0.297$. Le seuil de rejet qui figurent la table de $t_{\\hat{b}}$ est égal à 3.14 pour un risque de première espèce de 5\\%. on a donc $\\vert t_{\\hat{b}} \\vert = 0.155 <3.14$ : on ne peut pas rejeter l'hypothèse nulle que la tendance déterministe n'est pas significative."
      ],
      "metadata": {
        "id": "T7xOfTlBA2yG"
      },
      "id": "T7xOfTlBA2yG"
    },
    {
      "cell_type": "code",
      "source": [
        "adf2<-ur.df(y = df_us_20Q1$taux,type=c(\"drift\"), lag=8, selectlags = c('AIC'))\n",
        "summary(adf2)"
      ],
      "metadata": {
        "id": "3YIcWWt8A4rf"
      },
      "id": "3YIcWWt8A4rf",
      "execution_count": null,
      "outputs": []
    },
    {
      "cell_type": "markdown",
      "source": [
        "La statistique du test ADF est égale à $t_{ADF}=-2.498$ les seuils de rejet figurent sur la ligne tau3. La statistique de test $t_{ADF}$ est supérieure aux seuils de rejets pour les risques de première espèce de 1\\%, 5\\% et 10\\%. On ne peut pas rejeter l'hypothèse nulle de racine unitaire.\n",
        "\n",
        "Le t-stat de la constante est égal à $t_{\\hat{c}} = 2.377$. Le seuil de rejet de la table de $t_{\\hat{c}}$ est égal à 2.86 pour un risque de première espèce de 5\\%. on a donc $\\vert t_{\\hat{c}} \\vert = 2.170<2.86$ : on ne peut pas rejeter l'hypothèse nulle que la contante n'est pas significative."
      ],
      "metadata": {
        "id": "Cz4-fJifA8cn"
      },
      "id": "Cz4-fJifA8cn"
    },
    {
      "cell_type": "code",
      "source": [
        "adf3<-ur.df(y = df_us_20Q1$taux,type=c(\"none\"), lag=8, selectlags = c('AIC'))\n",
        "summary(adf3)"
      ],
      "metadata": {
        "id": "rJZdcJ2cA-fW"
      },
      "id": "rJZdcJ2cA-fW",
      "execution_count": null,
      "outputs": []
    },
    {
      "cell_type": "markdown",
      "source": [
        "La statistique du test ADF est égale à $t_{ADF}=-0.758$. Les seuils de rejet figurent sur la ligne tau3. La statistique de test $t_{ADF}$ est supérieure aux seuils de rejets pour les risques de première espèce de 1\\%, 5\\% et 10\\%. On ne peut pas rejeter l'hypothèse nulle de racine unitaire. On conclut que la série n'est pas stationnaire.\n",
        "\n",
        "### Test de stationnarité de KPSS\n",
        "\n",
        "On applique le test de stationnarité de KPSS. On présente les résultats du test avec une constante. La représentation graphique de la série et les conclusions du test ADF montrent que la taux de chômage ne contient pas de tendance déterministe. On ne rejette pas l'hypothèse nulle de stationnarité autour d'une constante."
      ],
      "metadata": {
        "id": "wJY4ODvmBA-f"
      },
      "id": "wJY4ODvmBA-f"
    },
    {
      "cell_type": "code",
      "source": [
        "kpss_mu<-ur.kpss(y=df_us_20Q1$taux,type=\"mu\",lags=\"short\")\n",
        "summary(kpss_mu)"
      ],
      "metadata": {
        "id": "QgYIBimQBDuT",
        "outputId": "d1005b89-ffc8-4613-d22c-b09d9b4e70e1",
        "colab": {
          "base_uri": "https://localhost:8080/",
          "height": 236
        }
      },
      "id": "QgYIBimQBDuT",
      "execution_count": 22,
      "outputs": [
        {
          "output_type": "display_data",
          "data": {
            "text/plain": [
              "\n",
              "####################### \n",
              "# KPSS Unit Root Test # \n",
              "####################### \n",
              "\n",
              "Test is of type: mu with 4 lags. \n",
              "\n",
              "Value of test-statistic is: 0.306 \n",
              "\n",
              "Critical value for a significance level of: \n",
              "                10pct  5pct 2.5pct  1pct\n",
              "critical values 0.347 0.463  0.574 0.739\n"
            ]
          },
          "metadata": {}
        }
      ]
    }
  ],
  "metadata": {
    "kernelspec": {
      "display_name": "R",
      "language": "R",
      "name": "ir"
    },
    "language_info": {
      "codemirror_mode": "r",
      "file_extension": ".r",
      "mimetype": "text/x-r-source",
      "name": "R",
      "pygments_lexer": "r",
      "version": "4.2.1"
    },
    "colab": {
      "provenance": []
    }
  },
  "nbformat": 4,
  "nbformat_minor": 5
}
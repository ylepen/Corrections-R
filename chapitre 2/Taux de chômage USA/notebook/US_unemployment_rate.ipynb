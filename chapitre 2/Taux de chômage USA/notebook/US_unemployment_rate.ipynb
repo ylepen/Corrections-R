{
  "cells": [
    {
      "cell_type": "markdown",
      "source": [
        "# Exercice sur le taux de chômage aux Etats-Unis\n",
        "\n"
      ],
      "metadata": {
        "id": "OXCCVHrD5mmv"
      },
      "id": "OXCCVHrD5mmv"
    },
    {
      "cell_type": "markdown",
      "source": [
        "Installation des packages"
      ],
      "metadata": {
        "id": "yqKUGnbo5g2y"
      },
      "id": "yqKUGnbo5g2y"
    },
    {
      "cell_type": "code",
      "source": [
        "#install.packages(\"data.table\")\n",
        "#install.packages('ggplot2')\n",
        "#install.packages('urca')\n",
        "#install.packages('lmtest')\n",
        "#install.packages('sandwich')\n",
        "#sessionInfo()\n",
        "#install.packages(\"https://git.nomics.world/dbnomics/rdbnomics\")\n",
        "#remotes::install_github(\"dbnomics/rdbnomics\", build_vignettes = TRUE, force = TRUE)"
      ],
      "metadata": {
        "id": "gJ0dvmPs214M",
        "outputId": "ccab010a-530a-46cf-e12d-16122757645b",
        "colab": {
          "base_uri": "https://localhost:8080/"
        }
      },
      "id": "gJ0dvmPs214M",
      "execution_count": 31,
      "outputs": [
        {
          "output_type": "stream",
          "name": "stderr",
          "text": [
            "Installing package into ‘/usr/local/lib/R/site-library’\n",
            "(as ‘lib’ is unspecified)\n",
            "\n",
            "Installing package into ‘/usr/local/lib/R/site-library’\n",
            "(as ‘lib’ is unspecified)\n",
            "\n"
          ]
        }
      ]
    },
    {
      "cell_type": "markdown",
      "source": [
        "## Importation et visualisation des données"
      ],
      "metadata": {
        "id": "I8L1yFpOPkcQ"
      },
      "id": "I8L1yFpOPkcQ"
    },
    {
      "cell_type": "markdown",
      "source": [
        "On importe les données trimestrielles du taux de chômage aux Etats-Unis du 1994:T1 au 23:T1 (117 observations) à partir du site [DB.nomics](https://db.nomics.world/BLS ). Les données proviennent du [Bureau of Labor Statistics](https://www.bls.gov/). On les importe en utilisant leur identifiant ids.\n"
      ],
      "metadata": {
        "id": "EkXGEz595d1S"
      },
      "id": "EkXGEz595d1S"
    },
    {
      "cell_type": "code",
      "execution_count": 10,
      "id": "562f1f9d",
      "metadata": {
        "id": "562f1f9d",
        "outputId": "6312bfa9-732e-4402-c53d-ba07a1e9bb48",
        "colab": {
          "base_uri": "https://localhost:8080/"
        }
      },
      "outputs": [
        {
          "output_type": "stream",
          "name": "stdout",
          "text": [
            "Classes ‘data.table’ and 'data.frame':\t118 obs. of  79 variables:\n",
            " $ @frequency     : chr  \"quarterly\" \"quarterly\" \"quarterly\" \"quarterly\" ...\n",
            " $ absn           : chr  \"0\" \"0\" \"0\" \"0\" ...\n",
            " $ Absn           : chr  \"N/A\" \"N/A\" \"N/A\" \"N/A\" ...\n",
            " $ activity       : chr  \"0\" \"0\" \"0\" \"0\" ...\n",
            " $ Activity       : chr  \"N/A\" \"N/A\" \"N/A\" \"N/A\" ...\n",
            " $ ages           : chr  \"00\" \"00\" \"00\" \"00\" ...\n",
            " $ Ages           : chr  \"16 years and over\" \"16 years and over\" \"16 years and over\" \"16 years and over\" ...\n",
            " $ born           : chr  \"00\" \"00\" \"00\" \"00\" ...\n",
            " $ Born           : chr  \"N/A\" \"N/A\" \"N/A\" \"N/A\" ...\n",
            " $ cert           : chr  \"00\" \"00\" \"00\" \"00\" ...\n",
            " $ Cert           : chr  \"N/A\" \"N/A\" \"N/A\" \"N/A\" ...\n",
            " $ chld           : chr  \"00\" \"00\" \"00\" \"00\" ...\n",
            " $ Chld           : chr  \"N/A\" \"N/A\" \"N/A\" \"N/A\" ...\n",
            " $ class          : chr  \"00\" \"00\" \"00\" \"00\" ...\n",
            " $ Class          : chr  \"N/A\" \"N/A\" \"N/A\" \"N/A\" ...\n",
            " $ dataset_code   : chr  \"ln\" \"ln\" \"ln\" \"ln\" ...\n",
            " $ dataset_name   : chr  \"Labor Force Statistics including the National Unemployment Rate\" \"Labor Force Statistics including the National Unemployment Rate\" \"Labor Force Statistics including the National Unemployment Rate\" \"Labor Force Statistics including the National Unemployment Rate\" ...\n",
            " $ disa           : chr  \"00\" \"00\" \"00\" \"00\" ...\n",
            " $ Disa           : chr  \"N/A\" \"N/A\" \"N/A\" \"N/A\" ...\n",
            " $ duration       : chr  \"000\" \"000\" \"000\" \"000\" ...\n",
            " $ Duration       : chr  \"N/A\" \"N/A\" \"N/A\" \"N/A\" ...\n",
            " $ education      : chr  \"00\" \"00\" \"00\" \"00\" ...\n",
            " $ Education      : chr  \"All educational levels\" \"All educational levels\" \"All educational levels\" \"All educational levels\" ...\n",
            " $ entr           : chr  \"0\" \"0\" \"0\" \"0\" ...\n",
            " $ Entr           : chr  \"N/A\" \"N/A\" \"N/A\" \"N/A\" ...\n",
            " $ expr           : chr  \"0\" \"0\" \"0\" \"0\" ...\n",
            " $ Expr           : chr  \"N/A\" \"N/A\" \"N/A\" \"N/A\" ...\n",
            " $ hheader        : chr  \"00\" \"00\" \"00\" \"00\" ...\n",
            " $ Hheader        : chr  \"N/A\" \"N/A\" \"N/A\" \"N/A\" ...\n",
            " $ hour           : chr  \"00\" \"00\" \"00\" \"00\" ...\n",
            " $ Hour           : chr  \"N/A\" \"N/A\" \"N/A\" \"N/A\" ...\n",
            " $ indexed_at     : POSIXct, format: \"2023-08-05 02:30:02\" \"2023-08-05 02:30:02\" ...\n",
            " $ indy           : chr  \"0000\" \"0000\" \"0000\" \"0000\" ...\n",
            " $ Indy           : chr  \"All Industries\" \"All Industries\" \"All Industries\" \"All Industries\" ...\n",
            " $ jdes           : chr  \"0\" \"0\" \"0\" \"0\" ...\n",
            " $ Jdes           : chr  \"N/A\" \"N/A\" \"N/A\" \"N/A\" ...\n",
            " $ lfst           : chr  \"33\" \"33\" \"33\" \"33\" ...\n",
            " $ Lfst           : chr  \"Aggregated totals unemployed\" \"Aggregated totals unemployed\" \"Aggregated totals unemployed\" \"Aggregated totals unemployed\" ...\n",
            " $ look           : chr  \"00\" \"00\" \"00\" \"00\" ...\n",
            " $ Look           : chr  \"N/A\" \"N/A\" \"N/A\" \"N/A\" ...\n",
            " $ mari           : chr  \"00\" \"00\" \"00\" \"00\" ...\n",
            " $ Mari           : chr  \"N/A\" \"N/A\" \"N/A\" \"N/A\" ...\n",
            " $ mjhs           : chr  \"00\" \"00\" \"00\" \"00\" ...\n",
            " $ Mjhs           : chr  \"N/A\" \"N/A\" \"N/A\" \"N/A\" ...\n",
            " $ occupation     : chr  \"0000\" \"0000\" \"0000\" \"0000\" ...\n",
            " $ Occupation     : chr  \"All Occupations\" \"All Occupations\" \"All Occupations\" \"All Occupations\" ...\n",
            " $ orig           : chr  \"00\" \"00\" \"00\" \"00\" ...\n",
            " $ Orig           : chr  \"All Origins\" \"All Origins\" \"All Origins\" \"All Origins\" ...\n",
            " $ original_period: chr  \"1994-Q1\" \"1994-Q2\" \"1994-Q3\" \"1994-Q4\" ...\n",
            " $ original_value : chr  \"7.9\" \"7.4\" \"7.3\" \"6.8\" ...\n",
            " $ pcts           : chr  \"47\" \"47\" \"47\" \"47\" ...\n",
            " $ Pcts           : chr  \"Unemployed and marginally attached workers as a percent of the labor force and marg attached\" \"Unemployed and marginally attached workers as a percent of the labor force and marg attached\" \"Unemployed and marginally attached workers as a percent of the labor force and marg attached\" \"Unemployed and marginally attached workers as a percent of the labor force and marg attached\" ...\n",
            " $ period         : Date, format: \"1994-01-01\" \"1994-04-01\" ...\n",
            " $ periodicity    : chr  \"Q\" \"Q\" \"Q\" \"Q\" ...\n",
            " $ Periodicity    : chr  \"Quarterly\" \"Quarterly\" \"Quarterly\" \"Quarterly\" ...\n",
            " $ provider_code  : chr  \"BLS\" \"BLS\" \"BLS\" \"BLS\" ...\n",
            " $ race           : chr  \"00\" \"00\" \"00\" \"00\" ...\n",
            " $ Race           : chr  \"All Races\" \"All Races\" \"All Races\" \"All Races\" ...\n",
            " $ rjnw           : chr  \"00\" \"00\" \"00\" \"00\" ...\n",
            " $ Rjnw           : chr  \"N/A\" \"N/A\" \"N/A\" \"N/A\" ...\n",
            " $ rnlf           : chr  \"00\" \"00\" \"00\" \"00\" ...\n",
            " $ Rnlf           : chr  \"N/A\" \"N/A\" \"N/A\" \"N/A\" ...\n",
            " $ rwns           : chr  \"00\" \"00\" \"00\" \"00\" ...\n",
            " $ Rwns           : chr  \"N/A\" \"N/A\" \"N/A\" \"N/A\" ...\n",
            " $ seasonal       : chr  \"S\" \"S\" \"S\" \"S\" ...\n",
            " $ Seasonal       : chr  \"Seasonally Adjusted\" \"Seasonally Adjusted\" \"Seasonally Adjusted\" \"Seasonally Adjusted\" ...\n",
            " $ seek           : chr  \"00\" \"00\" \"00\" \"00\" ...\n",
            " $ Seek           : chr  \"N/A\" \"N/A\" \"N/A\" \"N/A\" ...\n",
            " $ series_code    : chr  \"LNS13327708Q\" \"LNS13327708Q\" \"LNS13327708Q\" \"LNS13327708Q\" ...\n",
            " $ series_name    : chr  \"N/A – N/A – 16 years and over – N/A – N/A – N/A – N/A – N/A – N/A – All educational levels – N/A – N/A – N/A – \"| __truncated__ \"N/A – N/A – 16 years and over – N/A – N/A – N/A – N/A – N/A – N/A – All educational levels – N/A – N/A – N/A – \"| __truncated__ \"N/A – N/A – 16 years and over – N/A – N/A – N/A – N/A – N/A – N/A – All educational levels – N/A – N/A – N/A – \"| __truncated__ \"N/A – N/A – 16 years and over – N/A – N/A – N/A – N/A – N/A – N/A – All educational levels – N/A – N/A – N/A – \"| __truncated__ ...\n",
            " $ sexs           : chr  \"0\" \"0\" \"0\" \"0\" ...\n",
            " $ Sexs           : chr  \"Both Sexes\" \"Both Sexes\" \"Both Sexes\" \"Both Sexes\" ...\n",
            " $ tdat           : chr  \"01\" \"01\" \"01\" \"01\" ...\n",
            " $ Tdat           : chr  \"Percent or rate\" \"Percent or rate\" \"Percent or rate\" \"Percent or rate\" ...\n",
            " $ value          : num  7.9 7.4 7.3 6.8 6.6 6.8 6.8 6.7 6.7 6.6 ...\n",
            " $ vets           : chr  \"00\" \"00\" \"00\" \"00\" ...\n",
            " $ Vets           : chr  \"N/A\" \"N/A\" \"N/A\" \"N/A\" ...\n",
            " $ wkst           : chr  \"00\" \"00\" \"00\" \"00\" ...\n",
            " $ Wkst           : chr  \"N/A\" \"N/A\" \"N/A\" \"N/A\" ...\n",
            " - attr(*, \".internal.selfref\")=<externalptr> \n"
          ]
        }
      ],
      "source": [
        "library(data.table)\n",
        "library(rdbnomics)\n",
        "\n",
        "df<-rdb(ids = \"BLS/ln/LNS13327708Q\")\n",
        "str(df)"
      ]
    },
    {
      "cell_type": "markdown",
      "source": [
        "On crée un dataframe contenant uniquement les dates (colonne \"period\") et la série du taux de chômage (colonne \"value\")."
      ],
      "metadata": {
        "id": "i9M8rKgC5tf5"
      },
      "id": "i9M8rKgC5tf5"
    },
    {
      "cell_type": "code",
      "source": [
        "df_u<-df[,c(\"period\",\"value\")]\n",
        "colnames(df_u)<-c('date','taux')"
      ],
      "metadata": {
        "id": "SgdBfHz150WL"
      },
      "id": "SgdBfHz150WL",
      "execution_count": 11,
      "outputs": []
    },
    {
      "cell_type": "code",
      "source": [
        "head(df_us)"
      ],
      "metadata": {
        "id": "ZlCDWWl953w7",
        "outputId": "0328553d-f837-42b7-a711-770727d9e3f9",
        "colab": {
          "base_uri": "https://localhost:8080/",
          "height": 299
        }
      },
      "id": "ZlCDWWl953w7",
      "execution_count": 12,
      "outputs": [
        {
          "output_type": "display_data",
          "data": {
            "text/html": [
              "<table class=\"dataframe\">\n",
              "<caption>A data.table: 6 × 2</caption>\n",
              "<thead>\n",
              "\t<tr><th scope=col>Date</th><th scope=col>taux</th></tr>\n",
              "\t<tr><th scope=col>&lt;date&gt;</th><th scope=col>&lt;dbl&gt;</th></tr>\n",
              "</thead>\n",
              "<tbody>\n",
              "\t<tr><td>1994-01-01</td><td>7.9</td></tr>\n",
              "\t<tr><td>1994-04-01</td><td>7.4</td></tr>\n",
              "\t<tr><td>1994-07-01</td><td>7.3</td></tr>\n",
              "\t<tr><td>1994-10-01</td><td>6.8</td></tr>\n",
              "\t<tr><td>1995-01-01</td><td>6.6</td></tr>\n",
              "\t<tr><td>1995-04-01</td><td>6.8</td></tr>\n",
              "</tbody>\n",
              "</table>\n"
            ],
            "text/markdown": "\nA data.table: 6 × 2\n\n| Date &lt;date&gt; | taux &lt;dbl&gt; |\n|---|---|\n| 1994-01-01 | 7.9 |\n| 1994-04-01 | 7.4 |\n| 1994-07-01 | 7.3 |\n| 1994-10-01 | 6.8 |\n| 1995-01-01 | 6.6 |\n| 1995-04-01 | 6.8 |\n\n",
            "text/latex": "A data.table: 6 × 2\n\\begin{tabular}{ll}\n Date & taux\\\\\n <date> & <dbl>\\\\\n\\hline\n\t 1994-01-01 & 7.9\\\\\n\t 1994-04-01 & 7.4\\\\\n\t 1994-07-01 & 7.3\\\\\n\t 1994-10-01 & 6.8\\\\\n\t 1995-01-01 & 6.6\\\\\n\t 1995-04-01 & 6.8\\\\\n\\end{tabular}\n",
            "text/plain": [
              "  Date       taux\n",
              "1 1994-01-01 7.9 \n",
              "2 1994-04-01 7.4 \n",
              "3 1994-07-01 7.3 \n",
              "4 1994-10-01 6.8 \n",
              "5 1995-01-01 6.6 \n",
              "6 1995-04-01 6.8 "
            ]
          },
          "metadata": {}
        }
      ]
    },
    {
      "cell_type": "code",
      "source": [
        "tail(df_us)"
      ],
      "metadata": {
        "id": "TPQFexzS57Pl",
        "outputId": "2bc8f9a9-b6f2-48ab-f24f-b193ced0935d",
        "colab": {
          "base_uri": "https://localhost:8080/",
          "height": 299
        }
      },
      "id": "TPQFexzS57Pl",
      "execution_count": 13,
      "outputs": [
        {
          "output_type": "display_data",
          "data": {
            "text/html": [
              "<table class=\"dataframe\">\n",
              "<caption>A data.table: 6 × 2</caption>\n",
              "<thead>\n",
              "\t<tr><th scope=col>Date</th><th scope=col>taux</th></tr>\n",
              "\t<tr><th scope=col>&lt;date&gt;</th><th scope=col>&lt;dbl&gt;</th></tr>\n",
              "</thead>\n",
              "<tbody>\n",
              "\t<tr><td>2022-01-01</td><td>4.7</td></tr>\n",
              "\t<tr><td>2022-04-01</td><td>4.5</td></tr>\n",
              "\t<tr><td>2022-07-01</td><td>4.4</td></tr>\n",
              "\t<tr><td>2022-10-01</td><td>4.4</td></tr>\n",
              "\t<tr><td>2023-01-01</td><td>4.3</td></tr>\n",
              "\t<tr><td>2023-04-01</td><td>4.4</td></tr>\n",
              "</tbody>\n",
              "</table>\n"
            ],
            "text/markdown": "\nA data.table: 6 × 2\n\n| Date &lt;date&gt; | taux &lt;dbl&gt; |\n|---|---|\n| 2022-01-01 | 4.7 |\n| 2022-04-01 | 4.5 |\n| 2022-07-01 | 4.4 |\n| 2022-10-01 | 4.4 |\n| 2023-01-01 | 4.3 |\n| 2023-04-01 | 4.4 |\n\n",
            "text/latex": "A data.table: 6 × 2\n\\begin{tabular}{ll}\n Date & taux\\\\\n <date> & <dbl>\\\\\n\\hline\n\t 2022-01-01 & 4.7\\\\\n\t 2022-04-01 & 4.5\\\\\n\t 2022-07-01 & 4.4\\\\\n\t 2022-10-01 & 4.4\\\\\n\t 2023-01-01 & 4.3\\\\\n\t 2023-04-01 & 4.4\\\\\n\\end{tabular}\n",
            "text/plain": [
              "  Date       taux\n",
              "1 2022-01-01 4.7 \n",
              "2 2022-04-01 4.5 \n",
              "3 2022-07-01 4.4 \n",
              "4 2022-10-01 4.4 \n",
              "5 2023-01-01 4.3 \n",
              "6 2023-04-01 4.4 "
            ]
          },
          "metadata": {}
        }
      ]
    },
    {
      "cell_type": "markdown",
      "source": [
        "### Représentation graphique\n",
        "\n",
        "Le taux de chômage aux Etats-Unis fluctue autour de 6% du début de l'échantillon jusqu'à l'année 2008 à partir de laquelle il augmente très rapidement jusqu'au niveau de 11%, sous l'effet de la crise des subprimes. On observe aussi l'épisode de la crise du Covid avec une hausse instantanée du taux de chômage autour de 14% suivie d'un retour rapide à des niveaux très bas. La période du covid peut avoir un impact sur les résultats des tests statistiques. Au vu du graphique, il est assez difficile de trancher sur la stationnarité du taux de chômage."
      ],
      "metadata": {
        "id": "491VtV8OJ2dK"
      },
      "id": "491VtV8OJ2dK"
    },
    {
      "cell_type": "code",
      "source": [
        "library(ggplot2)\n",
        "p_us<-ggplot(data=df_u,aes(x=date,y=taux))+geom_point(color='red')+geom_line(color='red')+xlab('Date')+ylab('Taux de chômage')\n",
        "p_us+labs(y=\"prix\",title = \"Taux de chômage aux Etats-Unis\",subtitle = \"1994:T1 à 2023:T1\")"
      ],
      "metadata": {
        "id": "1kh-ovsW5-T8",
        "outputId": "a2138a0c-2c5e-41aa-fd9e-b54705726178",
        "colab": {
          "base_uri": "https://localhost:8080/",
          "height": 458
        }
      },
      "id": "1kh-ovsW5-T8",
      "execution_count": 17,
      "outputs": [
        {
          "output_type": "display_data",
          "data": {
            "text/plain": [
              "plot without title"
            ],
            "image/png": "[encoded data removed]"
          },
          "metadata": {
            "image/png": {
              "width": 420,
              "height": 420
            }
          }
        }
      ]
    },
    {
      "cell_type": "markdown",
      "source": [
        "## Tests sans la période Covid : 1994:T1 à 2019:T4\n",
        "\n",
        "On exclut les observations à partir du premier trimestre de l'année 2020. Les résultats des tests de racine unitaire et de stationnarité ne sont modifiés. On peut dire aussi qu'ils sont robustes à cette modification de la période de test"
      ],
      "metadata": {
        "id": "ZVqhlKshLUCr"
      },
      "id": "ZVqhlKshLUCr"
    },
    {
      "cell_type": "code",
      "source": [
        "df_u_19T1=df_u[df_u$date<\"2020-01-01\",]\n",
        "acf_u_19T1<-acf(x=df_u_19T1$taux,main='Autocorrélogramme du taux de chômage - 1994T1-2019T4')\n",
        "pacf(x=df_u_19T1$taux,main='Autocorrélogramme partiel du taux de chômage - 1994T1-2019T4')"
      ],
      "metadata": {
        "id": "46h38UGf6ZXN",
        "outputId": "9c63daf4-58d1-4141-a295-0028e3f3c051",
        "colab": {
          "base_uri": "https://localhost:8080/",
          "height": 878
        }
      },
      "id": "46h38UGf6ZXN",
      "execution_count": 18,
      "outputs": [
        {
          "output_type": "display_data",
          "data": {
            "text/plain": [
              "Plot with title “Autocorrélogramme du taux de chômage - 1994T1-2019T4”"
            ],
            "image/png": "[encoded data removed]"
          },
          "metadata": {
            "image/png": {
              "width": 420,
              "height": 420
            }
          }
        },
        {
          "output_type": "display_data",
          "data": {
            "text/plain": [
              "Plot with title “Autocorrélogramme partiel du taux de chômage - 1994T1-2019T4”"
            ],
            "image/png": "[encoded data removed]"
          },
          "metadata": {
            "image/png": {
              "width": 420,
              "height": 420
            }
          }
        }
      ]
    },
    {
      "cell_type": "markdown",
      "source": [
        "**Commentaires**\n",
        "\n",
        "* Les autocorrélations sont positives et significativement jusqu'au retard 11.\n",
        "* Elles sont proches de 1 pour les retards 1, 2, 3, 4, 5 puis décroissent vers 0. On en déduit que le taux de chômage est assez autocorrélé. Néanmoins, il est assez difficile de tirer une conclusions sur la stationnarité ou non-stationnarité du taux de chômage. le profil des autocorrélations pourrait correspondre à une série stationnaire.\n",
        "* Les autocorrélations partielles sont significatives pour les retards 1, 2 et 3\n",
        "\n"
      ],
      "metadata": {
        "id": "Z6ntDRJuNSOB"
      },
      "id": "Z6ntDRJuNSOB"
    },
    {
      "cell_type": "markdown",
      "source": [
        "###  Test de Dickey-Fuller augmenté\n",
        "\n",
        "On utilise la librairie [urca](https://cran.r-project.org/web/packages/urca/index.html) pour faire les tests de racine unitaire.\n",
        "\n"
      ],
      "metadata": {
        "id": "zi0zssTjPzIH"
      },
      "id": "zi0zssTjPzIH"
    },
    {
      "cell_type": "markdown",
      "source": [
        "#### Etape 1 : avec constante et tendance déterministe\n",
        "\n",
        "On applique le test ADF avec une constante et une tendance déterministe. Le nombre de retards maximum est fixé à 8 et le nombre de retards optimal est déterminé par la minimisation du critère AIC."
      ],
      "metadata": {
        "id": "ExRZBXXXP0i-"
      },
      "id": "ExRZBXXXP0i-"
    },
    {
      "cell_type": "code",
      "source": [
        "library(urca)\n",
        "adf1<-ur.df(y = df_u_19T1$taux,type=c(\"trend\"), lag=8, selectlags = c('AIC'))\n",
        "summary(adf1)"
      ],
      "metadata": {
        "id": "37miYg5ONUjN",
        "outputId": "b5692ab0-37c7-4521-acbf-adbc2ef6d7cf",
        "colab": {
          "base_uri": "https://localhost:8080/",
          "height": 649
        }
      },
      "id": "37miYg5ONUjN",
      "execution_count": 21,
      "outputs": [
        {
          "output_type": "display_data",
          "data": {
            "text/plain": [
              "\n",
              "############################################### \n",
              "# Augmented Dickey-Fuller Test Unit Root Test # \n",
              "############################################### \n",
              "\n",
              "Test regression trend \n",
              "\n",
              "\n",
              "Call:\n",
              "lm(formula = z.diff ~ z.lag.1 + 1 + tt + z.diff.lag)\n",
              "\n",
              "Residuals:\n",
              "     Min       1Q   Median       3Q      Max \n",
              "-0.58183 -0.15778 -0.01373  0.12777  0.79019 \n",
              "\n",
              "Coefficients:\n",
              "              Estimate Std. Error t value Pr(>|t|)    \n",
              "(Intercept)  1.851e-01  9.102e-02   2.034  0.04489 *  \n",
              "z.lag.1     -2.823e-02  1.267e-02  -2.229  0.02830 *  \n",
              "tt           5.151e-06  8.597e-04   0.006  0.99523    \n",
              "z.diff.lag1  5.304e-01  1.001e-01   5.297 8.27e-07 ***\n",
              "z.diff.lag2  2.748e-01  1.027e-01   2.675  0.00888 ** \n",
              "---\n",
              "Signif. codes:  0 ‘***’ 0.001 ‘**’ 0.01 ‘*’ 0.05 ‘.’ 0.1 ‘ ’ 1\n",
              "\n",
              "Residual standard error: 0.2208 on 90 degrees of freedom\n",
              "Multiple R-squared:  0.5421,\tAdjusted R-squared:  0.5217 \n",
              "F-statistic: 26.64 on 4 and 90 DF,  p-value: 1.38e-14\n",
              "\n",
              "\n",
              "Value of test-statistic is: -2.2291 1.7809 2.6281 \n",
              "\n",
              "Critical values for test statistics: \n",
              "      1pct  5pct 10pct\n",
              "tau3 -3.99 -3.43 -3.13\n",
              "phi2  6.22  4.75  4.07\n",
              "phi3  8.43  6.49  5.47\n"
            ]
          },
          "metadata": {}
        }
      ]
    },
    {
      "cell_type": "markdown",
      "source": [
        "La statistique du test ADF est égale à  $t_{ADF}=-2.229$. Les seuils de rejet figurent sur la ligne tau3. $t_{ADF}=-2.229>-3.43$ pour un risque de première espèce de 5\\%. On ne rejette pas l'hypothèse nulle de racine unitaire. La statistique de test $t_{ADF}$  est aussi supérieure aux seuils de rejet pour les risques de première espèce de 1% et 10%.\n",
        "\n",
        "Le t-stat de la tendance déterministe est égal à $t_{\\hat{b}} =0.006$. Le seuil de rejet qui figure la table de $t_{\\hat{b}}$ est égal à 3.14 pour un risque de première espèce de 5%. on a donc  $\\vert t_{\\hat{b}} \\vert =0.006<3.14$ : on ne rejette pas l'hypothèse nulle que la tendance déterministe n'est pas significative.\n",
        "\n",
        "On passe au modèle avec une constante uniquement.\n",
        "\n",
        "#### Etape 2 : avec constante"
      ],
      "metadata": {
        "id": "JQMGSIHzNXHs"
      },
      "id": "JQMGSIHzNXHs"
    },
    {
      "cell_type": "code",
      "source": [
        "adf2<-ur.df(y = df_u_19T1$taux,type=c(\"drift\"), lag=8, selectlags = c('AIC'))\n",
        "summary(adf2)"
      ],
      "metadata": {
        "id": "WJVdFfEXNWsa",
        "outputId": "c45a5266-d0d3-437f-84de-06ce017b53fb",
        "colab": {
          "base_uri": "https://localhost:8080/",
          "height": 616
        }
      },
      "id": "WJVdFfEXNWsa",
      "execution_count": 22,
      "outputs": [
        {
          "output_type": "display_data",
          "data": {
            "text/plain": [
              "\n",
              "############################################### \n",
              "# Augmented Dickey-Fuller Test Unit Root Test # \n",
              "############################################### \n",
              "\n",
              "Test regression drift \n",
              "\n",
              "\n",
              "Call:\n",
              "lm(formula = z.diff ~ z.lag.1 + 1 + z.diff.lag)\n",
              "\n",
              "Residuals:\n",
              "     Min       1Q   Median       3Q      Max \n",
              "-0.58173 -0.15769 -0.01349  0.12783  0.79028 \n",
              "\n",
              "Coefficients:\n",
              "            Estimate Std. Error t value Pr(>|t|)    \n",
              "(Intercept)  0.18530    0.08629   2.147  0.03442 *  \n",
              "z.lag.1     -0.02822    0.01224  -2.305  0.02342 *  \n",
              "z.diff.lag1  0.53034    0.09941   5.335 6.94e-07 ***\n",
              "z.diff.lag2  0.27477    0.10167   2.703  0.00821 ** \n",
              "---\n",
              "Signif. codes:  0 ‘***’ 0.001 ‘**’ 0.01 ‘*’ 0.05 ‘.’ 0.1 ‘ ’ 1\n",
              "\n",
              "Residual standard error: 0.2196 on 91 degrees of freedom\n",
              "Multiple R-squared:  0.5421,\tAdjusted R-squared:  0.527 \n",
              "F-statistic: 35.91 on 3 and 91 DF,  p-value: 2.097e-15\n",
              "\n",
              "\n",
              "Value of test-statistic is: -2.3053 2.7011 \n",
              "\n",
              "Critical values for test statistics: \n",
              "      1pct  5pct 10pct\n",
              "tau2 -3.46 -2.88 -2.57\n",
              "phi1  6.52  4.63  3.81\n"
            ]
          },
          "metadata": {}
        }
      ]
    },
    {
      "cell_type": "code",
      "source": [],
      "metadata": {
        "id": "q3u9Z4sfQCrR"
      },
      "id": "q3u9Z4sfQCrR",
      "execution_count": null,
      "outputs": []
    },
    {
      "cell_type": "markdown",
      "source": [
        "La statistique du test ADF est égale à  $t_{ADF}=-2.305$. Les seuils de rejet figurent sur la ligne tau3. La statistique de test  \n",
        "$t_{ADF} > -2.88$ pour le risque de première espèce de 5% est supérieure : on ne rejette pas l'hypothèse nulle de racine unitaire. On ne rejette pas non plus l'hypothèse nulle de racine unitaire pour les risques de première espèce de 1% et 10%.\n",
        "\n",
        "Le t-stat de la tendance déterministe est égal à $t_{\\hat{c}}=2.147$. Le seuil de rejet qui figure la table de $t_{\\hat{b}}$ est égal à 2.86 pour un risque de première espèce de 5%. on a donc  $\\vert t_{\\hat{c}} \\vert =2.147<2.86$ : on ne rejette pas l'hypothèse nulle que la constante n'est pas significative.\n",
        "\n",
        "\n"
      ],
      "metadata": {
        "id": "2CrjtS4vNdiQ"
      },
      "id": "2CrjtS4vNdiQ"
    },
    {
      "cell_type": "markdown",
      "source": [
        "\n",
        "#### Etape 3: Sans constante ni tendance déterministe"
      ],
      "metadata": {
        "id": "KdfQfg11P8PN"
      },
      "id": "KdfQfg11P8PN"
    },
    {
      "cell_type": "code",
      "source": [
        "adf3<-ur.df(y = df_u_19T1$taux,type=c(\"none\"), lag=8, selectlags = c('AIC'))\n",
        "summary(adf3)"
      ],
      "metadata": {
        "id": "bjVf3m8GNjJE",
        "outputId": "5062f789-67e7-487d-c620-49def3c3b6a3",
        "colab": {
          "base_uri": "https://localhost:8080/",
          "height": 583
        }
      },
      "id": "bjVf3m8GNjJE",
      "execution_count": 23,
      "outputs": [
        {
          "output_type": "display_data",
          "data": {
            "text/plain": [
              "\n",
              "############################################### \n",
              "# Augmented Dickey-Fuller Test Unit Root Test # \n",
              "############################################### \n",
              "\n",
              "Test regression none \n",
              "\n",
              "\n",
              "Call:\n",
              "lm(formula = z.diff ~ z.lag.1 - 1 + z.diff.lag)\n",
              "\n",
              "Residuals:\n",
              "     Min       1Q   Median       3Q      Max \n",
              "-0.60506 -0.11761  0.01318  0.13780  0.80067 \n",
              "\n",
              "Coefficients:\n",
              "             Estimate Std. Error t value Pr(>|t|)    \n",
              "z.lag.1     -0.002851   0.003268  -0.872    0.385    \n",
              "z.diff.lag1  0.540294   0.101231   5.337 6.75e-07 ***\n",
              "z.diff.lag2  0.227304   0.101163   2.247    0.027 *  \n",
              "---\n",
              "Signif. codes:  0 ‘***’ 0.001 ‘**’ 0.01 ‘*’ 0.05 ‘.’ 0.1 ‘ ’ 1\n",
              "\n",
              "Residual standard error: 0.2238 on 92 degrees of freedom\n",
              "Multiple R-squared:  0.5219,\tAdjusted R-squared:  0.5063 \n",
              "F-statistic: 33.48 on 3 and 92 DF,  p-value: 1.018e-14\n",
              "\n",
              "\n",
              "Value of test-statistic is: -0.8723 \n",
              "\n",
              "Critical values for test statistics: \n",
              "      1pct  5pct 10pct\n",
              "tau1 -2.58 -1.95 -1.62\n"
            ]
          },
          "metadata": {}
        }
      ]
    },
    {
      "cell_type": "markdown",
      "source": [
        "La statistique du test ADF est égale à  $t_{ADF}=-0.872$. Les seuils de rejet figurent sur la ligne tau3. La statistique de test  \n",
        "$t_{ADF}=-0.872>-1.95$  est supérieure au seuil de rejet pour le risque de première espèce de 5% :  on ne rejette pas l'hypothèse nulle de racine unitaire. On ne rejette pas non plus l'hypothèse nulle de racine unitaire pour les risques de première espèces de 1% et 10%.\n",
        "\n"
      ],
      "metadata": {
        "id": "PWRTVpAiNlM5"
      },
      "id": "PWRTVpAiNlM5"
    },
    {
      "cell_type": "markdown",
      "source": [
        "#### Conclusion sur les résultats de tests ADF\n",
        "\n",
        "\n",
        "\n"
      ],
      "metadata": {
        "id": "vQGiL8qOQHpK"
      },
      "id": "vQGiL8qOQHpK"
    },
    {
      "cell_type": "markdown",
      "source": [
        "A l'issus de la séquence des tests ADF  on conclut que la série du taux de chômage est un processus DS sans dérive."
      ],
      "metadata": {
        "id": "moTiMy_8QaLw"
      },
      "id": "moTiMy_8QaLw"
    },
    {
      "cell_type": "markdown",
      "source": [
        "### Test de stationnarité de KPSS\n",
        "\n",
        "On applique le test de KPSS. Dans ce cas l'hypothèse nulle est que la série est stationnaire autour d'une tendance déterministe ou autour d'une constante.\n",
        "\n",
        "Dans la spécification du test kpss :\n",
        "\n",
        "* type :  sert à spécifier la forme de la composante déterministe (tau = tendance déterministe, mu = constante),\n",
        "\n",
        "* lags :  sert à spécifier la façon dont le test va corriger l'autoccorélation les résidus. On choisit l'option \"long\" qui permet de corriger une autocorrélation importante/\n",
        "\n"
      ],
      "metadata": {
        "id": "a3GzWnsvQJ5I"
      },
      "id": "a3GzWnsvQJ5I"
    },
    {
      "cell_type": "markdown",
      "source": [
        "#### Test de stationnarité autour d'une tendance déterministe"
      ],
      "metadata": {
        "id": "e7ZqZxw2QMAV"
      },
      "id": "e7ZqZxw2QMAV"
    },
    {
      "cell_type": "code",
      "source": [
        "kpss_tau<-ur.kpss(y=df_u_19T1$taux,type=\"tau\",lags=\"long\")\n",
        "summary(kpss_tau)"
      ],
      "metadata": {
        "id": "iqt-ezXSNoAA",
        "outputId": "64cfc927-fabc-41a8-e2ec-8751c62b3ef8",
        "colab": {
          "base_uri": "https://localhost:8080/",
          "height": 236
        }
      },
      "id": "iqt-ezXSNoAA",
      "execution_count": 24,
      "outputs": [
        {
          "output_type": "display_data",
          "data": {
            "text/plain": [
              "\n",
              "####################### \n",
              "# KPSS Unit Root Test # \n",
              "####################### \n",
              "\n",
              "Test is of type: tau with 12 lags. \n",
              "\n",
              "Value of test-statistic is: 0.1184 \n",
              "\n",
              "Critical value for a significance level of: \n",
              "                10pct  5pct 2.5pct  1pct\n",
              "critical values 0.119 0.146  0.176 0.216\n"
            ]
          },
          "metadata": {}
        }
      ]
    },
    {
      "cell_type": "markdown",
      "source": [
        "La statistique du test est égale à $LM_{KPSS} = 0.1184$. Le seuil de rejet pour un risque de première espèce est égal à 0.146. On a donc $LM_{KPSS} = 0.1184<0.146$ : on ne rejette pas l'hypothèse de stationnarité autour d'une tendance déterministe. On ne peut rejeter non plus l'hypothèse de stationnarité pour les risques de première espèce de 1% et 10%.\n",
        "\n",
        "\n"
      ],
      "metadata": {
        "id": "GTIURkX-Nufq"
      },
      "id": "GTIURkX-Nufq"
    },
    {
      "cell_type": "markdown",
      "source": [
        "\n",
        "#### Test de stationnarité autour d'une constante"
      ],
      "metadata": {
        "id": "DGv44WozQ54j"
      },
      "id": "DGv44WozQ54j"
    },
    {
      "cell_type": "code",
      "source": [
        "kpss_mu<-ur.kpss(y=df_u_19T1$taux,type=\"mu\",lags=\"long\")\n",
        "summary(kpss_mu)"
      ],
      "metadata": {
        "id": "5F-6sMUHNxJU",
        "outputId": "0c1f000a-255b-4331-c487-0b49e8a1875c",
        "colab": {
          "base_uri": "https://localhost:8080/",
          "height": 236
        }
      },
      "id": "5F-6sMUHNxJU",
      "execution_count": 27,
      "outputs": [
        {
          "output_type": "display_data",
          "data": {
            "text/plain": [
              "\n",
              "####################### \n",
              "# KPSS Unit Root Test # \n",
              "####################### \n",
              "\n",
              "Test is of type: mu with 12 lags. \n",
              "\n",
              "Value of test-statistic is: 0.1511 \n",
              "\n",
              "Critical value for a significance level of: \n",
              "                10pct  5pct 2.5pct  1pct\n",
              "critical values 0.347 0.463  0.574 0.739\n"
            ]
          },
          "metadata": {}
        }
      ]
    },
    {
      "cell_type": "markdown",
      "source": [
        "La statistique du test est égale à $LM_{KPSS} = 0.1511$. Le seuil de rejet pour un risque de première espèce est égal à 0.463. On a donc $LM_{KPSS} = 0.1511<0.463$ : on ne rejette pas l'hypothèse de stationnarité avec une constante. On ne peut rejeter non plus l'hypothèse de stationnarité pour les risques de première espèce de 1% et 10%.\n",
        "\n",
        "La représentation graphique suggère que le taux de chômage ne contient pas de tendance déterministe. De plus, Si l'on fait la régression par les MCO\n",
        "du taux de chômage sur une tendance déterministe, le coefficient de la tendance déterministe n'est pas significative"
      ],
      "metadata": {
        "id": "L9VtBXJTN2p8"
      },
      "id": "L9VtBXJTN2p8"
    },
    {
      "cell_type": "code",
      "source": [
        "# Regression MOC standard\n",
        "model<-lm(df_u_19T1$taux~seq_along(df_u_19T1$taux))\n",
        "summary(model)\n",
        "\n",
        "# Estimation des écart type robustes à l'heteroscedasticité et l'autocorrélation\n",
        "library(lmtest)\n",
        "library(sandwich)\n",
        "coeftest(model,vcov. = vcovHAC(model,type=\"HAC\"))"
      ],
      "metadata": {
        "id": "R36fumjwN3y-",
        "outputId": "667b654e-3949-4020-ce8d-34e8a91454d9",
        "colab": {
          "base_uri": "https://localhost:8080/",
          "height": 467
        }
      },
      "id": "R36fumjwN3y-",
      "execution_count": 32,
      "outputs": [
        {
          "output_type": "display_data",
          "data": {
            "text/plain": [
              "\n",
              "Call:\n",
              "lm(formula = df_u_19T1$taux ~ seq_along(df_u_19T1$taux))\n",
              "\n",
              "Residuals:\n",
              "    Min      1Q  Median      3Q     Max \n",
              "-2.8753 -1.2823 -0.2971  0.4594  4.4408 \n",
              "\n",
              "Coefficients:\n",
              "                          Estimate Std. Error t value Pr(>|t|)    \n",
              "(Intercept)               6.353361   0.363798  17.464   <2e-16 ***\n",
              "seq_along(df_u_19T1$taux) 0.007903   0.006015   1.314    0.192    \n",
              "---\n",
              "Signif. codes:  0 ‘***’ 0.001 ‘**’ 0.01 ‘*’ 0.05 ‘.’ 0.1 ‘ ’ 1\n",
              "\n",
              "Residual standard error: 1.842 on 102 degrees of freedom\n",
              "Multiple R-squared:  0.01664,\tAdjusted R-squared:  0.007 \n",
              "F-statistic: 1.726 on 1 and 102 DF,  p-value: 0.1919\n"
            ]
          },
          "metadata": {}
        },
        {
          "output_type": "display_data",
          "data": {
            "text/plain": [
              "\n",
              "t test of coefficients:\n",
              "\n",
              "                          Estimate Std. Error t value Pr(>|t|)    \n",
              "(Intercept)               6.353361   0.415171  15.303   <2e-16 ***\n",
              "seq_along(df_u_19T1$taux) 0.007903   0.008007   0.987    0.326    \n",
              "---\n",
              "Signif. codes:  0 ‘***’ 0.001 ‘**’ 0.01 ‘*’ 0.05 ‘.’ 0.1 ‘ ’ 1\n"
            ]
          },
          "metadata": {}
        }
      ]
    },
    {
      "cell_type": "markdown",
      "source": [
        "### Conclusion générale sur les test de racine unitaire et de stationnarité\n",
        "\n"
      ],
      "metadata": {
        "id": "-mBOoHsmOUdY"
      },
      "id": "-mBOoHsmOUdY"
    },
    {
      "cell_type": "markdown",
      "source": [
        "On voit que les conclusions des tests ADF et KPSS sont contradictoires en ce qui concerne la stationnarité du taux de chômage. Des études empiriques sur le taux de chômage aux Etats-Unis conclut à la stationnarité du taux de chômage (Nelson and Plosser, 1982, Perron, 1988, Xiao and Phillips, 1997). On reviendra sur cette question lors l'étude de la modélisation du taux de chômage par un modèle ARMA (chapitre III).\n",
        "\n"
      ],
      "metadata": {
        "id": "yVcUEbRAQwPI"
      },
      "id": "yVcUEbRAQwPI"
    },
    {
      "cell_type": "markdown",
      "source": [
        "## Tests sur la période 1994:T1 à 2023:T1\n",
        "\n"
      ],
      "metadata": {
        "id": "42tfTk1cQylp"
      },
      "id": "42tfTk1cQylp"
    },
    {
      "cell_type": "markdown",
      "source": [
        "On ajoute maintenant la période du covid qui se caractérise par une explosion temporaire du taux de chômage à des niveaux sans précédent dans l'échantillon. En fin de période, le taux de chômage est revenu à des niveaux comparables à ceux observés avant le covid. L'objectif est voir dans quelle mesure l'inclusion de cette période peut avoir un effet sur les tests de racine unitaire et de stationnarité.\n",
        "\n"
      ],
      "metadata": {
        "id": "m3XD70f-Q02r"
      },
      "id": "m3XD70f-Q02r"
    },
    {
      "cell_type": "markdown",
      "source": [
        "### Autocorrélogramme"
      ],
      "metadata": {
        "id": "HCwTOoNKQ1xl"
      },
      "id": "HCwTOoNKQ1xl"
    },
    {
      "cell_type": "code",
      "source": [
        "acf_us_rate<-acf(x=df_u$taux,main='Autocorrélogramme du taux de chômage')\n",
        "pacf_us_rate<-pacf(x=df_u$taux,main='Autocorrélogramme du taux de chômage')"
      ],
      "metadata": {
        "id": "IOvubhcHOce8",
        "outputId": "31ec1481-9b26-4ac2-b84a-19b9ab00bc9b",
        "colab": {
          "base_uri": "https://localhost:8080/",
          "height": 878
        }
      },
      "id": "IOvubhcHOce8",
      "execution_count": 33,
      "outputs": [
        {
          "output_type": "display_data",
          "data": {
            "text/plain": [
              "Plot with title “Autocorrélogramme du taux de chômage”"
            ],
            "image/png": "[encoded data removed]"
          },
          "metadata": {
            "image/png": {
              "width": 420,
              "height": 420
            }
          }
        },
        {
          "output_type": "display_data",
          "data": {
            "text/plain": [
              "Plot with title “Autocorrélogramme du taux de chômage”"
            ],
            "image/png": "[encoded data removed]"
          },
          "metadata": {
            "image/png": {
              "width": 420,
              "height": 420
            }
          }
        }
      ]
    },
    {
      "cell_type": "markdown",
      "source": [
        "**Commentaires**\n",
        "* Pas de changement majeur de l'autocorrélogramme.\n",
        "* Aucune autocorrélation partielle n'est significative\n",
        "\n",
        "\n"
      ],
      "metadata": {
        "id": "I1TOdEkROfQ3"
      },
      "id": "I1TOdEkROfQ3"
    },
    {
      "cell_type": "markdown",
      "source": [
        "### Test de Dickey-Fuller augmenté\n"
      ],
      "metadata": {
        "id": "zXV8xpe4RJ3R"
      },
      "id": "zXV8xpe4RJ3R"
    },
    {
      "cell_type": "markdown",
      "source": [
        "#### Etape 1 : avec constante et tendance déterministe"
      ],
      "metadata": {
        "id": "KOrxMF4hRLEJ"
      },
      "id": "KOrxMF4hRLEJ"
    },
    {
      "cell_type": "code",
      "source": [
        "library(urca)\n",
        "adf1<-ur.df(y = df_u$taux,type=c(\"trend\"), lag=8, selectlags = c('AIC'))\n",
        "summary(adf1)"
      ],
      "metadata": {
        "id": "sBULPp71OkWV",
        "outputId": "e8945a0d-ef79-47aa-946d-cae9d826f03d",
        "colab": {
          "base_uri": "https://localhost:8080/",
          "height": 633
        }
      },
      "id": "sBULPp71OkWV",
      "execution_count": 34,
      "outputs": [
        {
          "output_type": "display_data",
          "data": {
            "text/plain": [
              "\n",
              "############################################### \n",
              "# Augmented Dickey-Fuller Test Unit Root Test # \n",
              "############################################### \n",
              "\n",
              "Test regression trend \n",
              "\n",
              "\n",
              "Call:\n",
              "lm(formula = z.diff ~ z.lag.1 + 1 + tt + z.diff.lag)\n",
              "\n",
              "Residuals:\n",
              "    Min      1Q  Median      3Q     Max \n",
              "-2.4246 -0.3135 -0.1312  0.0857  9.5244 \n",
              "\n",
              "Coefficients:\n",
              "              Estimate Std. Error t value Pr(>|t|)  \n",
              "(Intercept)  0.8247025  0.4032732   2.045   0.0434 *\n",
              "z.lag.1     -0.1206021  0.0525214  -2.296   0.0236 *\n",
              "tt          -0.0006008  0.0032668  -0.184   0.8544  \n",
              "z.diff.lag  -0.1043086  0.0979169  -1.065   0.2892  \n",
              "---\n",
              "Signif. codes:  0 ‘***’ 0.001 ‘**’ 0.01 ‘*’ 0.05 ‘.’ 0.1 ‘ ’ 1\n",
              "\n",
              "Residual standard error: 1.067 on 105 degrees of freedom\n",
              "Multiple R-squared:  0.07579,\tAdjusted R-squared:  0.04939 \n",
              "F-statistic:  2.87 on 3 and 105 DF,  p-value: 0.03993\n",
              "\n",
              "\n",
              "Value of test-statistic is: -2.2962 1.8372 2.7264 \n",
              "\n",
              "Critical values for test statistics: \n",
              "      1pct  5pct 10pct\n",
              "tau3 -3.99 -3.43 -3.13\n",
              "phi2  6.22  4.75  4.07\n",
              "phi3  8.43  6.49  5.47\n"
            ]
          },
          "metadata": {}
        }
      ]
    },
    {
      "cell_type": "markdown",
      "source": [
        "La statistique du test ADF est égale à $t_{ADF}=-2.296$ . Les seuils de rejet figurent sur la ligne tau3. La statistique de test  \n",
        " est supérieure aux seuils de rejet pour les risques de première espèce de 1%, 5% et 10%. On ne peut pas rejeter l'hypothèse nulle de racine unitaire.\n",
        "\n",
        "Le t-stat de la tendance déterministe est égal à $t_{\\hat{b}}=-0.184$. Le seuil de rejet qui figure la table de est égal à 3.14 pour un risque de première espèce de 5%. on a donc   : on ne peut rejeter l'hypothèse nulle que la tendance déterministe n'est pas significative.\n",
        "\n"
      ],
      "metadata": {
        "id": "qFICBYp4OmT3"
      },
      "id": "qFICBYp4OmT3"
    },
    {
      "cell_type": "markdown",
      "source": [
        "#### Etape 2 : avec constante"
      ],
      "metadata": {
        "id": "KcHnpMeIROtg"
      },
      "id": "KcHnpMeIROtg"
    },
    {
      "cell_type": "code",
      "source": [
        "adf2<-ur.df(y = df_u$taux,type=c(\"drift\"), lag=8, selectlags = c('AIC'))\n",
        "summary(adf2)"
      ],
      "metadata": {
        "id": "2ZXFcthzO0ZK",
        "outputId": "e9812922-685d-47d0-8db7-986d5514b215",
        "colab": {
          "base_uri": "https://localhost:8080/",
          "height": 600
        }
      },
      "id": "2ZXFcthzO0ZK",
      "execution_count": 35,
      "outputs": [
        {
          "output_type": "display_data",
          "data": {
            "text/plain": [
              "\n",
              "############################################### \n",
              "# Augmented Dickey-Fuller Test Unit Root Test # \n",
              "############################################### \n",
              "\n",
              "Test regression drift \n",
              "\n",
              "\n",
              "Call:\n",
              "lm(formula = z.diff ~ z.lag.1 + 1 + z.diff.lag)\n",
              "\n",
              "Residuals:\n",
              "    Min      1Q  Median      3Q     Max \n",
              "-2.4540 -0.3013 -0.1324  0.1007  9.4967 \n",
              "\n",
              "Coefficients:\n",
              "            Estimate Std. Error t value Pr(>|t|)  \n",
              "(Intercept)  0.79360    0.36444   2.178   0.0317 *\n",
              "z.lag.1     -0.12160    0.05200  -2.339   0.0212 *\n",
              "z.diff.lag  -0.10316    0.09727  -1.061   0.2913  \n",
              "---\n",
              "Signif. codes:  0 ‘***’ 0.001 ‘**’ 0.01 ‘*’ 0.05 ‘.’ 0.1 ‘ ’ 1\n",
              "\n",
              "Residual standard error: 1.062 on 106 degrees of freedom\n",
              "Multiple R-squared:  0.0755,\tAdjusted R-squared:  0.05805 \n",
              "F-statistic: 4.328 on 2 and 106 DF,  p-value: 0.0156\n",
              "\n",
              "\n",
              "Value of test-statistic is: -2.3385 2.764 \n",
              "\n",
              "Critical values for test statistics: \n",
              "      1pct  5pct 10pct\n",
              "tau2 -3.46 -2.88 -2.57\n",
              "phi1  6.52  4.63  3.81\n"
            ]
          },
          "metadata": {}
        }
      ]
    },
    {
      "cell_type": "markdown",
      "source": [
        "La statistique du test ADF est égale à $t_{ADF}=-2.296$. Les seuils de rejet figurent sur la ligne tau3. La statistique de test  \n",
        "$t_{ADF}$  est supérieure aux seuils de rejets pour les risques de première espèce de 1%, 5% et 10%. On ne peut pas rejeter l'hypothèse nulle de racine unitaire.\n",
        "\n",
        "Le t-stat de la tendance déterministe est égal à $t_{\\hat{c}} =2.170$. Le seuil de rejet qui figure la table de $t_{\\hat{b}}$ est égal à 2.86 pour un risque de première espèce de 5%. on a donc  $\\vert t_{\\hat{c}} \\vert =2.170<2.86$ : on ne peut rejeter l'hypothèse nulle que la constante n'est pas significative.\n",
        "\n"
      ],
      "metadata": {
        "id": "65831VTwO4IP"
      },
      "id": "65831VTwO4IP"
    },
    {
      "cell_type": "markdown",
      "source": [
        "#### Etape 3 : sans constante ni tendance déterministe"
      ],
      "metadata": {
        "id": "c7Rp_ajARUat"
      },
      "id": "c7Rp_ajARUat"
    },
    {
      "cell_type": "code",
      "source": [
        "adf3<-ur.df(y = df_u$taux,type=c(\"none\"), lag=8, selectlags = c('AIC'))\n",
        "summary(adf3)"
      ],
      "metadata": {
        "id": "SMAZcMY8O5s3"
      },
      "id": "SMAZcMY8O5s3",
      "execution_count": null,
      "outputs": []
    },
    {
      "cell_type": "markdown",
      "source": [
        "La statistique du test ADF est égale à  $t_{ADF}=-0.871$. Les seuils de rejet figurent sur la ligne tau3. La statistique de test  \n",
        "$t_{ADF}$  est supérieure aux seuils de rejets pour les risques de première espèce de 1%, 5% et 10%. On ne peut pas rejeter l'hypothèse nulle de racine unitaire.\n",
        "\n"
      ],
      "metadata": {
        "id": "SDS1_zbxO7R0"
      },
      "id": "SDS1_zbxO7R0"
    },
    {
      "cell_type": "markdown",
      "source": [
        "### Conclusion\n",
        "\n",
        "Les résultats des tests ADF nous amènent à conclure que la série du taux de chômage est une série DS sans tendance ni constante. Les conclusions des tests ADF ne sont pas modifiés par la période du covid.\n",
        "\n"
      ],
      "metadata": {
        "id": "qMsz1Q3fRYew"
      },
      "id": "qMsz1Q3fRYew"
    },
    {
      "cell_type": "markdown",
      "source": [
        "### Test de stationnarité de KPSS¶\n",
        "\n",
        "\n"
      ],
      "metadata": {
        "id": "OaRea5GTRcEu"
      },
      "id": "OaRea5GTRcEu"
    },
    {
      "cell_type": "markdown",
      "source": [
        "#### Stationnarité autour d'une tendance déterministe"
      ],
      "metadata": {
        "id": "tW0whkqtRdIm"
      },
      "id": "tW0whkqtRdIm"
    },
    {
      "cell_type": "code",
      "source": [
        "kpss_tau<-ur.kpss(y=df_u$taux,type=\"tau\",lags=\"long\")\n",
        "summary(kpss_tau)"
      ],
      "metadata": {
        "id": "YFHbOA_tO9Ml",
        "outputId": "9871ad41-f5d7-4f23-b3b0-f454ec77ae1f",
        "colab": {
          "base_uri": "https://localhost:8080/",
          "height": 236
        }
      },
      "id": "YFHbOA_tO9Ml",
      "execution_count": 37,
      "outputs": [
        {
          "output_type": "display_data",
          "data": {
            "text/plain": [
              "\n",
              "####################### \n",
              "# KPSS Unit Root Test # \n",
              "####################### \n",
              "\n",
              "Test is of type: tau with 12 lags. \n",
              "\n",
              "Value of test-statistic is: 0.129 \n",
              "\n",
              "Critical value for a significance level of: \n",
              "                10pct  5pct 2.5pct  1pct\n",
              "critical values 0.119 0.146  0.176 0.216\n"
            ]
          },
          "metadata": {}
        }
      ]
    },
    {
      "cell_type": "markdown",
      "source": [
        "La statistique du test KPSS avec une constante est égale à $LM_{KPSS}=0.129$. Elle est inférieure au seuil de rejet à 5% : 0.129<0.146 (et aussi à celle à 1%). On ne peut donc pas rejeter l'hypothèse de stationnarité du taux de chômage avec une tendance déterministe.\n",
        "\n"
      ],
      "metadata": {
        "id": "ZhxdkUHAPMB3"
      },
      "id": "ZhxdkUHAPMB3"
    },
    {
      "cell_type": "markdown",
      "source": [
        "\n",
        "#### Stationnarité autour d'une constante"
      ],
      "metadata": {
        "id": "oRUhg9IMRgZE"
      },
      "id": "oRUhg9IMRgZE"
    },
    {
      "cell_type": "code",
      "source": [
        "kpss_mu<-ur.kpss(y=df_u$taux,type=\"mu\",lags=\"long\")\n",
        "summary(kpss_mu)"
      ],
      "metadata": {
        "id": "OqcrHx7_PLwx"
      },
      "id": "OqcrHx7_PLwx",
      "execution_count": null,
      "outputs": []
    },
    {
      "cell_type": "markdown",
      "source": [
        "La statistique du test KPSS avec une constante est égale à $LM_{KPSS}=0.136$. Elle est inférieure au seuil de rejet à 5% : 0.136<0.436 (et aussi à celle à 1%). On ne peut donc pas rejeter l'hypothèse de stationnarité du taux de chômage autour d'une constante.\n",
        "\n"
      ],
      "metadata": {
        "id": "d8blOnwvPWZQ"
      },
      "id": "d8blOnwvPWZQ"
    },
    {
      "cell_type": "markdown",
      "source": [
        "#### Absence de tendance déterministe\n"
      ],
      "metadata": {
        "id": "zmg5FdQeRkf2"
      },
      "id": "zmg5FdQeRkf2"
    },
    {
      "cell_type": "markdown",
      "source": [
        "Pas plus que précédemment, si l'on régresse le taux de chômage sur une constante et une tendance déterministe linéaire, le coefficient de cette dernière variable n'est pas significativement différent de 0."
      ],
      "metadata": {
        "id": "g7NPblYfRksh"
      },
      "id": "g7NPblYfRksh"
    },
    {
      "cell_type": "code",
      "source": [
        "library(lmtest)\n",
        "model2<-lm(df_u$taux~seq_along(df_u$taux)) # Regression OLS standard\n",
        "summary(model2)\n",
        "\n",
        "coeftest(model2,vcov. = vcovHAC(model2,type=\"HAC\")) # Estimation des écart type robuste à l'heteroscedasticité et l'autocorrélation"
      ],
      "metadata": {
        "id": "luQmD55JPV7n",
        "outputId": "782fc020-3f8f-4c5b-ff38-d1c51513d3aa",
        "colab": {
          "base_uri": "https://localhost:8080/",
          "height": 467
        }
      },
      "id": "luQmD55JPV7n",
      "execution_count": 36,
      "outputs": [
        {
          "output_type": "display_data",
          "data": {
            "text/plain": [
              "\n",
              "Call:\n",
              "lm(formula = df_u$taux ~ seq_along(df_u$taux))\n",
              "\n",
              "Residuals:\n",
              "    Min      1Q  Median      3Q     Max \n",
              "-2.5640 -1.3816 -0.3941  0.5797  7.4635 \n",
              "\n",
              "Coefficients:\n",
              "                     Estimate Std. Error t value Pr(>|t|)    \n",
              "(Intercept)          6.571664   0.368587  17.829   <2e-16 ***\n",
              "seq_along(df_u$taux) 0.002499   0.005376   0.465    0.643    \n",
              "---\n",
              "Signif. codes:  0 ‘***’ 0.001 ‘**’ 0.01 ‘*’ 0.05 ‘.’ 0.1 ‘ ’ 1\n",
              "\n",
              "Residual standard error: 1.989 on 116 degrees of freedom\n",
              "Multiple R-squared:  0.001859,\tAdjusted R-squared:  -0.006746 \n",
              "F-statistic: 0.216 on 1 and 116 DF,  p-value: 0.643\n"
            ]
          },
          "metadata": {}
        },
        {
          "output_type": "display_data",
          "data": {
            "text/plain": [
              "\n",
              "t test of coefficients:\n",
              "\n",
              "                      Estimate Std. Error t value Pr(>|t|)    \n",
              "(Intercept)          6.5716645  0.6666703  9.8574   <2e-16 ***\n",
              "seq_along(df_u$taux) 0.0024987  0.0106114  0.2355   0.8143    \n",
              "---\n",
              "Signif. codes:  0 ‘***’ 0.001 ‘**’ 0.01 ‘*’ 0.05 ‘.’ 0.1 ‘ ’ 1\n"
            ]
          },
          "metadata": {}
        }
      ]
    },
    {
      "cell_type": "markdown",
      "source": [
        "## Conclusion générale"
      ],
      "metadata": {
        "id": "-1hLcxkxRthJ"
      },
      "id": "-1hLcxkxRthJ"
    },
    {
      "cell_type": "markdown",
      "source": [
        "\n",
        "\n",
        "* L'application des tests de racine unitaire ADF et des tests de stationarité KPSS nous donne des résultats contradictoires.\n",
        "\n",
        "* Ces résultats ne sont pas modifiés par l'ajout de la période covid.\n",
        "\n",
        "*  En s'appuyant sur les travaux empiriques précédents, on décide de considérer le taux de chômage comme une variable stationnaire et de donc de ne pas le différencier."
      ],
      "metadata": {
        "id": "nEQr8oRMPe5R"
      },
      "id": "nEQr8oRMPe5R"
    }
  ],
  "metadata": {
    "kernelspec": {
      "display_name": "R",
      "language": "R",
      "name": "ir"
    },
    "language_info": {
      "codemirror_mode": "r",
      "file_extension": ".r",
      "mimetype": "text/x-r-source",
      "name": "R",
      "pygments_lexer": "r",
      "version": "4.2.1"
    },
    "colab": {
      "provenance": []
    }
  },
  "nbformat": 4,
  "nbformat_minor": 5
}
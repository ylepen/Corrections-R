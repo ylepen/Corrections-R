{
 "cells": [
  {
   "cell_type": "code",
   "execution_count": 1,
   "id": "277f208e",
   "metadata": {},
   "outputs": [],
   "source": [
    "CAC40_df_1<-read.csv2(\"C:\\\\users\\\\ylepen\\\\Documents\\\\COURS dauphine\\\\econometrie II\\\\data exercice\\\\cac40_datastream.csv\",dec=\".\",col.names = c('Date','CAC40'))"
   ]
  },
  {
   "cell_type": "code",
   "execution_count": 2,
   "id": "cbcccc6e",
   "metadata": {},
   "outputs": [
    {
     "data": {
      "text/html": [
       "<table>\n",
       "<thead><tr><th scope=col>Date</th><th scope=col>CAC40</th></tr></thead>\n",
       "<tbody>\n",
       "\t<tr><td>09/07/1987</td><td>1482.89   </td></tr>\n",
       "\t<tr><td>10/07/1987</td><td>1490.42   </td></tr>\n",
       "\t<tr><td>13/07/1987</td><td>1490.42   </td></tr>\n",
       "\t<tr><td>14/07/1987</td><td>1490.42   </td></tr>\n",
       "\t<tr><td>15/07/1987</td><td>1490.42   </td></tr>\n",
       "\t<tr><td>16/07/1987</td><td>1474.22   </td></tr>\n",
       "</tbody>\n",
       "</table>\n"
      ],
      "text/latex": [
       "\\begin{tabular}{r|ll}\n",
       " Date & CAC40\\\\\n",
       "\\hline\n",
       "\t 09/07/1987 & 1482.89   \\\\\n",
       "\t 10/07/1987 & 1490.42   \\\\\n",
       "\t 13/07/1987 & 1490.42   \\\\\n",
       "\t 14/07/1987 & 1490.42   \\\\\n",
       "\t 15/07/1987 & 1490.42   \\\\\n",
       "\t 16/07/1987 & 1474.22   \\\\\n",
       "\\end{tabular}\n"
      ],
      "text/markdown": [
       "\n",
       "| Date | CAC40 |\n",
       "|---|---|\n",
       "| 09/07/1987 | 1482.89    |\n",
       "| 10/07/1987 | 1490.42    |\n",
       "| 13/07/1987 | 1490.42    |\n",
       "| 14/07/1987 | 1490.42    |\n",
       "| 15/07/1987 | 1490.42    |\n",
       "| 16/07/1987 | 1474.22    |\n",
       "\n"
      ],
      "text/plain": [
       "  Date       CAC40  \n",
       "1 09/07/1987 1482.89\n",
       "2 10/07/1987 1490.42\n",
       "3 13/07/1987 1490.42\n",
       "4 14/07/1987 1490.42\n",
       "5 15/07/1987 1490.42\n",
       "6 16/07/1987 1474.22"
      ]
     },
     "metadata": {},
     "output_type": "display_data"
    }
   ],
   "source": [
    "head(CAC40_df_1)"
   ]
  },
  {
   "cell_type": "code",
   "execution_count": null,
   "id": "1d93e63f",
   "metadata": {},
   "outputs": [],
   "source": [
    "On convertit la colonne Date au format date Year/Month/Day\n",
    "\n",
    "```{r}\n",
    "CAC40_df_1$Date<-as.Date(CAC40_df_1$Date,format = \"%d/%m/%Y\")\n",
    "tail(CAC40_df_1$Date)\n",
    "\n",
    "\n",
    "#library(lubridate)\n",
    "#CAC40_df_1$Date<-dmy(CAC40_df_1$Date)\n",
    "\n",
    "```\n",
    "\n",
    "On vérifie qu'il n'y a pas de données manquantes\n"
   ]
  }
 ],
 "metadata": {
  "kernelspec": {
   "display_name": "R",
   "language": "R",
   "name": "ir"
  },
  "language_info": {
   "codemirror_mode": "r",
   "file_extension": ".r",
   "mimetype": "text/x-r-source",
   "name": "R",
   "pygments_lexer": "r",
   "version": "3.6.1"
  }
 },
 "nbformat": 4,
 "nbformat_minor": 5
}

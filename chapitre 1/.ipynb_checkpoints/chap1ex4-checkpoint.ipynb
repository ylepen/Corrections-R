{
 "cells": [
  {
   "cell_type": "markdown",
   "id": "90fb45be",
   "metadata": {},
   "source": [
    "# Chapitre I, exercice 4 : Etude préliminaire du CAC 40\n",
    "\n",
    "## Importation des données\n",
    "\n",
    "### Option 1 : à partir d'un fichier de données\n",
    "\n",
    "#### Source : Datastream\n",
    "\n",
    "Datastream est une base de données payante accessible à la BU Dauphine. Elle présente l'avantage de fournir des données complètes. Le séparateur de décimale est le point \".\""
   ]
  },
  {
   "cell_type": "code",
   "execution_count": 2,
   "id": "0445784d",
   "metadata": {},
   "outputs": [
    {
     "data": {
      "text/html": [
       "<table class=\"dataframe\">\n",
       "<caption>A data.frame: 6 × 2</caption>\n",
       "<thead>\n",
       "\t<tr><th></th><th scope=col>Date</th><th scope=col>CAC40</th></tr>\n",
       "\t<tr><th></th><th scope=col>&lt;chr&gt;</th><th scope=col>&lt;dbl&gt;</th></tr>\n",
       "</thead>\n",
       "<tbody>\n",
       "\t<tr><th scope=row>1</th><td>09/07/1987</td><td>1482.89</td></tr>\n",
       "\t<tr><th scope=row>2</th><td>10/07/1987</td><td>1490.42</td></tr>\n",
       "\t<tr><th scope=row>3</th><td>13/07/1987</td><td>1490.42</td></tr>\n",
       "\t<tr><th scope=row>4</th><td>14/07/1987</td><td>1490.42</td></tr>\n",
       "\t<tr><th scope=row>5</th><td>15/07/1987</td><td>1490.42</td></tr>\n",
       "\t<tr><th scope=row>6</th><td>16/07/1987</td><td>1474.22</td></tr>\n",
       "</tbody>\n",
       "</table>\n"
      ],
      "text/latex": [
       "A data.frame: 6 × 2\n",
       "\\begin{tabular}{r|ll}\n",
       "  & Date & CAC40\\\\\n",
       "  & <chr> & <dbl>\\\\\n",
       "\\hline\n",
       "\t1 & 09/07/1987 & 1482.89\\\\\n",
       "\t2 & 10/07/1987 & 1490.42\\\\\n",
       "\t3 & 13/07/1987 & 1490.42\\\\\n",
       "\t4 & 14/07/1987 & 1490.42\\\\\n",
       "\t5 & 15/07/1987 & 1490.42\\\\\n",
       "\t6 & 16/07/1987 & 1474.22\\\\\n",
       "\\end{tabular}\n"
      ],
      "text/markdown": [
       "\n",
       "A data.frame: 6 × 2\n",
       "\n",
       "| <!--/--> | Date &lt;chr&gt; | CAC40 &lt;dbl&gt; |\n",
       "|---|---|---|\n",
       "| 1 | 09/07/1987 | 1482.89 |\n",
       "| 2 | 10/07/1987 | 1490.42 |\n",
       "| 3 | 13/07/1987 | 1490.42 |\n",
       "| 4 | 14/07/1987 | 1490.42 |\n",
       "| 5 | 15/07/1987 | 1490.42 |\n",
       "| 6 | 16/07/1987 | 1474.22 |\n",
       "\n"
      ],
      "text/plain": [
       "  Date       CAC40  \n",
       "1 09/07/1987 1482.89\n",
       "2 10/07/1987 1490.42\n",
       "3 13/07/1987 1490.42\n",
       "4 14/07/1987 1490.42\n",
       "5 15/07/1987 1490.42\n",
       "6 16/07/1987 1474.22"
      ]
     },
     "metadata": {},
     "output_type": "display_data"
    }
   ],
   "source": [
    "CAC40_df_1<-read.csv2(\"./data/cac40_datastream.csv\",dec=\".\",col.names = c('Date','CAC40'))\n",
    "head(CAC40_df_1)"
   ]
  }
 ],
 "metadata": {
  "kernelspec": {
   "display_name": "R",
   "language": "R",
   "name": "ir"
  },
  "language_info": {
   "codemirror_mode": "r",
   "file_extension": ".r",
   "mimetype": "text/x-r-source",
   "name": "R",
   "pygments_lexer": "r",
   "version": "4.2.1"
  }
 },
 "nbformat": 4,
 "nbformat_minor": 5
}

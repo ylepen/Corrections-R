{
  "cells": [
    {
      "cell_type": "markdown",
      "id": "75039164",
      "metadata": {
        "id": "75039164"
      },
      "source": [
        "# Chapitre I, exercice 4 : Etude préliminaire du CAC 40\n",
        "\n",
        "## Importation des données\n",
        "\n",
        "### Option 1 : à partir d'un fichier de données\n",
        "\n",
        "#### Source : Datastream\n",
        "\n",
        "Datastream est une base de données payante accessible à la BU Dauphine. Elle présente l'avantage de fournir des données complètes. Le séparateur de décimale est le point \".\""
      ]
    },
    {
      "cell_type": "code",
      "execution_count": 5,
      "id": "0445784d",
      "metadata": {
        "id": "0445784d",
        "outputId": "83930153-3b96-4eb9-cf07-d4d1821dd503",
        "colab": {
          "base_uri": "https://localhost:8080/",
          "height": 286
        }
      },
      "outputs": [
        {
          "output_type": "display_data",
          "data": {
            "text/html": [
              "<table class=\"dataframe\">\n",
              "<caption>A data.frame: 6 × 2</caption>\n",
              "<thead>\n",
              "\t<tr><th></th><th scope=col>Date</th><th scope=col>CAC40</th></tr>\n",
              "\t<tr><th></th><th scope=col>&lt;chr&gt;</th><th scope=col>&lt;dbl&gt;</th></tr>\n",
              "</thead>\n",
              "<tbody>\n",
              "\t<tr><th scope=row>1</th><td>09/07/1987</td><td>1482.89</td></tr>\n",
              "\t<tr><th scope=row>2</th><td>10/07/1987</td><td>1490.42</td></tr>\n",
              "\t<tr><th scope=row>3</th><td>13/07/1987</td><td>1490.42</td></tr>\n",
              "\t<tr><th scope=row>4</th><td>14/07/1987</td><td>1490.42</td></tr>\n",
              "\t<tr><th scope=row>5</th><td>15/07/1987</td><td>1490.42</td></tr>\n",
              "\t<tr><th scope=row>6</th><td>16/07/1987</td><td>1474.22</td></tr>\n",
              "</tbody>\n",
              "</table>\n"
            ],
            "text/markdown": "\nA data.frame: 6 × 2\n\n| <!--/--> | Date &lt;chr&gt; | CAC40 &lt;dbl&gt; |\n|---|---|---|\n| 1 | 09/07/1987 | 1482.89 |\n| 2 | 10/07/1987 | 1490.42 |\n| 3 | 13/07/1987 | 1490.42 |\n| 4 | 14/07/1987 | 1490.42 |\n| 5 | 15/07/1987 | 1490.42 |\n| 6 | 16/07/1987 | 1474.22 |\n\n",
            "text/latex": "A data.frame: 6 × 2\n\\begin{tabular}{r|ll}\n  & Date & CAC40\\\\\n  & <chr> & <dbl>\\\\\n\\hline\n\t1 & 09/07/1987 & 1482.89\\\\\n\t2 & 10/07/1987 & 1490.42\\\\\n\t3 & 13/07/1987 & 1490.42\\\\\n\t4 & 14/07/1987 & 1490.42\\\\\n\t5 & 15/07/1987 & 1490.42\\\\\n\t6 & 16/07/1987 & 1474.22\\\\\n\\end{tabular}\n",
            "text/plain": [
              "  Date       CAC40  \n",
              "1 09/07/1987 1482.89\n",
              "2 10/07/1987 1490.42\n",
              "3 13/07/1987 1490.42\n",
              "4 14/07/1987 1490.42\n",
              "5 15/07/1987 1490.42\n",
              "6 16/07/1987 1474.22"
            ]
          },
          "metadata": {}
        }
      ],
      "source": [
        "CAC40_df_1<-read.csv2(\"./cac40_datastream.csv\",dec=\".\",col.names = c('Date','CAC40'))\n",
        "head(CAC40_df_1)"
      ]
    },
    {
      "cell_type": "markdown",
      "id": "708b7cd3",
      "metadata": {
        "id": "708b7cd3"
      },
      "source": [
        "On convertit la colonne Date au format date Year/Month/Day"
      ]
    },
    {
      "cell_type": "code",
      "execution_count": 6,
      "id": "a6c75424",
      "metadata": {
        "id": "a6c75424",
        "outputId": "bbc9d442-5a83-4e36-9e3b-92cc690c9929",
        "colab": {
          "base_uri": "https://localhost:8080/",
          "height": 34
        }
      },
      "outputs": [
        {
          "output_type": "display_data",
          "data": {
            "text/html": [
              "<style>\n",
              ".list-inline {list-style: none; margin:0; padding: 0}\n",
              ".list-inline>li {display: inline-block}\n",
              ".list-inline>li:not(:last-child)::after {content: \"\\00b7\"; padding: 0 .5ex}\n",
              "</style>\n",
              "<ol class=list-inline><li><time datetime=\"2023-06-19\">2023-06-19</time></li><li><time datetime=\"2023-06-20\">2023-06-20</time></li><li><time datetime=\"2023-06-21\">2023-06-21</time></li><li><time datetime=\"2023-06-22\">2023-06-22</time></li><li><time datetime=\"2023-06-23\">2023-06-23</time></li><li><time datetime=\"2023-06-26\">2023-06-26</time></li></ol>\n"
            ],
            "text/markdown": "1. 2023-06-19\n2. 2023-06-20\n3. 2023-06-21\n4. 2023-06-22\n5. 2023-06-23\n6. 2023-06-26\n\n\n",
            "text/latex": "\\begin{enumerate*}\n\\item 2023-06-19\n\\item 2023-06-20\n\\item 2023-06-21\n\\item 2023-06-22\n\\item 2023-06-23\n\\item 2023-06-26\n\\end{enumerate*}\n",
            "text/plain": [
              "[1] \"2023-06-19\" \"2023-06-20\" \"2023-06-21\" \"2023-06-22\" \"2023-06-23\"\n",
              "[6] \"2023-06-26\""
            ]
          },
          "metadata": {}
        }
      ],
      "source": [
        "CAC40_df_1$Date<-as.Date(CAC40_df_1$Date,format = \"%d/%m/%Y\")\n",
        "tail(CAC40_df_1$Date)\n",
        "\n",
        "\n",
        "#library(lubridate)\n",
        "#CAC40_df_1$Date<-dmy(CAC40_df_1$Date)"
      ]
    },
    {
      "cell_type": "markdown",
      "id": "235b514d",
      "metadata": {
        "id": "235b514d"
      },
      "source": [
        "On vérifie qu'il n'y a pas de données manquantes"
      ]
    },
    {
      "cell_type": "code",
      "execution_count": 7,
      "id": "5e3e2c7b",
      "metadata": {
        "id": "5e3e2c7b",
        "outputId": "524eef90-4044-44a6-bc9f-caf387481e3e",
        "colab": {
          "base_uri": "https://localhost:8080/",
          "height": 34
        }
      },
      "outputs": [
        {
          "output_type": "display_data",
          "data": {
            "text/html": [
              "<style>\n",
              ".dl-inline {width: auto; margin:0; padding: 0}\n",
              ".dl-inline>dt, .dl-inline>dd {float: none; width: auto; display: inline-block}\n",
              ".dl-inline>dt::after {content: \":\\0020\"; padding-right: .5ex}\n",
              ".dl-inline>dt:not(:first-of-type) {padding-left: .5ex}\n",
              "</style><dl class=dl-inline><dt>Date</dt><dd>0</dd><dt>CAC40</dt><dd>0</dd></dl>\n"
            ],
            "text/markdown": "Date\n:   0CAC40\n:   0\n\n",
            "text/latex": "\\begin{description*}\n\\item[Date] 0\n\\item[CAC40] 0\n\\end{description*}\n",
            "text/plain": [
              " Date CAC40 \n",
              "    0     0 "
            ]
          },
          "metadata": {}
        }
      ],
      "source": [
        "sapply(CAC40_df_1,function(x) sum(is.na(x)))"
      ]
    },
    {
      "cell_type": "markdown",
      "id": "5b70112b",
      "metadata": {
        "id": "5b70112b"
      },
      "source": [
        "Les données commencent en \"1987-07-09\". On décide d'étudier la série à partir de \"1990-01-01\" en partie pour avoir le même échantillon que les autres sources de données."
      ]
    },
    {
      "cell_type": "code",
      "execution_count": null,
      "id": "242bdebe",
      "metadata": {
        "id": "242bdebe"
      },
      "outputs": [],
      "source": [
        "CAC40_df_1<-CAC40_df_1[CAC40_df_1$Date>=\"1990-01-01\",]"
      ]
    },
    {
      "cell_type": "markdown",
      "id": "693a02a9",
      "metadata": {
        "id": "693a02a9"
      },
      "source": [
        "#### Source : fichier csv provenant de Yahoo Finance\n",
        "Les données de Yahoo contiennent des données manquantes représentées par le terme ''null''. Avec R, \"null\" n'est pas le symbole habituel des données manquantes qui est \"na\". Dans l'importation des données à partir de la fonction read.csv, on ajoute l'option na.strings=c(\"null\") pour lui indiquer que le symbole des données manquantes dans le fichier ^FCHI.csv."
      ]
    },
    {
      "cell_type": "code",
      "execution_count": 9,
      "id": "f82df2dc",
      "metadata": {
        "id": "f82df2dc",
        "outputId": "b90eab96-8956-4b62-ada3-98da17350b97",
        "colab": {
          "base_uri": "https://localhost:8080/",
          "height": 173
        }
      },
      "outputs": [
        {
          "output_type": "display_data",
          "data": {
            "text/html": [
              "'data.frame'"
            ],
            "text/markdown": "'data.frame'",
            "text/latex": "'data.frame'",
            "text/plain": [
              "[1] \"data.frame\""
            ]
          },
          "metadata": {}
        },
        {
          "output_type": "stream",
          "name": "stdout",
          "text": [
            "'data.frame':\t8605 obs. of  7 variables:\n",
            " $ Date     : chr  \"1990-03-01\" \"1990-03-02\" \"1990-03-05\" \"1990-03-06\" ...\n",
            " $ Open     : num  1836 1831 1866 1869 1874 ...\n",
            " $ High     : num  1838 1860 1874 1875 1881 ...\n",
            " $ Low      : num  1827 1831 1862 1866 1874 ...\n",
            " $ Close    : num  1832 1860 1874 1872 1880 ...\n",
            " $ Adj.Close: num  1832 1860 1874 1872 1880 ...\n",
            " $ Volume   : int  0 0 0 0 0 0 0 0 0 0 ...\n"
          ]
        }
      ],
      "source": [
        "library(readr)\n",
        "CAC40_df_2<-read.csv(\"./^FCHI.csv\",na.strings=c(\"null\"))\n",
        "class(CAC40_df_2)\n",
        "str(CAC40_df_2)"
      ]
    },
    {
      "cell_type": "markdown",
      "id": "3de3feee",
      "metadata": {
        "id": "3de3feee"
      },
      "source": [
        "Décompte des données manquantes :"
      ]
    },
    {
      "cell_type": "code",
      "execution_count": 10,
      "id": "e8125cfd",
      "metadata": {
        "id": "e8125cfd",
        "outputId": "3aa0c4fa-a3bf-4d0a-fad2-734cc45a9feb",
        "colab": {
          "base_uri": "https://localhost:8080/",
          "height": 34
        }
      },
      "outputs": [
        {
          "output_type": "display_data",
          "data": {
            "text/html": [
              "<style>\n",
              ".dl-inline {width: auto; margin:0; padding: 0}\n",
              ".dl-inline>dt, .dl-inline>dd {float: none; width: auto; display: inline-block}\n",
              ".dl-inline>dt::after {content: \":\\0020\"; padding-right: .5ex}\n",
              ".dl-inline>dt:not(:first-of-type) {padding-left: .5ex}\n",
              "</style><dl class=dl-inline><dt>Date</dt><dd>0</dd><dt>Open</dt><dd>147</dd><dt>High</dt><dd>147</dd><dt>Low</dt><dd>147</dd><dt>Close</dt><dd>147</dd><dt>Adj.Close</dt><dd>147</dd><dt>Volume</dt><dd>147</dd></dl>\n"
            ],
            "text/markdown": "Date\n:   0Open\n:   147High\n:   147Low\n:   147Close\n:   147Adj.Close\n:   147Volume\n:   147\n\n",
            "text/latex": "\\begin{description*}\n\\item[Date] 0\n\\item[Open] 147\n\\item[High] 147\n\\item[Low] 147\n\\item[Close] 147\n\\item[Adj.Close] 147\n\\item[Volume] 147\n\\end{description*}\n",
            "text/plain": [
              "     Date      Open      High       Low     Close Adj.Close    Volume \n",
              "        0       147       147       147       147       147       147 "
            ]
          },
          "metadata": {}
        }
      ],
      "source": [
        "sapply(CAC40_df_2,function(x) sum(is.na(x)))"
      ]
    },
    {
      "cell_type": "markdown",
      "id": "623a6e66",
      "metadata": {
        "id": "623a6e66"
      },
      "source": [
        "Il existe plusieurs manières de gérer les données manquantes. On décide ici de supprimer les dates ayant des données manquantes car elles peuvent empécher l'éxécution de certaines fonctions de R."
      ]
    },
    {
      "cell_type": "code",
      "execution_count": 11,
      "id": "21f3fa1f",
      "metadata": {
        "id": "21f3fa1f",
        "outputId": "72febecb-e109-4618-c40e-eaea236d391e",
        "colab": {
          "base_uri": "https://localhost:8080/",
          "height": 34
        }
      },
      "outputs": [
        {
          "output_type": "display_data",
          "data": {
            "text/html": [
              "<style>\n",
              ".dl-inline {width: auto; margin:0; padding: 0}\n",
              ".dl-inline>dt, .dl-inline>dd {float: none; width: auto; display: inline-block}\n",
              ".dl-inline>dt::after {content: \":\\0020\"; padding-right: .5ex}\n",
              ".dl-inline>dt:not(:first-of-type) {padding-left: .5ex}\n",
              "</style><dl class=dl-inline><dt>Date</dt><dd>0</dd><dt>Open</dt><dd>0</dd><dt>High</dt><dd>0</dd><dt>Low</dt><dd>0</dd><dt>Close</dt><dd>0</dd><dt>Adj.Close</dt><dd>0</dd><dt>Volume</dt><dd>0</dd></dl>\n"
            ],
            "text/markdown": "Date\n:   0Open\n:   0High\n:   0Low\n:   0Close\n:   0Adj.Close\n:   0Volume\n:   0\n\n",
            "text/latex": "\\begin{description*}\n\\item[Date] 0\n\\item[Open] 0\n\\item[High] 0\n\\item[Low] 0\n\\item[Close] 0\n\\item[Adj.Close] 0\n\\item[Volume] 0\n\\end{description*}\n",
            "text/plain": [
              "     Date      Open      High       Low     Close Adj.Close    Volume \n",
              "        0         0         0         0         0         0         0 "
            ]
          },
          "metadata": {}
        }
      ],
      "source": [
        "CAC40_df_2<-na.omit(CAC40_df_2)\n",
        "sapply(CAC40_df_2,function(x) sum(is.na(x)))"
      ]
    },
    {
      "cell_type": "markdown",
      "id": "fd28baf7",
      "metadata": {
        "id": "fd28baf7"
      },
      "source": [
        "Rappel : Les fonctions\n",
        "class() : affiche la classe d'un objet\n",
        "str() : affiche la structure d'un objet\n",
        "head() : affiche les premières lignes d'un objet\n",
        "tail() : affiche les dernières lignes d'un objet\n"
      ]
    },
    {
      "cell_type": "code",
      "execution_count": 12,
      "id": "9e5e4252",
      "metadata": {
        "id": "9e5e4252",
        "outputId": "6f762004-61c9-479d-b118-f2017cb878d7",
        "colab": {
          "base_uri": "https://localhost:8080/",
          "height": 34
        }
      },
      "outputs": [
        {
          "output_type": "display_data",
          "data": {
            "text/html": [
              "'data.frame'"
            ],
            "text/markdown": "'data.frame'",
            "text/latex": "'data.frame'",
            "text/plain": [
              "[1] \"data.frame\""
            ]
          },
          "metadata": {}
        }
      ],
      "source": [
        "class(CAC40_df_2)"
      ]
    },
    {
      "cell_type": "code",
      "execution_count": 13,
      "id": "07cd35d7",
      "metadata": {
        "id": "07cd35d7",
        "outputId": "2df6f6e5-5d1c-4ee3-c41f-ebc3d7e312ad",
        "colab": {
          "base_uri": "https://localhost:8080/"
        }
      },
      "outputs": [
        {
          "output_type": "stream",
          "name": "stdout",
          "text": [
            "'data.frame':\t8458 obs. of  7 variables:\n",
            " $ Date     : chr  \"1990-03-01\" \"1990-03-02\" \"1990-03-05\" \"1990-03-06\" ...\n",
            " $ Open     : num  1836 1831 1866 1869 1874 ...\n",
            " $ High     : num  1838 1860 1874 1875 1881 ...\n",
            " $ Low      : num  1827 1831 1862 1866 1874 ...\n",
            " $ Close    : num  1832 1860 1874 1872 1880 ...\n",
            " $ Adj.Close: num  1832 1860 1874 1872 1880 ...\n",
            " $ Volume   : int  0 0 0 0 0 0 0 0 0 0 ...\n",
            " - attr(*, \"na.action\")= 'omit' Named int [1:147] 32 33 44 49 61 68 120 176 213 214 ...\n",
            "  ..- attr(*, \"names\")= chr [1:147] \"32\" \"33\" \"44\" \"49\" ...\n"
          ]
        }
      ],
      "source": [
        "str(CAC40_df_2)"
      ]
    },
    {
      "cell_type": "code",
      "execution_count": null,
      "id": "74a0b5e4",
      "metadata": {
        "id": "74a0b5e4",
        "outputId": "bbdc390f-44e3-4455-d190-9b7cc2a16944"
      },
      "outputs": [
        {
          "data": {
            "text/html": [
              "<table class=\"dataframe\">\n",
              "<caption>A data.frame: 6 × 7</caption>\n",
              "<thead>\n",
              "\t<tr><th></th><th scope=col>Date</th><th scope=col>Open</th><th scope=col>High</th><th scope=col>Low</th><th scope=col>Close</th><th scope=col>Adj.Close</th><th scope=col>Volume</th></tr>\n",
              "\t<tr><th></th><th scope=col>&lt;chr&gt;</th><th scope=col>&lt;dbl&gt;</th><th scope=col>&lt;dbl&gt;</th><th scope=col>&lt;dbl&gt;</th><th scope=col>&lt;dbl&gt;</th><th scope=col>&lt;dbl&gt;</th><th scope=col>&lt;int&gt;</th></tr>\n",
              "</thead>\n",
              "<tbody>\n",
              "\t<tr><th scope=row>1</th><td>1990-03-01</td><td>1836</td><td>1838</td><td>1827</td><td>1832</td><td>1832</td><td>0</td></tr>\n",
              "\t<tr><th scope=row>2</th><td>1990-03-02</td><td>1831</td><td>1860</td><td>1831</td><td>1860</td><td>1860</td><td>0</td></tr>\n",
              "\t<tr><th scope=row>3</th><td>1990-03-05</td><td>1866</td><td>1874</td><td>1862</td><td>1874</td><td>1874</td><td>0</td></tr>\n",
              "\t<tr><th scope=row>4</th><td>1990-03-06</td><td>1869</td><td>1875</td><td>1866</td><td>1872</td><td>1872</td><td>0</td></tr>\n",
              "\t<tr><th scope=row>5</th><td>1990-03-07</td><td>1874</td><td>1881</td><td>1874</td><td>1880</td><td>1880</td><td>0</td></tr>\n",
              "\t<tr><th scope=row>6</th><td>1990-03-08</td><td>1891</td><td>1923</td><td>1891</td><td>1917</td><td>1917</td><td>0</td></tr>\n",
              "</tbody>\n",
              "</table>\n"
            ],
            "text/latex": [
              "A data.frame: 6 × 7\n",
              "\\begin{tabular}{r|lllllll}\n",
              "  & Date & Open & High & Low & Close & Adj.Close & Volume\\\\\n",
              "  & <chr> & <dbl> & <dbl> & <dbl> & <dbl> & <dbl> & <int>\\\\\n",
              "\\hline\n",
              "\t1 & 1990-03-01 & 1836 & 1838 & 1827 & 1832 & 1832 & 0\\\\\n",
              "\t2 & 1990-03-02 & 1831 & 1860 & 1831 & 1860 & 1860 & 0\\\\\n",
              "\t3 & 1990-03-05 & 1866 & 1874 & 1862 & 1874 & 1874 & 0\\\\\n",
              "\t4 & 1990-03-06 & 1869 & 1875 & 1866 & 1872 & 1872 & 0\\\\\n",
              "\t5 & 1990-03-07 & 1874 & 1881 & 1874 & 1880 & 1880 & 0\\\\\n",
              "\t6 & 1990-03-08 & 1891 & 1923 & 1891 & 1917 & 1917 & 0\\\\\n",
              "\\end{tabular}\n"
            ],
            "text/markdown": [
              "\n",
              "A data.frame: 6 × 7\n",
              "\n",
              "| <!--/--> | Date &lt;chr&gt; | Open &lt;dbl&gt; | High &lt;dbl&gt; | Low &lt;dbl&gt; | Close &lt;dbl&gt; | Adj.Close &lt;dbl&gt; | Volume &lt;int&gt; |\n",
              "|---|---|---|---|---|---|---|---|\n",
              "| 1 | 1990-03-01 | 1836 | 1838 | 1827 | 1832 | 1832 | 0 |\n",
              "| 2 | 1990-03-02 | 1831 | 1860 | 1831 | 1860 | 1860 | 0 |\n",
              "| 3 | 1990-03-05 | 1866 | 1874 | 1862 | 1874 | 1874 | 0 |\n",
              "| 4 | 1990-03-06 | 1869 | 1875 | 1866 | 1872 | 1872 | 0 |\n",
              "| 5 | 1990-03-07 | 1874 | 1881 | 1874 | 1880 | 1880 | 0 |\n",
              "| 6 | 1990-03-08 | 1891 | 1923 | 1891 | 1917 | 1917 | 0 |\n",
              "\n"
            ],
            "text/plain": [
              "  Date       Open High Low  Close Adj.Close Volume\n",
              "1 1990-03-01 1836 1838 1827 1832  1832      0     \n",
              "2 1990-03-02 1831 1860 1831 1860  1860      0     \n",
              "3 1990-03-05 1866 1874 1862 1874  1874      0     \n",
              "4 1990-03-06 1869 1875 1866 1872  1872      0     \n",
              "5 1990-03-07 1874 1881 1874 1880  1880      0     \n",
              "6 1990-03-08 1891 1923 1891 1917  1917      0     "
            ]
          },
          "metadata": {},
          "output_type": "display_data"
        },
        {
          "data": {
            "text/html": [
              "<table class=\"dataframe\">\n",
              "<caption>A data.frame: 6 × 7</caption>\n",
              "<thead>\n",
              "\t<tr><th></th><th scope=col>Date</th><th scope=col>Open</th><th scope=col>High</th><th scope=col>Low</th><th scope=col>Close</th><th scope=col>Adj.Close</th><th scope=col>Volume</th></tr>\n",
              "\t<tr><th></th><th scope=col>&lt;chr&gt;</th><th scope=col>&lt;dbl&gt;</th><th scope=col>&lt;dbl&gt;</th><th scope=col>&lt;dbl&gt;</th><th scope=col>&lt;dbl&gt;</th><th scope=col>&lt;dbl&gt;</th><th scope=col>&lt;int&gt;</th></tr>\n",
              "</thead>\n",
              "<tbody>\n",
              "\t<tr><th scope=row>8600</th><td>2023-06-19</td><td>7353.31</td><td>7362.44</td><td>7302.63</td><td>7314.05</td><td>7314.05</td><td>       0</td></tr>\n",
              "\t<tr><th scope=row>8601</th><td>2023-06-20</td><td>7303.24</td><td>7322.57</td><td>7281.12</td><td>7294.17</td><td>7294.17</td><td>55853400</td></tr>\n",
              "\t<tr><th scope=row>8602</th><td>2023-06-21</td><td>7273.89</td><td>7297.85</td><td>7246.86</td><td>7260.97</td><td>7260.97</td><td>48414000</td></tr>\n",
              "\t<tr><th scope=row>8603</th><td>2023-06-22</td><td>7194.26</td><td>7206.89</td><td>7145.06</td><td>7203.28</td><td>7203.28</td><td>53704500</td></tr>\n",
              "\t<tr><th scope=row>8604</th><td>2023-06-23</td><td>7165.38</td><td>7193.78</td><td>7128.64</td><td>7163.42</td><td>7163.42</td><td>51938700</td></tr>\n",
              "\t<tr><th scope=row>8605</th><td>2023-06-26</td><td>7175.88</td><td>7203.46</td><td>7105.72</td><td>7184.35</td><td>7184.35</td><td>52606600</td></tr>\n",
              "</tbody>\n",
              "</table>\n"
            ],
            "text/latex": [
              "A data.frame: 6 × 7\n",
              "\\begin{tabular}{r|lllllll}\n",
              "  & Date & Open & High & Low & Close & Adj.Close & Volume\\\\\n",
              "  & <chr> & <dbl> & <dbl> & <dbl> & <dbl> & <dbl> & <int>\\\\\n",
              "\\hline\n",
              "\t8600 & 2023-06-19 & 7353.31 & 7362.44 & 7302.63 & 7314.05 & 7314.05 &        0\\\\\n",
              "\t8601 & 2023-06-20 & 7303.24 & 7322.57 & 7281.12 & 7294.17 & 7294.17 & 55853400\\\\\n",
              "\t8602 & 2023-06-21 & 7273.89 & 7297.85 & 7246.86 & 7260.97 & 7260.97 & 48414000\\\\\n",
              "\t8603 & 2023-06-22 & 7194.26 & 7206.89 & 7145.06 & 7203.28 & 7203.28 & 53704500\\\\\n",
              "\t8604 & 2023-06-23 & 7165.38 & 7193.78 & 7128.64 & 7163.42 & 7163.42 & 51938700\\\\\n",
              "\t8605 & 2023-06-26 & 7175.88 & 7203.46 & 7105.72 & 7184.35 & 7184.35 & 52606600\\\\\n",
              "\\end{tabular}\n"
            ],
            "text/markdown": [
              "\n",
              "A data.frame: 6 × 7\n",
              "\n",
              "| <!--/--> | Date &lt;chr&gt; | Open &lt;dbl&gt; | High &lt;dbl&gt; | Low &lt;dbl&gt; | Close &lt;dbl&gt; | Adj.Close &lt;dbl&gt; | Volume &lt;int&gt; |\n",
              "|---|---|---|---|---|---|---|---|\n",
              "| 8600 | 2023-06-19 | 7353.31 | 7362.44 | 7302.63 | 7314.05 | 7314.05 |        0 |\n",
              "| 8601 | 2023-06-20 | 7303.24 | 7322.57 | 7281.12 | 7294.17 | 7294.17 | 55853400 |\n",
              "| 8602 | 2023-06-21 | 7273.89 | 7297.85 | 7246.86 | 7260.97 | 7260.97 | 48414000 |\n",
              "| 8603 | 2023-06-22 | 7194.26 | 7206.89 | 7145.06 | 7203.28 | 7203.28 | 53704500 |\n",
              "| 8604 | 2023-06-23 | 7165.38 | 7193.78 | 7128.64 | 7163.42 | 7163.42 | 51938700 |\n",
              "| 8605 | 2023-06-26 | 7175.88 | 7203.46 | 7105.72 | 7184.35 | 7184.35 | 52606600 |\n",
              "\n"
            ],
            "text/plain": [
              "     Date       Open    High    Low     Close   Adj.Close Volume  \n",
              "8600 2023-06-19 7353.31 7362.44 7302.63 7314.05 7314.05          0\n",
              "8601 2023-06-20 7303.24 7322.57 7281.12 7294.17 7294.17   55853400\n",
              "8602 2023-06-21 7273.89 7297.85 7246.86 7260.97 7260.97   48414000\n",
              "8603 2023-06-22 7194.26 7206.89 7145.06 7203.28 7203.28   53704500\n",
              "8604 2023-06-23 7165.38 7193.78 7128.64 7163.42 7163.42   51938700\n",
              "8605 2023-06-26 7175.88 7203.46 7105.72 7184.35 7184.35   52606600"
            ]
          },
          "metadata": {},
          "output_type": "display_data"
        }
      ],
      "source": [
        "head(CAC40_df_2)\n",
        "tail(CAC40_df_2)"
      ]
    },
    {
      "cell_type": "markdown",
      "id": "244548d7",
      "metadata": {
        "id": "244548d7"
      },
      "source": [
        "### Option 2 : Importation des données à partir d'un site internet\n",
        "\n",
        "#### librairie quantmod"
      ]
    },
    {
      "cell_type": "code",
      "execution_count": 20,
      "id": "37d8c3cd",
      "metadata": {
        "id": "37d8c3cd",
        "outputId": "b84ae472-89b7-4f85-fda5-4492e6b609f0",
        "colab": {
          "base_uri": "https://localhost:8080/"
        }
      },
      "outputs": [
        {
          "output_type": "stream",
          "name": "stderr",
          "text": [
            "Installing package into ‘/usr/local/lib/R/site-library’\n",
            "(as ‘lib’ is unspecified)\n",
            "\n",
            "Installing package into ‘/usr/local/lib/R/site-library’\n",
            "(as ‘lib’ is unspecified)\n",
            "\n",
            "also installing the dependencies ‘xts’, ‘zoo’, ‘TTR’\n",
            "\n",
            "\n"
          ]
        }
      ],
      "source": [
        "install.packages('TT')\n",
        "install.packages('quantmod')"
      ]
    },
    {
      "cell_type": "code",
      "execution_count": 22,
      "id": "b58f36b9",
      "metadata": {
        "id": "b58f36b9",
        "outputId": "6153456f-ba58-40fe-818a-1a5e80feb47b",
        "colab": {
          "base_uri": "https://localhost:8080/",
          "height": 141
        }
      },
      "outputs": [
        {
          "output_type": "stream",
          "name": "stderr",
          "text": [
            "Warning message:\n",
            "“^FCHI contains missing values. Some functions will not work if objects contain missing values in the middle of the series. Consider using na.omit(), na.approx(), na.fill(), etc to remove or replace them.”\n"
          ]
        },
        {
          "output_type": "display_data",
          "data": {
            "text/html": [
              "<style>\n",
              ".list-inline {list-style: none; margin:0; padding: 0}\n",
              ".list-inline>li {display: inline-block}\n",
              ".list-inline>li:not(:last-child)::after {content: \"\\00b7\"; padding: 0 .5ex}\n",
              "</style>\n",
              "<ol class=list-inline><li>'xts'</li><li>'zoo'</li></ol>\n"
            ],
            "text/markdown": "1. 'xts'\n2. 'zoo'\n\n\n",
            "text/latex": "\\begin{enumerate*}\n\\item 'xts'\n\\item 'zoo'\n\\end{enumerate*}\n",
            "text/plain": [
              "[1] \"xts\" \"zoo\""
            ]
          },
          "metadata": {}
        },
        {
          "output_type": "display_data",
          "data": {
            "text/html": [
              "<style>\n",
              ".dl-inline {width: auto; margin:0; padding: 0}\n",
              ".dl-inline>dt, .dl-inline>dd {float: none; width: auto; display: inline-block}\n",
              ".dl-inline>dt::after {content: \":\\0020\"; padding-right: .5ex}\n",
              ".dl-inline>dt:not(:first-of-type) {padding-left: .5ex}\n",
              "</style><dl class=dl-inline><dt>Date</dt><dd>0</dd><dt>Open</dt><dd>147</dd><dt>High</dt><dd>147</dd><dt>Low</dt><dd>147</dd><dt>Close</dt><dd>147</dd><dt>Vol</dt><dd>147</dd><dt>Adj.Close</dt><dd>147</dd></dl>\n"
            ],
            "text/markdown": "Date\n:   0Open\n:   147High\n:   147Low\n:   147Close\n:   147Vol\n:   147Adj.Close\n:   147\n\n",
            "text/latex": "\\begin{description*}\n\\item[Date] 0\n\\item[Open] 147\n\\item[High] 147\n\\item[Low] 147\n\\item[Close] 147\n\\item[Vol] 147\n\\item[Adj.Close] 147\n\\end{description*}\n",
            "text/plain": [
              "     Date      Open      High       Low     Close       Vol Adj.Close \n",
              "        0       147       147       147       147       147       147 "
            ]
          },
          "metadata": {}
        },
        {
          "output_type": "display_data",
          "data": {
            "text/html": [
              "<style>\n",
              ".dl-inline {width: auto; margin:0; padding: 0}\n",
              ".dl-inline>dt, .dl-inline>dd {float: none; width: auto; display: inline-block}\n",
              ".dl-inline>dt::after {content: \":\\0020\"; padding-right: .5ex}\n",
              ".dl-inline>dt:not(:first-of-type) {padding-left: .5ex}\n",
              "</style><dl class=dl-inline><dt>Date</dt><dd>0</dd><dt>Open</dt><dd>0</dd><dt>High</dt><dd>0</dd><dt>Low</dt><dd>0</dd><dt>Close</dt><dd>0</dd><dt>Vol</dt><dd>0</dd><dt>Adj.Close</dt><dd>0</dd></dl>\n"
            ],
            "text/markdown": "Date\n:   0Open\n:   0High\n:   0Low\n:   0Close\n:   0Vol\n:   0Adj.Close\n:   0\n\n",
            "text/latex": "\\begin{description*}\n\\item[Date] 0\n\\item[Open] 0\n\\item[High] 0\n\\item[Low] 0\n\\item[Close] 0\n\\item[Vol] 0\n\\item[Adj.Close] 0\n\\end{description*}\n",
            "text/plain": [
              "     Date      Open      High       Low     Close       Vol Adj.Close \n",
              "        0         0         0         0         0         0         0 "
            ]
          },
          "metadata": {}
        },
        {
          "output_type": "display_data",
          "data": {
            "text/html": [
              "'data.frame'"
            ],
            "text/markdown": "'data.frame'",
            "text/latex": "'data.frame'",
            "text/plain": [
              "[1] \"data.frame\""
            ]
          },
          "metadata": {}
        }
      ],
      "source": [
        "library(TT)\n",
        "library(quantmod)\n",
        "\n",
        "\n",
        "CAC40 <-getSymbols('^FCHI',auto.assign = FALSE,from ='1990-01-01')\n",
        "class(CAC40) # an xts object\n",
        "\n",
        "CAC40_df<-data.frame(date=index(CAC40),coredata(CAC40))# conversion xts en dataframe avec les dates comme indices\n",
        "colnames(CAC40_df)<-c(\"Date\",\"Open\",\"High\",\"Low\",\"Close\",\"Vol\",\"Adj.Close\")\n",
        "sapply(CAC40_df,function(x) sum(is.na(x)))\n",
        "CAC40_df<-na.omit(CAC40_df)\n",
        "sapply(CAC40_df,function(x) sum(is.na(x)))\n",
        "class(CAC40_df)"
      ]
    },
    {
      "cell_type": "markdown",
      "id": "8e6dccdf",
      "metadata": {
        "id": "8e6dccdf"
      },
      "source": [
        "### Utilisation de la librairie yahoofinancer\n",
        "Il existe aussi la librairie yahoofinancer mais elle ne semble pas capable d'importer des données dès qu'elles contiennent des observations manquantes. On importe ici des données mensuelles et non quotidiennes.\n"
      ]
    },
    {
      "cell_type": "code",
      "execution_count": 23,
      "id": "57c1aa68",
      "metadata": {
        "id": "57c1aa68",
        "outputId": "dbe6b18e-d872-4c68-fa56-602c636d96d8",
        "colab": {
          "base_uri": "https://localhost:8080/"
        }
      },
      "outputs": [
        {
          "output_type": "stream",
          "name": "stderr",
          "text": [
            "Installing package into ‘/usr/local/lib/R/site-library’\n",
            "(as ‘lib’ is unspecified)\n",
            "\n"
          ]
        }
      ],
      "source": [
        "install.packages('yahoofinancer')"
      ]
    },
    {
      "cell_type": "code",
      "execution_count": 24,
      "id": "d9035891",
      "metadata": {
        "id": "d9035891"
      },
      "outputs": [],
      "source": [
        "library(yahoofinancer)\n",
        "cac40<-Index$new('^FCHI')\n",
        "cac40_data<-cac40$get_history(start = '1990-01-01',interval = '1mo')"
      ]
    },
    {
      "cell_type": "markdown",
      "id": "d8f75ee8",
      "metadata": {
        "id": "d8f75ee8"
      },
      "source": [
        "## Représentation graphique de l'indice CAC40\n",
        "On utilise les données importées via quantmod.\n"
      ]
    },
    {
      "cell_type": "code",
      "execution_count": 25,
      "id": "48bc14c8",
      "metadata": {
        "id": "48bc14c8",
        "outputId": "d9b6b786-21a9-4194-bd34-dba9df6da5a5",
        "colab": {
          "base_uri": "https://localhost:8080/"
        }
      },
      "outputs": [
        {
          "output_type": "stream",
          "name": "stderr",
          "text": [
            "Installing package into ‘/usr/local/lib/R/site-library’\n",
            "(as ‘lib’ is unspecified)\n",
            "\n"
          ]
        }
      ],
      "source": [
        "#install.packages(c('cli','lifecycle','rlang','scales','vctrs'))\n",
        "install.packages('ggplot2')\n"
      ]
    },
    {
      "cell_type": "code",
      "execution_count": 26,
      "id": "9043ee54",
      "metadata": {
        "id": "9043ee54",
        "outputId": "75213161-caa3-4b50-8b63-693239cc5cba",
        "colab": {
          "base_uri": "https://localhost:8080/",
          "height": 437
        }
      },
      "outputs": [
        {
          "output_type": "display_data",
          "data": {
            "text/plain": [
              "plot without title"
            ],
            "image/png": "[encoded data removed]"
          },
          "metadata": {
            "image/png": {
              "width": 420,
              "height": 420
            }
          }
        }
      ],
      "source": [
        "library(ggplot2)\n",
        "p1<-ggplot(data=CAC40_df,aes(x=Date,y=Adj.Close))+geom_line(colour='blue')+ggtitle('Indice CAC 40 en log')+xlab('date')+ylab('indice en log')+theme_bw()+theme(plot.title = element_text(hjust = 0.5))\n",
        "p1"
      ]
    },
    {
      "cell_type": "code",
      "execution_count": 27,
      "id": "a6e85473",
      "metadata": {
        "id": "a6e85473",
        "outputId": "6c8b4c45-8f94-4a80-de86-a3258dc34555",
        "colab": {
          "base_uri": "https://localhost:8080/",
          "height": 34
        }
      },
      "outputs": [
        {
          "output_type": "display_data",
          "data": {
            "text/html": [
              "2"
            ],
            "text/markdown": "2",
            "text/latex": "2",
            "text/plain": [
              "[1] 2"
            ]
          },
          "metadata": {}
        }
      ],
      "source": [
        "1+1"
      ]
    },
    {
      "cell_type": "code",
      "source": [],
      "metadata": {
        "id": "RoaQwmO2e72V"
      },
      "id": "RoaQwmO2e72V",
      "execution_count": null,
      "outputs": []
    }
  ],
  "metadata": {
    "kernelspec": {
      "display_name": "R",
      "language": "R",
      "name": "ir"
    },
    "language_info": {
      "codemirror_mode": "r",
      "file_extension": ".r",
      "mimetype": "text/x-r-source",
      "name": "R",
      "pygments_lexer": "r",
      "version": "4.2.1"
    },
    "colab": {
      "provenance": []
    }
  },
  "nbformat": 4,
  "nbformat_minor": 5
}
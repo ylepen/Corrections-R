{
 "cells": [
  {
   "cell_type": "markdown",
   "id": "75039164",
   "metadata": {},
   "source": [
    "# Chapitre I, exercice 4 : Etude préliminaire du CAC 40\n",
    "\n",
    "## Importation des données\n",
    "\n",
    "### Option 1 : à partir d'un fichier de données\n",
    "\n",
    "#### Source : Datastream\n",
    "\n",
    "Datastream est une base de données payante accessible à la BU Dauphine. Elle présente l'avantage de fournir des données complètes. Le séparateur de décimale est le point \".\""
   ]
  },
  {
   "cell_type": "code",
   "execution_count": 7,
   "id": "0445784d",
   "metadata": {},
   "outputs": [
    {
     "data": {
      "text/html": [
       "<table>\n",
       "<thead><tr><th scope=col>Date</th><th scope=col>CAC40</th></tr></thead>\n",
       "<tbody>\n",
       "\t<tr><td>09/07/1987</td><td>1482.89   </td></tr>\n",
       "\t<tr><td>10/07/1987</td><td>1490.42   </td></tr>\n",
       "\t<tr><td>13/07/1987</td><td>1490.42   </td></tr>\n",
       "\t<tr><td>14/07/1987</td><td>1490.42   </td></tr>\n",
       "\t<tr><td>15/07/1987</td><td>1490.42   </td></tr>\n",
       "\t<tr><td>16/07/1987</td><td>1474.22   </td></tr>\n",
       "</tbody>\n",
       "</table>\n"
      ],
      "text/latex": [
       "\\begin{tabular}{r|ll}\n",
       " Date & CAC40\\\\\n",
       "\\hline\n",
       "\t 09/07/1987 & 1482.89   \\\\\n",
       "\t 10/07/1987 & 1490.42   \\\\\n",
       "\t 13/07/1987 & 1490.42   \\\\\n",
       "\t 14/07/1987 & 1490.42   \\\\\n",
       "\t 15/07/1987 & 1490.42   \\\\\n",
       "\t 16/07/1987 & 1474.22   \\\\\n",
       "\\end{tabular}\n"
      ],
      "text/markdown": [
       "\n",
       "| Date | CAC40 |\n",
       "|---|---|\n",
       "| 09/07/1987 | 1482.89    |\n",
       "| 10/07/1987 | 1490.42    |\n",
       "| 13/07/1987 | 1490.42    |\n",
       "| 14/07/1987 | 1490.42    |\n",
       "| 15/07/1987 | 1490.42    |\n",
       "| 16/07/1987 | 1474.22    |\n",
       "\n"
      ],
      "text/plain": [
       "  Date       CAC40  \n",
       "1 09/07/1987 1482.89\n",
       "2 10/07/1987 1490.42\n",
       "3 13/07/1987 1490.42\n",
       "4 14/07/1987 1490.42\n",
       "5 15/07/1987 1490.42\n",
       "6 16/07/1987 1474.22"
      ]
     },
     "metadata": {},
     "output_type": "display_data"
    }
   ],
   "source": [
    "CAC40_df_1<-read.csv2(\"./data/cac40_datastream.csv\",dec=\".\",col.names = c('Date','CAC40'))\n",
    "head(CAC40_df_1)"
   ]
  },
  {
   "cell_type": "markdown",
   "id": "708b7cd3",
   "metadata": {},
   "source": [
    "On convertit la colonne Date au format date Year/Month/Day"
   ]
  },
  {
   "cell_type": "code",
   "execution_count": 8,
   "id": "a6c75424",
   "metadata": {},
   "outputs": [
    {
     "data": {
      "text/html": [
       "<ol class=list-inline>\n",
       "\t<li><time datetime=\"2023-06-19\">2023-06-19</time></li>\n",
       "\t<li><time datetime=\"2023-06-20\">2023-06-20</time></li>\n",
       "\t<li><time datetime=\"2023-06-21\">2023-06-21</time></li>\n",
       "\t<li><time datetime=\"2023-06-22\">2023-06-22</time></li>\n",
       "\t<li><time datetime=\"2023-06-23\">2023-06-23</time></li>\n",
       "\t<li><time datetime=\"2023-06-26\">2023-06-26</time></li>\n",
       "</ol>\n"
      ],
      "text/latex": [
       "\\begin{enumerate*}\n",
       "\\item 2023-06-19\n",
       "\\item 2023-06-20\n",
       "\\item 2023-06-21\n",
       "\\item 2023-06-22\n",
       "\\item 2023-06-23\n",
       "\\item 2023-06-26\n",
       "\\end{enumerate*}\n"
      ],
      "text/markdown": [
       "1. 2023-06-19\n",
       "2. 2023-06-20\n",
       "3. 2023-06-21\n",
       "4. 2023-06-22\n",
       "5. 2023-06-23\n",
       "6. 2023-06-26\n",
       "\n",
       "\n"
      ],
      "text/plain": [
       "[1] \"2023-06-19\" \"2023-06-20\" \"2023-06-21\" \"2023-06-22\" \"2023-06-23\"\n",
       "[6] \"2023-06-26\""
      ]
     },
     "metadata": {},
     "output_type": "display_data"
    }
   ],
   "source": [
    "CAC40_df_1$Date<-as.Date(CAC40_df_1$Date,format = \"%d/%m/%Y\")\n",
    "tail(CAC40_df_1$Date)\n",
    "\n",
    "\n",
    "#library(lubridate)\n",
    "#CAC40_df_1$Date<-dmy(CAC40_df_1$Date)"
   ]
  },
  {
   "cell_type": "code",
   "execution_count": null,
   "id": "7d1f3e64",
   "metadata": {},
   "outputs": [],
   "source": [
    "On vérifie qu'il n'y a pas de données manquantes"
   ]
  },
  {
   "cell_type": "code",
   "execution_count": 9,
   "id": "5e3e2c7b",
   "metadata": {},
   "outputs": [
    {
     "data": {
      "text/html": [
       "<dl class=dl-horizontal>\n",
       "\t<dt>Date</dt>\n",
       "\t\t<dd>0</dd>\n",
       "\t<dt>CAC40</dt>\n",
       "\t\t<dd>0</dd>\n",
       "</dl>\n"
      ],
      "text/latex": [
       "\\begin{description*}\n",
       "\\item[Date] 0\n",
       "\\item[CAC40] 0\n",
       "\\end{description*}\n"
      ],
      "text/markdown": [
       "Date\n",
       ":   0CAC40\n",
       ":   0\n",
       "\n"
      ],
      "text/plain": [
       " Date CAC40 \n",
       "    0     0 "
      ]
     },
     "metadata": {},
     "output_type": "display_data"
    }
   ],
   "source": [
    "sapply(CAC40_df_1,function(x) sum(is.na(x)))"
   ]
  },
  {
   "cell_type": "markdown",
   "id": "5b70112b",
   "metadata": {},
   "source": [
    "Les données commencent en \"1987-07-09\". On décide d'étudier la série à partir de \"1990-01-01\" en partie pour avoir le même échantillon que les autres sources de données."
   ]
  },
  {
   "cell_type": "code",
   "execution_count": 10,
   "id": "242bdebe",
   "metadata": {},
   "outputs": [],
   "source": [
    "CAC40_df_1<-CAC40_df_1[CAC40_df_1$Date>=\"1990-01-01\",]"
   ]
  },
  {
   "cell_type": "markdown",
   "id": "693a02a9",
   "metadata": {},
   "source": [
    "#### Source : fichier csv provenant de Yahoo Finance\n",
    "Les données de Yahoo contiennent des données manquantes représentées par le terme ''null''. Avec R, \"null\" n'est pas le symbole habituel des données manquantes qui est \"na\". Dans l'importation des données à partir de la fonction read.csv, on ajoute l'option na.strings=c(\"null\") pour lui indiquer que le symbole des données manquantes dans le fichier ^FCHI.csv."
   ]
  },
  {
   "cell_type": "code",
   "execution_count": 12,
   "id": "f82df2dc",
   "metadata": {},
   "outputs": [
    {
     "data": {
      "text/html": [
       "'data.frame'"
      ],
      "text/latex": [
       "'data.frame'"
      ],
      "text/markdown": [
       "'data.frame'"
      ],
      "text/plain": [
       "[1] \"data.frame\""
      ]
     },
     "metadata": {},
     "output_type": "display_data"
    },
    {
     "name": "stdout",
     "output_type": "stream",
     "text": [
      "'data.frame':\t8605 obs. of  7 variables:\n",
      " $ Date     : Factor w/ 8605 levels \"1990-03-01\",\"1990-03-02\",..: 1 2 3 4 5 6 7 8 9 10 ...\n",
      " $ Open     : num  1836 1831 1866 1869 1874 ...\n",
      " $ High     : num  1838 1860 1874 1875 1881 ...\n",
      " $ Low      : num  1827 1831 1862 1866 1874 ...\n",
      " $ Close    : num  1832 1860 1874 1872 1880 ...\n",
      " $ Adj.Close: num  1832 1860 1874 1872 1880 ...\n",
      " $ Volume   : int  0 0 0 0 0 0 0 0 0 0 ...\n"
     ]
    }
   ],
   "source": [
    "library(readr)\n",
    "CAC40_df_2<-read.csv(\"C:\\\\users\\\\ylepen\\\\Documents\\\\COURS dauphine\\\\econometrie II\\\\data exercice\\\\^FCHI.csv\",na.strings=c(\"null\"))\n",
    "class(CAC40_df_2)\n",
    "str(CAC40_df_2)"
   ]
  },
  {
   "cell_type": "markdown",
   "id": "3de3feee",
   "metadata": {},
   "source": [
    "Décompte des données manquantes : "
   ]
  },
  {
   "cell_type": "code",
   "execution_count": 13,
   "id": "e8125cfd",
   "metadata": {},
   "outputs": [
    {
     "data": {
      "text/html": [
       "<dl class=dl-horizontal>\n",
       "\t<dt>Date</dt>\n",
       "\t\t<dd>0</dd>\n",
       "\t<dt>Open</dt>\n",
       "\t\t<dd>147</dd>\n",
       "\t<dt>High</dt>\n",
       "\t\t<dd>147</dd>\n",
       "\t<dt>Low</dt>\n",
       "\t\t<dd>147</dd>\n",
       "\t<dt>Close</dt>\n",
       "\t\t<dd>147</dd>\n",
       "\t<dt>Adj.Close</dt>\n",
       "\t\t<dd>147</dd>\n",
       "\t<dt>Volume</dt>\n",
       "\t\t<dd>147</dd>\n",
       "</dl>\n"
      ],
      "text/latex": [
       "\\begin{description*}\n",
       "\\item[Date] 0\n",
       "\\item[Open] 147\n",
       "\\item[High] 147\n",
       "\\item[Low] 147\n",
       "\\item[Close] 147\n",
       "\\item[Adj.Close] 147\n",
       "\\item[Volume] 147\n",
       "\\end{description*}\n"
      ],
      "text/markdown": [
       "Date\n",
       ":   0Open\n",
       ":   147High\n",
       ":   147Low\n",
       ":   147Close\n",
       ":   147Adj.Close\n",
       ":   147Volume\n",
       ":   147\n",
       "\n"
      ],
      "text/plain": [
       "     Date      Open      High       Low     Close Adj.Close    Volume \n",
       "        0       147       147       147       147       147       147 "
      ]
     },
     "metadata": {},
     "output_type": "display_data"
    }
   ],
   "source": [
    "sapply(CAC40_df_2,function(x) sum(is.na(x)))"
   ]
  },
  {
   "cell_type": "markdown",
   "id": "623a6e66",
   "metadata": {},
   "source": [
    "Il existe plusieurs manières de gérer les données manquantes. On décide ici de supprimer les dates ayant des données manquantes car elles peuvent empécher l'éxécution de certaines fonctions de R. "
   ]
  },
  {
   "cell_type": "code",
   "execution_count": null,
   "id": "21f3fa1f",
   "metadata": {},
   "outputs": [],
   "source": [
    "CAC40_df_2<-na.omit(CAC40_df_2)\n",
    "sapply(CAC40_df_2,function(x) sum(is.na(x)))"
   ]
  },
  {
   "cell_type": "markdown",
   "id": "fd28baf7",
   "metadata": {},
   "source": [
    "Rappel : Les fonctions \n",
    "class() : affiche la classe d'un objet\n",
    "str() : affiche la structure d'un objet\n",
    "head() : affiche les premières lignes d'un objet\n",
    "tail() : affiche les dernières lignes d'un objet\n"
   ]
  },
  {
   "cell_type": "code",
   "execution_count": null,
   "id": "9e5e4252",
   "metadata": {},
   "outputs": [],
   "source": [
    "class(CAC40_df_2)"
   ]
  },
  {
   "cell_type": "code",
   "execution_count": null,
   "id": "07cd35d7",
   "metadata": {},
   "outputs": [],
   "source": [
    "str(CAC40_df_2)"
   ]
  },
  {
   "cell_type": "code",
   "execution_count": null,
   "id": "74a0b5e4",
   "metadata": {},
   "outputs": [],
   "source": [
    "head(CAC40_df_2)\n",
    "tail(CAC40_df_2)"
   ]
  },
  {
   "cell_type": "markdown",
   "id": "244548d7",
   "metadata": {},
   "source": [
    "### Option 2 : Importation des données à partir d'un site internet\n",
    "\n",
    "#### librairie quantmod"
   ]
  },
  {
   "cell_type": "code",
   "execution_count": 3,
   "id": "37d8c3cd",
   "metadata": {},
   "outputs": [
    {
     "name": "stderr",
     "output_type": "stream",
     "text": [
      "also installing the dependencies 'crosstalk', 'jquerylib', 'cli', 'glue', 'lifecycle', 'pillar', 'rlang', 'tibble', 'tidyselect', 'vctrs', 'DT', 'dplyr', 'data.tree'\n",
      "\n"
     ]
    },
    {
     "name": "stdout",
     "output_type": "stream",
     "text": [
      "\n",
      "  There are binary versions available but the source versions are later:\n",
      "           binary source needs_compilation\n",
      "crosstalk   1.1.1  1.2.0             FALSE\n",
      "cli         2.5.0  3.6.1              TRUE\n",
      "glue        1.4.2  1.6.2              TRUE\n",
      "lifecycle   1.0.0  1.0.3             FALSE\n",
      "pillar      1.6.0  1.9.0             FALSE\n",
      "rlang      0.4.11  1.1.1              TRUE\n",
      "tibble      3.1.1  3.2.1              TRUE\n",
      "tidyselect  1.1.1  1.2.0             FALSE\n",
      "vctrs       0.3.8  0.6.3              TRUE\n",
      "DT           0.18   0.28             FALSE\n",
      "dplyr       1.0.6  1.1.2              TRUE\n",
      "\n",
      "  Binaries will be installed\n",
      "package 'jquerylib' successfully unpacked and MD5 sums checked\n",
      "package 'cli' successfully unpacked and MD5 sums checked\n",
      "package 'glue' successfully unpacked and MD5 sums checked\n",
      "package 'rlang' successfully unpacked and MD5 sums checked\n",
      "package 'tibble' successfully unpacked and MD5 sums checked\n",
      "package 'vctrs' successfully unpacked and MD5 sums checked\n",
      "package 'dplyr' successfully unpacked and MD5 sums checked\n",
      "package 'data.tree' successfully unpacked and MD5 sums checked\n",
      "\n",
      "The downloaded binary packages are in\n",
      "\tC:\\Users\\ylepen\\AppData\\Local\\Temp\\RtmpemhvNF\\downloaded_packages\n"
     ]
    },
    {
     "name": "stderr",
     "output_type": "stream",
     "text": [
      "installing the source packages 'crosstalk', 'lifecycle', 'pillar', 'tidyselect', 'DT', 'TT'\n",
      "\n",
      "Warning message in install.packages(\"TT\"):\n",
      "\"installation of package 'lifecycle' had non-zero exit status\"Warning message in install.packages(\"TT\"):\n",
      "\"installation of package 'pillar' had non-zero exit status\"Warning message in install.packages(\"TT\"):\n",
      "\"installation of package 'tidyselect' had non-zero exit status\""
     ]
    }
   ],
   "source": [
    "install.packages('TT')"
   ]
  },
  {
   "cell_type": "code",
   "execution_count": 4,
   "id": "b58f36b9",
   "metadata": {},
   "outputs": [
    {
     "ename": "ERROR",
     "evalue": "Error in install.package(TT): impossible de trouver la fonction \"install.package\"\n",
     "output_type": "error",
     "traceback": [
      "Error in install.package(TT): impossible de trouver la fonction \"install.package\"\nTraceback:\n"
     ]
    }
   ],
   "source": [
    "install.package(TT)\n",
    "library(TT)\n",
    "library(quantmod)\n",
    "\n",
    "\n",
    "CAC40 <-getSymbols('^FCHI',auto.assign = FALSE,from ='1990-01-01')\n",
    "class(CAC40) # an xts object\n",
    "\n",
    "CAC40_df<-data.frame(date=index(CAC40),coredata(CAC40))# conversion xts en dataframe avec les dates comme indices\n",
    "colnames(CAC40_df)<-c(\"Date\",\"Open\",\"High\",\"Low\",\"Close\",\"Vol\",\"Adj.Close\")\n",
    "sapply(CAC40_df,function(x) sum(is.na(x)))\n",
    "CAC40_df<-na.omit(CAC40_df)\n",
    "sapply(CAC40_df,function(x) sum(is.na(x)))\n",
    "class(CAC40_df)"
   ]
  },
  {
   "cell_type": "markdown",
   "id": "8e6dccdf",
   "metadata": {},
   "source": [
    "### Utilisation de la librairie yahoofinancer \n",
    "Il existe aussi la librairie yahoofinancer mais elle ne semble pas capable d'importer des données dès qu'elles contiennent des observations manquantes. On importe ici des données mensuelles et non quotidiennes.\n"
   ]
  },
  {
   "cell_type": "code",
   "execution_count": 6,
   "id": "57c1aa68",
   "metadata": {},
   "outputs": [
    {
     "name": "stderr",
     "output_type": "stream",
     "text": [
      "installing the source package 'yahoofinancer'\n",
      "\n"
     ]
    }
   ],
   "source": [
    "install.packages('yahoofinancer')"
   ]
  },
  {
   "cell_type": "code",
   "execution_count": 7,
   "id": "d9035891",
   "metadata": {},
   "outputs": [],
   "source": [
    "library(yahoofinancer)\n",
    "cac40<-Index$new('^FCHI')\n",
    "cac40_data<-cac40$get_history(start = '1990-01-01',interval = '1mo')"
   ]
  },
  {
   "cell_type": "markdown",
   "id": "d8f75ee8",
   "metadata": {},
   "source": [
    "## Représentation graphique de l'indice CAC40\n",
    "On utilise les données importées via quantmod. \n"
   ]
  },
  {
   "cell_type": "code",
   "execution_count": 17,
   "id": "48bc14c8",
   "metadata": {},
   "outputs": [
    {
     "name": "stdout",
     "output_type": "stream",
     "text": [
      "\n",
      "  There are binary versions available but the source versions are later:\n",
      "          binary source needs_compilation\n",
      "cli        2.5.0  3.6.1              TRUE\n",
      "lifecycle  1.0.0  1.0.3             FALSE\n",
      "rlang     0.4.11  1.1.1              TRUE\n",
      "scales     1.1.1  1.2.1             FALSE\n",
      "vctrs      0.3.8  0.6.3              TRUE\n",
      "\n",
      "  Binaries will be installed\n",
      "package 'cli' successfully unpacked and MD5 sums checked\n",
      "package 'rlang' successfully unpacked and MD5 sums checked\n"
     ]
    },
    {
     "name": "stderr",
     "output_type": "stream",
     "text": [
      "Warning message:\n",
      "\"cannot remove prior installation of package 'rlang'\"Warning message in file.copy(savedcopy, lib, recursive = TRUE):\n",
      "\"problème lors de la copie de C:\\Users\\ylepen\\Anaconda3\\envs\\r-tutorial\\Lib\\R\\library\\00LOCK\\rlang\\libs\\x64\\rlang.dll vers C:\\Users\\ylepen\\Anaconda3\\envs\\r-tutorial\\Lib\\R\\library\\rlang\\libs\\x64\\rlang.dll: Permission denied\"Warning message:\n",
      "\"restored 'rlang'\""
     ]
    },
    {
     "name": "stdout",
     "output_type": "stream",
     "text": [
      "package 'vctrs' successfully unpacked and MD5 sums checked\n",
      "\n",
      "The downloaded binary packages are in\n",
      "\tC:\\Users\\ylepen\\AppData\\Local\\Temp\\RtmpemhvNF\\downloaded_packages\n"
     ]
    },
    {
     "name": "stderr",
     "output_type": "stream",
     "text": [
      "installing the source packages 'lifecycle', 'scales'\n",
      "\n",
      "Warning message in install.packages(c(\"cli\", \"lifecycle\", \"rlang\", \"scales\", \"vctrs\")):\n",
      "\"installation of package 'lifecycle' had non-zero exit status\"Warning message in install.packages(c(\"cli\", \"lifecycle\", \"rlang\", \"scales\", \"vctrs\")):\n",
      "\"installation of package 'scales' had non-zero exit status\"also installing the dependencies 'cli', 'lifecycle', 'rlang', 'scales', 'vctrs'\n",
      "\n"
     ]
    },
    {
     "name": "stdout",
     "output_type": "stream",
     "text": [
      "\n",
      "  There are binary versions available but the source versions are later:\n",
      "          binary source needs_compilation\n",
      "cli        2.5.0  3.6.1              TRUE\n",
      "lifecycle  1.0.0  1.0.3             FALSE\n",
      "rlang     0.4.11  1.1.1              TRUE\n",
      "scales     1.1.1  1.2.1             FALSE\n",
      "vctrs      0.3.8  0.6.3              TRUE\n",
      "ggplot2    3.3.3  3.4.2             FALSE\n",
      "\n",
      "  Binaries will be installed\n",
      "package 'cli' successfully unpacked and MD5 sums checked\n",
      "package 'rlang' successfully unpacked and MD5 sums checked\n"
     ]
    },
    {
     "name": "stderr",
     "output_type": "stream",
     "text": [
      "Warning message:\n",
      "\"cannot remove prior installation of package 'rlang'\"Warning message in file.copy(savedcopy, lib, recursive = TRUE):\n",
      "\"problème lors de la copie de C:\\Users\\ylepen\\Anaconda3\\envs\\r-tutorial\\Lib\\R\\library\\00LOCK\\rlang\\libs\\x64\\rlang.dll vers C:\\Users\\ylepen\\Anaconda3\\envs\\r-tutorial\\Lib\\R\\library\\rlang\\libs\\x64\\rlang.dll: Permission denied\"Warning message:\n",
      "\"restored 'rlang'\""
     ]
    },
    {
     "name": "stdout",
     "output_type": "stream",
     "text": [
      "package 'vctrs' successfully unpacked and MD5 sums checked\n",
      "\n",
      "The downloaded binary packages are in\n",
      "\tC:\\Users\\ylepen\\AppData\\Local\\Temp\\RtmpemhvNF\\downloaded_packages\n"
     ]
    },
    {
     "name": "stderr",
     "output_type": "stream",
     "text": [
      "installing the source packages 'lifecycle', 'scales', 'ggplot2'\n",
      "\n",
      "Warning message in install.packages(\"ggplot2\"):\n",
      "\"installation of package 'lifecycle' had non-zero exit status\"Warning message in install.packages(\"ggplot2\"):\n",
      "\"installation of package 'scales' had non-zero exit status\"Warning message in install.packages(\"ggplot2\"):\n",
      "\"installation of package 'ggplot2' had non-zero exit status\""
     ]
    }
   ],
   "source": [
    "install.packages(c('cli','lifecycle','rlang','scales','vctrs'))\n",
    "install.packages('ggplot2')\n"
   ]
  },
  {
   "cell_type": "code",
   "execution_count": 18,
   "id": "9043ee54",
   "metadata": {},
   "outputs": [
    {
     "ename": "ERROR",
     "evalue": "Error in library(ggplot2): there is no package called 'ggplot2'\n",
     "output_type": "error",
     "traceback": [
      "Error in library(ggplot2): there is no package called 'ggplot2'\nTraceback:\n",
      "1. library(ggplot2)"
     ]
    }
   ],
   "source": [
    "library(ggplot2)\n",
    "p1<-ggplot(data=CAC40_df,aes(x=Date,y=Adj.Close))+geom_line(colour='blue')+ggtitle('Indice CAC 40 en log')+xlab('date')+ylab('indice en log')+theme_bw()+theme(plot.title = element_text(hjust = 0.5))\n",
    "p1"
   ]
  },
  {
   "cell_type": "code",
   "execution_count": null,
   "id": "a6e85473",
   "metadata": {},
   "outputs": [],
   "source": []
  }
 ],
 "metadata": {
  "kernelspec": {
   "display_name": "R",
   "language": "R",
   "name": "ir"
  },
  "language_info": {
   "codemirror_mode": "r",
   "file_extension": ".r",
   "mimetype": "text/x-r-source",
   "name": "R",
   "pygments_lexer": "r",
   "version": "3.6.1"
  }
 },
 "nbformat": 4,
 "nbformat_minor": 5
}

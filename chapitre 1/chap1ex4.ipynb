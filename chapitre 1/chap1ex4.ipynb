{
 "cells": [
  {
   "cell_type": "markdown",
   "id": "75039164",
   "metadata": {},
   "source": [
    "# Chapitre I, exercice 4 : Etude préliminaire du CAC 40\n",
    "\n",
    "## Importation des données\n",
    "\n",
    "### Option 1 : à partir d'un fichier de données\n",
    "\n",
    "#### Source : Datastream\n",
    "\n",
    "Datastream est une base de données payante accessible à la BU Dauphine. Elle présente l'avantage de fournir des données complètes. Le séparateur de décimale est le point \".\""
   ]
  },
  {
   "cell_type": "code",
   "execution_count": 1,
   "id": "0445784d",
   "metadata": {},
   "outputs": [
    {
     "data": {
      "text/html": [
       "<table>\n",
       "<thead><tr><th scope=col>Date</th><th scope=col>CAC40</th></tr></thead>\n",
       "<tbody>\n",
       "\t<tr><td>09/07/1987</td><td>1482.89   </td></tr>\n",
       "\t<tr><td>10/07/1987</td><td>1490.42   </td></tr>\n",
       "\t<tr><td>13/07/1987</td><td>1490.42   </td></tr>\n",
       "\t<tr><td>14/07/1987</td><td>1490.42   </td></tr>\n",
       "\t<tr><td>15/07/1987</td><td>1490.42   </td></tr>\n",
       "\t<tr><td>16/07/1987</td><td>1474.22   </td></tr>\n",
       "</tbody>\n",
       "</table>\n"
      ],
      "text/latex": [
       "\\begin{tabular}{r|ll}\n",
       " Date & CAC40\\\\\n",
       "\\hline\n",
       "\t 09/07/1987 & 1482.89   \\\\\n",
       "\t 10/07/1987 & 1490.42   \\\\\n",
       "\t 13/07/1987 & 1490.42   \\\\\n",
       "\t 14/07/1987 & 1490.42   \\\\\n",
       "\t 15/07/1987 & 1490.42   \\\\\n",
       "\t 16/07/1987 & 1474.22   \\\\\n",
       "\\end{tabular}\n"
      ],
      "text/markdown": [
       "\n",
       "| Date | CAC40 |\n",
       "|---|---|\n",
       "| 09/07/1987 | 1482.89    |\n",
       "| 10/07/1987 | 1490.42    |\n",
       "| 13/07/1987 | 1490.42    |\n",
       "| 14/07/1987 | 1490.42    |\n",
       "| 15/07/1987 | 1490.42    |\n",
       "| 16/07/1987 | 1474.22    |\n",
       "\n"
      ],
      "text/plain": [
       "  Date       CAC40  \n",
       "1 09/07/1987 1482.89\n",
       "2 10/07/1987 1490.42\n",
       "3 13/07/1987 1490.42\n",
       "4 14/07/1987 1490.42\n",
       "5 15/07/1987 1490.42\n",
       "6 16/07/1987 1474.22"
      ]
     },
     "metadata": {},
     "output_type": "display_data"
    }
   ],
   "source": [
    "CAC40_df_1<-read.csv2(\"./data/cac40_datastream.csv\",dec=\".\",col.names = c('Date','CAC40'))\n",
    "head(CAC40_df_1)"
   ]
  },
  {
   "cell_type": "markdown",
   "id": "708b7cd3",
   "metadata": {},
   "source": [
    "On convertit la colonne Date au format date Year/Month/Day"
   ]
  },
  {
   "cell_type": "code",
   "execution_count": 2,
   "id": "a6c75424",
   "metadata": {},
   "outputs": [
    {
     "data": {
      "text/html": [
       "<ol class=list-inline>\n",
       "\t<li><time datetime=\"2023-06-19\">2023-06-19</time></li>\n",
       "\t<li><time datetime=\"2023-06-20\">2023-06-20</time></li>\n",
       "\t<li><time datetime=\"2023-06-21\">2023-06-21</time></li>\n",
       "\t<li><time datetime=\"2023-06-22\">2023-06-22</time></li>\n",
       "\t<li><time datetime=\"2023-06-23\">2023-06-23</time></li>\n",
       "\t<li><time datetime=\"2023-06-26\">2023-06-26</time></li>\n",
       "</ol>\n"
      ],
      "text/latex": [
       "\\begin{enumerate*}\n",
       "\\item 2023-06-19\n",
       "\\item 2023-06-20\n",
       "\\item 2023-06-21\n",
       "\\item 2023-06-22\n",
       "\\item 2023-06-23\n",
       "\\item 2023-06-26\n",
       "\\end{enumerate*}\n"
      ],
      "text/markdown": [
       "1. 2023-06-19\n",
       "2. 2023-06-20\n",
       "3. 2023-06-21\n",
       "4. 2023-06-22\n",
       "5. 2023-06-23\n",
       "6. 2023-06-26\n",
       "\n",
       "\n"
      ],
      "text/plain": [
       "[1] \"2023-06-19\" \"2023-06-20\" \"2023-06-21\" \"2023-06-22\" \"2023-06-23\"\n",
       "[6] \"2023-06-26\""
      ]
     },
     "metadata": {},
     "output_type": "display_data"
    }
   ],
   "source": [
    "CAC40_df_1$Date<-as.Date(CAC40_df_1$Date,format = \"%d/%m/%Y\")\n",
    "tail(CAC40_df_1$Date)\n",
    "\n",
    "\n",
    "#library(lubridate)\n",
    "#CAC40_df_1$Date<-dmy(CAC40_df_1$Date)"
   ]
  },
  {
   "cell_type": "markdown",
   "id": "235b514d",
   "metadata": {},
   "source": [
    "On vérifie qu'il n'y a pas de données manquantes"
   ]
  },
  {
   "cell_type": "code",
   "execution_count": 3,
   "id": "5e3e2c7b",
   "metadata": {},
   "outputs": [
    {
     "data": {
      "text/html": [
       "<dl class=dl-horizontal>\n",
       "\t<dt>Date</dt>\n",
       "\t\t<dd>0</dd>\n",
       "\t<dt>CAC40</dt>\n",
       "\t\t<dd>0</dd>\n",
       "</dl>\n"
      ],
      "text/latex": [
       "\\begin{description*}\n",
       "\\item[Date] 0\n",
       "\\item[CAC40] 0\n",
       "\\end{description*}\n"
      ],
      "text/markdown": [
       "Date\n",
       ":   0CAC40\n",
       ":   0\n",
       "\n"
      ],
      "text/plain": [
       " Date CAC40 \n",
       "    0     0 "
      ]
     },
     "metadata": {},
     "output_type": "display_data"
    }
   ],
   "source": [
    "sapply(CAC40_df_1,function(x) sum(is.na(x)))"
   ]
  },
  {
   "cell_type": "markdown",
   "id": "5b70112b",
   "metadata": {},
   "source": [
    "Les données commencent en \"1987-07-09\". On décide d'étudier la série à partir de \"1990-01-01\" en partie pour avoir le même échantillon que les autres sources de données."
   ]
  },
  {
   "cell_type": "code",
   "execution_count": 4,
   "id": "242bdebe",
   "metadata": {},
   "outputs": [],
   "source": [
    "CAC40_df_1<-CAC40_df_1[CAC40_df_1$Date>=\"1990-01-01\",]"
   ]
  },
  {
   "cell_type": "markdown",
   "id": "693a02a9",
   "metadata": {},
   "source": [
    "#### Source : fichier csv provenant de Yahoo Finance\n",
    "Les données de Yahoo contiennent des données manquantes représentées par le terme ''null''. Avec R, \"null\" n'est pas le symbole habituel des données manquantes qui est \"na\". Dans l'importation des données à partir de la fonction read.csv, on ajoute l'option na.strings=c(\"null\") pour lui indiquer que le symbole des données manquantes dans le fichier ^FCHI.csv."
   ]
  },
  {
   "cell_type": "code",
   "execution_count": 3,
   "id": "f82df2dc",
   "metadata": {},
   "outputs": [
    {
     "name": "stderr",
     "output_type": "stream",
     "text": [
      "also installing the dependencies 'vctrs', 'rlang', 'tidyselect', 'cli', 'lifecycle', 'vroom'\n",
      "\n"
     ]
    },
    {
     "name": "stdout",
     "output_type": "stream",
     "text": [
      "\n",
      "  There are binary versions available but the source versions are later:\n",
      "           binary source needs_compilation\n",
      "vctrs       0.3.8  0.6.3              TRUE\n",
      "rlang      0.4.11  1.1.1              TRUE\n",
      "tidyselect  1.1.1  1.2.0             FALSE\n",
      "cli         2.5.0  3.6.1              TRUE\n",
      "lifecycle   1.0.0  1.0.3             FALSE\n",
      "vroom       1.4.0  1.6.3              TRUE\n",
      "readr       1.4.0  2.1.4              TRUE\n",
      "\n",
      "  Binaries will be installed\n",
      "package 'vctrs' successfully unpacked and MD5 sums checked\n",
      "package 'rlang' successfully unpacked and MD5 sums checked\n"
     ]
    },
    {
     "name": "stderr",
     "output_type": "stream",
     "text": [
      "Warning message:\n",
      "\"cannot remove prior installation of package 'rlang'\"Warning message in file.copy(savedcopy, lib, recursive = TRUE):\n",
      "\"problème lors de la copie de C:\\Users\\ylepen\\Anaconda3\\envs\\r-tutorial\\Lib\\R\\library\\00LOCK\\rlang\\libs\\x64\\rlang.dll vers C:\\Users\\ylepen\\Anaconda3\\envs\\r-tutorial\\Lib\\R\\library\\rlang\\libs\\x64\\rlang.dll: Permission denied\"Warning message:\n",
      "\"restored 'rlang'\""
     ]
    },
    {
     "name": "stdout",
     "output_type": "stream",
     "text": [
      "package 'cli' successfully unpacked and MD5 sums checked\n",
      "package 'vroom' successfully unpacked and MD5 sums checked\n",
      "package 'readr' successfully unpacked and MD5 sums checked\n",
      "\n",
      "The downloaded binary packages are in\n",
      "\tC:\\Users\\ylepen\\AppData\\Local\\Temp\\RtmpgD2EkZ\\downloaded_packages\n"
     ]
    },
    {
     "name": "stderr",
     "output_type": "stream",
     "text": [
      "installing the source packages 'tidyselect', 'lifecycle'\n",
      "\n",
      "Warning message in install.packages(\"readr\"):\n",
      "\"installation of package 'lifecycle' had non-zero exit status\"Warning message in install.packages(\"readr\"):\n",
      "\"installation of package 'tidyselect' had non-zero exit status\""
     ]
    },
    {
     "data": {
      "text/html": [
       "'data.frame'"
      ],
      "text/latex": [
       "'data.frame'"
      ],
      "text/markdown": [
       "'data.frame'"
      ],
      "text/plain": [
       "[1] \"data.frame\""
      ]
     },
     "metadata": {},
     "output_type": "display_data"
    },
    {
     "name": "stdout",
     "output_type": "stream",
     "text": [
      "'data.frame':\t8605 obs. of  7 variables:\n",
      " $ Date     : Factor w/ 8605 levels \"1990-03-01\",\"1990-03-02\",..: 1 2 3 4 5 6 7 8 9 10 ...\n",
      " $ Open     : num  1836 1831 1866 1869 1874 ...\n",
      " $ High     : num  1838 1860 1874 1875 1881 ...\n",
      " $ Low      : num  1827 1831 1862 1866 1874 ...\n",
      " $ Close    : num  1832 1860 1874 1872 1880 ...\n",
      " $ Adj.Close: num  1832 1860 1874 1872 1880 ...\n",
      " $ Volume   : int  0 0 0 0 0 0 0 0 0 0 ...\n"
     ]
    }
   ],
   "source": [
    "install.packages(\"readr\")\n",
    "CAC40_df_2<-read.csv(\"./data/^FCHI.csv\",na.strings=c(\"null\"))\n",
    "class(CAC40_df_2)\n",
    "str(CAC40_df_2)"
   ]
  },
  {
   "cell_type": "markdown",
   "id": "3de3feee",
   "metadata": {},
   "source": [
    "Décompte des données manquantes : "
   ]
  },
  {
   "cell_type": "code",
   "execution_count": 4,
   "id": "e8125cfd",
   "metadata": {},
   "outputs": [
    {
     "data": {
      "text/html": [
       "<dl class=dl-horizontal>\n",
       "\t<dt>Date</dt>\n",
       "\t\t<dd>0</dd>\n",
       "\t<dt>Open</dt>\n",
       "\t\t<dd>147</dd>\n",
       "\t<dt>High</dt>\n",
       "\t\t<dd>147</dd>\n",
       "\t<dt>Low</dt>\n",
       "\t\t<dd>147</dd>\n",
       "\t<dt>Close</dt>\n",
       "\t\t<dd>147</dd>\n",
       "\t<dt>Adj.Close</dt>\n",
       "\t\t<dd>147</dd>\n",
       "\t<dt>Volume</dt>\n",
       "\t\t<dd>147</dd>\n",
       "</dl>\n"
      ],
      "text/latex": [
       "\\begin{description*}\n",
       "\\item[Date] 0\n",
       "\\item[Open] 147\n",
       "\\item[High] 147\n",
       "\\item[Low] 147\n",
       "\\item[Close] 147\n",
       "\\item[Adj.Close] 147\n",
       "\\item[Volume] 147\n",
       "\\end{description*}\n"
      ],
      "text/markdown": [
       "Date\n",
       ":   0Open\n",
       ":   147High\n",
       ":   147Low\n",
       ":   147Close\n",
       ":   147Adj.Close\n",
       ":   147Volume\n",
       ":   147\n",
       "\n"
      ],
      "text/plain": [
       "     Date      Open      High       Low     Close Adj.Close    Volume \n",
       "        0       147       147       147       147       147       147 "
      ]
     },
     "metadata": {},
     "output_type": "display_data"
    }
   ],
   "source": [
    "sapply(CAC40_df_2,function(x) sum(is.na(x)))"
   ]
  },
  {
   "cell_type": "markdown",
   "id": "623a6e66",
   "metadata": {},
   "source": [
    "Il existe plusieurs manières de gérer les données manquantes. On décide ici de supprimer les dates ayant des données manquantes car elles peuvent empécher l'éxécution de certaines fonctions de R. "
   ]
  },
  {
   "cell_type": "code",
   "execution_count": 8,
   "id": "21f3fa1f",
   "metadata": {},
   "outputs": [
    {
     "data": {
      "text/html": [
       "<dl class=dl-horizontal>\n",
       "\t<dt>Date</dt>\n",
       "\t\t<dd>0</dd>\n",
       "\t<dt>Open</dt>\n",
       "\t\t<dd>0</dd>\n",
       "\t<dt>High</dt>\n",
       "\t\t<dd>0</dd>\n",
       "\t<dt>Low</dt>\n",
       "\t\t<dd>0</dd>\n",
       "\t<dt>Close</dt>\n",
       "\t\t<dd>0</dd>\n",
       "\t<dt>Adj.Close</dt>\n",
       "\t\t<dd>0</dd>\n",
       "\t<dt>Volume</dt>\n",
       "\t\t<dd>0</dd>\n",
       "</dl>\n"
      ],
      "text/latex": [
       "\\begin{description*}\n",
       "\\item[Date] 0\n",
       "\\item[Open] 0\n",
       "\\item[High] 0\n",
       "\\item[Low] 0\n",
       "\\item[Close] 0\n",
       "\\item[Adj.Close] 0\n",
       "\\item[Volume] 0\n",
       "\\end{description*}\n"
      ],
      "text/markdown": [
       "Date\n",
       ":   0Open\n",
       ":   0High\n",
       ":   0Low\n",
       ":   0Close\n",
       ":   0Adj.Close\n",
       ":   0Volume\n",
       ":   0\n",
       "\n"
      ],
      "text/plain": [
       "     Date      Open      High       Low     Close Adj.Close    Volume \n",
       "        0         0         0         0         0         0         0 "
      ]
     },
     "metadata": {},
     "output_type": "display_data"
    }
   ],
   "source": [
    "CAC40_df_2<-na.omit(CAC40_df_2)\n",
    "sapply(CAC40_df_2,function(x) sum(is.na(x)))"
   ]
  },
  {
   "cell_type": "markdown",
   "id": "fd28baf7",
   "metadata": {},
   "source": [
    "Rappel : Les fonctions \n",
    "class() : affiche la classe d'un objet\n",
    "str() : affiche la structure d'un objet\n",
    "head() : affiche les premières lignes d'un objet\n",
    "tail() : affiche les dernières lignes d'un objet\n"
   ]
  },
  {
   "cell_type": "code",
   "execution_count": 9,
   "id": "9e5e4252",
   "metadata": {},
   "outputs": [
    {
     "data": {
      "text/html": [
       "'data.frame'"
      ],
      "text/latex": [
       "'data.frame'"
      ],
      "text/markdown": [
       "'data.frame'"
      ],
      "text/plain": [
       "[1] \"data.frame\""
      ]
     },
     "metadata": {},
     "output_type": "display_data"
    }
   ],
   "source": [
    "class(CAC40_df_2)"
   ]
  },
  {
   "cell_type": "code",
   "execution_count": 10,
   "id": "07cd35d7",
   "metadata": {},
   "outputs": [
    {
     "name": "stdout",
     "output_type": "stream",
     "text": [
      "'data.frame':\t8458 obs. of  7 variables:\n",
      " $ Date     : Factor w/ 8605 levels \"1990-03-01\",\"1990-03-02\",..: 1 2 3 4 5 6 7 8 9 10 ...\n",
      " $ Open     : num  1836 1831 1866 1869 1874 ...\n",
      " $ High     : num  1838 1860 1874 1875 1881 ...\n",
      " $ Low      : num  1827 1831 1862 1866 1874 ...\n",
      " $ Close    : num  1832 1860 1874 1872 1880 ...\n",
      " $ Adj.Close: num  1832 1860 1874 1872 1880 ...\n",
      " $ Volume   : int  0 0 0 0 0 0 0 0 0 0 ...\n",
      " - attr(*, \"na.action\")= 'omit' Named int  32 33 44 49 61 68 120 176 213 214 ...\n",
      "  ..- attr(*, \"names\")= chr  \"32\" \"33\" \"44\" \"49\" ...\n"
     ]
    }
   ],
   "source": [
    "str(CAC40_df_2)"
   ]
  },
  {
   "cell_type": "code",
   "execution_count": 11,
   "id": "74a0b5e4",
   "metadata": {},
   "outputs": [
    {
     "data": {
      "text/html": [
       "<table>\n",
       "<thead><tr><th scope=col>Date</th><th scope=col>Open</th><th scope=col>High</th><th scope=col>Low</th><th scope=col>Close</th><th scope=col>Adj.Close</th><th scope=col>Volume</th></tr></thead>\n",
       "<tbody>\n",
       "\t<tr><td>1990-03-01</td><td>1836      </td><td>1838      </td><td>1827      </td><td>1832      </td><td>1832      </td><td>0         </td></tr>\n",
       "\t<tr><td>1990-03-02</td><td>1831      </td><td>1860      </td><td>1831      </td><td>1860      </td><td>1860      </td><td>0         </td></tr>\n",
       "\t<tr><td>1990-03-05</td><td>1866      </td><td>1874      </td><td>1862      </td><td>1874      </td><td>1874      </td><td>0         </td></tr>\n",
       "\t<tr><td>1990-03-06</td><td>1869      </td><td>1875      </td><td>1866      </td><td>1872      </td><td>1872      </td><td>0         </td></tr>\n",
       "\t<tr><td>1990-03-07</td><td>1874      </td><td>1881      </td><td>1874      </td><td>1880      </td><td>1880      </td><td>0         </td></tr>\n",
       "\t<tr><td>1990-03-08</td><td>1891      </td><td>1923      </td><td>1891      </td><td>1917      </td><td>1917      </td><td>0         </td></tr>\n",
       "</tbody>\n",
       "</table>\n"
      ],
      "text/latex": [
       "\\begin{tabular}{r|lllllll}\n",
       " Date & Open & High & Low & Close & Adj.Close & Volume\\\\\n",
       "\\hline\n",
       "\t 1990-03-01 & 1836       & 1838       & 1827       & 1832       & 1832       & 0         \\\\\n",
       "\t 1990-03-02 & 1831       & 1860       & 1831       & 1860       & 1860       & 0         \\\\\n",
       "\t 1990-03-05 & 1866       & 1874       & 1862       & 1874       & 1874       & 0         \\\\\n",
       "\t 1990-03-06 & 1869       & 1875       & 1866       & 1872       & 1872       & 0         \\\\\n",
       "\t 1990-03-07 & 1874       & 1881       & 1874       & 1880       & 1880       & 0         \\\\\n",
       "\t 1990-03-08 & 1891       & 1923       & 1891       & 1917       & 1917       & 0         \\\\\n",
       "\\end{tabular}\n"
      ],
      "text/markdown": [
       "\n",
       "| Date | Open | High | Low | Close | Adj.Close | Volume |\n",
       "|---|---|---|---|---|---|---|\n",
       "| 1990-03-01 | 1836       | 1838       | 1827       | 1832       | 1832       | 0          |\n",
       "| 1990-03-02 | 1831       | 1860       | 1831       | 1860       | 1860       | 0          |\n",
       "| 1990-03-05 | 1866       | 1874       | 1862       | 1874       | 1874       | 0          |\n",
       "| 1990-03-06 | 1869       | 1875       | 1866       | 1872       | 1872       | 0          |\n",
       "| 1990-03-07 | 1874       | 1881       | 1874       | 1880       | 1880       | 0          |\n",
       "| 1990-03-08 | 1891       | 1923       | 1891       | 1917       | 1917       | 0          |\n",
       "\n"
      ],
      "text/plain": [
       "  Date       Open High Low  Close Adj.Close Volume\n",
       "1 1990-03-01 1836 1838 1827 1832  1832      0     \n",
       "2 1990-03-02 1831 1860 1831 1860  1860      0     \n",
       "3 1990-03-05 1866 1874 1862 1874  1874      0     \n",
       "4 1990-03-06 1869 1875 1866 1872  1872      0     \n",
       "5 1990-03-07 1874 1881 1874 1880  1880      0     \n",
       "6 1990-03-08 1891 1923 1891 1917  1917      0     "
      ]
     },
     "metadata": {},
     "output_type": "display_data"
    },
    {
     "data": {
      "text/html": [
       "<table>\n",
       "<thead><tr><th></th><th scope=col>Date</th><th scope=col>Open</th><th scope=col>High</th><th scope=col>Low</th><th scope=col>Close</th><th scope=col>Adj.Close</th><th scope=col>Volume</th></tr></thead>\n",
       "<tbody>\n",
       "\t<tr><th scope=row>8600</th><td>2023-06-19</td><td>7353.31   </td><td>7362.44   </td><td>7302.63   </td><td>7314.05   </td><td>7314.05   </td><td>       0  </td></tr>\n",
       "\t<tr><th scope=row>8601</th><td>2023-06-20</td><td>7303.24   </td><td>7322.57   </td><td>7281.12   </td><td>7294.17   </td><td>7294.17   </td><td>55853400  </td></tr>\n",
       "\t<tr><th scope=row>8602</th><td>2023-06-21</td><td>7273.89   </td><td>7297.85   </td><td>7246.86   </td><td>7260.97   </td><td>7260.97   </td><td>48414000  </td></tr>\n",
       "\t<tr><th scope=row>8603</th><td>2023-06-22</td><td>7194.26   </td><td>7206.89   </td><td>7145.06   </td><td>7203.28   </td><td>7203.28   </td><td>53704500  </td></tr>\n",
       "\t<tr><th scope=row>8604</th><td>2023-06-23</td><td>7165.38   </td><td>7193.78   </td><td>7128.64   </td><td>7163.42   </td><td>7163.42   </td><td>51938700  </td></tr>\n",
       "\t<tr><th scope=row>8605</th><td>2023-06-26</td><td>7175.88   </td><td>7203.46   </td><td>7105.72   </td><td>7184.35   </td><td>7184.35   </td><td>52606600  </td></tr>\n",
       "</tbody>\n",
       "</table>\n"
      ],
      "text/latex": [
       "\\begin{tabular}{r|lllllll}\n",
       "  & Date & Open & High & Low & Close & Adj.Close & Volume\\\\\n",
       "\\hline\n",
       "\t8600 & 2023-06-19 & 7353.31    & 7362.44    & 7302.63    & 7314.05    & 7314.05    &        0  \\\\\n",
       "\t8601 & 2023-06-20 & 7303.24    & 7322.57    & 7281.12    & 7294.17    & 7294.17    & 55853400  \\\\\n",
       "\t8602 & 2023-06-21 & 7273.89    & 7297.85    & 7246.86    & 7260.97    & 7260.97    & 48414000  \\\\\n",
       "\t8603 & 2023-06-22 & 7194.26    & 7206.89    & 7145.06    & 7203.28    & 7203.28    & 53704500  \\\\\n",
       "\t8604 & 2023-06-23 & 7165.38    & 7193.78    & 7128.64    & 7163.42    & 7163.42    & 51938700  \\\\\n",
       "\t8605 & 2023-06-26 & 7175.88    & 7203.46    & 7105.72    & 7184.35    & 7184.35    & 52606600  \\\\\n",
       "\\end{tabular}\n"
      ],
      "text/markdown": [
       "\n",
       "| <!--/--> | Date | Open | High | Low | Close | Adj.Close | Volume |\n",
       "|---|---|---|---|---|---|---|---|\n",
       "| 8600 | 2023-06-19 | 7353.31    | 7362.44    | 7302.63    | 7314.05    | 7314.05    |        0   |\n",
       "| 8601 | 2023-06-20 | 7303.24    | 7322.57    | 7281.12    | 7294.17    | 7294.17    | 55853400   |\n",
       "| 8602 | 2023-06-21 | 7273.89    | 7297.85    | 7246.86    | 7260.97    | 7260.97    | 48414000   |\n",
       "| 8603 | 2023-06-22 | 7194.26    | 7206.89    | 7145.06    | 7203.28    | 7203.28    | 53704500   |\n",
       "| 8604 | 2023-06-23 | 7165.38    | 7193.78    | 7128.64    | 7163.42    | 7163.42    | 51938700   |\n",
       "| 8605 | 2023-06-26 | 7175.88    | 7203.46    | 7105.72    | 7184.35    | 7184.35    | 52606600   |\n",
       "\n"
      ],
      "text/plain": [
       "     Date       Open    High    Low     Close   Adj.Close Volume  \n",
       "8600 2023-06-19 7353.31 7362.44 7302.63 7314.05 7314.05          0\n",
       "8601 2023-06-20 7303.24 7322.57 7281.12 7294.17 7294.17   55853400\n",
       "8602 2023-06-21 7273.89 7297.85 7246.86 7260.97 7260.97   48414000\n",
       "8603 2023-06-22 7194.26 7206.89 7145.06 7203.28 7203.28   53704500\n",
       "8604 2023-06-23 7165.38 7193.78 7128.64 7163.42 7163.42   51938700\n",
       "8605 2023-06-26 7175.88 7203.46 7105.72 7184.35 7184.35   52606600"
      ]
     },
     "metadata": {},
     "output_type": "display_data"
    }
   ],
   "source": [
    "head(CAC40_df_2)\n",
    "tail(CAC40_df_2)"
   ]
  },
  {
   "cell_type": "markdown",
   "id": "244548d7",
   "metadata": {},
   "source": [
    "### Option 2 : Importation des données à partir d'un site internet\n",
    "\n",
    "#### librairie quantmod"
   ]
  },
  {
   "cell_type": "code",
   "execution_count": 5,
   "id": "37d8c3cd",
   "metadata": {},
   "outputs": [
    {
     "name": "stderr",
     "output_type": "stream",
     "text": [
      "installing the source package 'TT'\n",
      "\n"
     ]
    }
   ],
   "source": [
    "install.packages('TT')"
   ]
  },
  {
   "cell_type": "code",
   "execution_count": 12,
   "id": "b58f36b9",
   "metadata": {},
   "outputs": [
    {
     "name": "stderr",
     "output_type": "stream",
     "text": [
      "Loading required package: xts\n",
      "Loading required package: zoo\n",
      "\n",
      "Attaching package: 'zoo'\n",
      "\n",
      "The following objects are masked from 'package:base':\n",
      "\n",
      "    as.Date, as.Date.numeric\n",
      "\n",
      "Registered S3 method overwritten by 'xts':\n",
      "  method     from\n",
      "  as.zoo.xts zoo \n",
      "Loading required package: TTR\n",
      "Registered S3 method overwritten by 'quantmod':\n",
      "  method            from\n",
      "  as.zoo.data.frame zoo \n",
      "Version 0.4-0 included new data defaults. See ?getSymbols.\n",
      "'getSymbols' currently uses auto.assign=TRUE by default, but will\n",
      "use auto.assign=FALSE in 0.5-0. You will still be able to use\n",
      "'loadSymbols' to automatically load data. getOption(\"getSymbols.env\")\n",
      "and getOption(\"getSymbols.auto.assign\") will still be checked for\n",
      "alternate defaults.\n",
      "\n",
      "This message is shown once per session and may be disabled by setting \n",
      "options(\"getSymbols.warning4.0\"=FALSE). See ?getSymbols for details.\n",
      "\n"
     ]
    },
    {
     "ename": "ERROR",
     "evalue": "Error in new.session(): Could not establish session after 5 attempts.\n",
     "output_type": "error",
     "traceback": [
      "Error in new.session(): Could not establish session after 5 attempts.\nTraceback:\n",
      "1. getSymbols(\"^FCHI\", auto.assign = FALSE, from = \"1990-01-01\")",
      "2. do.call(paste(\"getSymbols.\", symbol.source, sep = \"\"), list(Symbols = current.symbols, \n .     env = env, verbose = verbose, warnings = warnings, auto.assign = auto.assign, \n .     ..., .has1sym. = .has1sym.))",
      "3. getSymbols.yahoo(Symbols = \"^FCHI\", env = <environment>, verbose = FALSE, \n .     warnings = TRUE, auto.assign = FALSE, from = \"1990-01-01\", \n .     .has1sym. = TRUE)",
      "4. .getHandle(curl.options)",
      "5. new.session()",
      "6. stop(\"Could not establish session after 5 attempts.\")"
     ]
    }
   ],
   "source": [
    "library(TT)\n",
    "library(quantmod)\n",
    "\n",
    "\n",
    "CAC40 <-getSymbols('^FCHI',auto.assign = FALSE,from ='1990-01-01')\n",
    "class(CAC40) # an xts object\n",
    "\n",
    "CAC40_df<-data.frame(date=index(CAC40),coredata(CAC40))# conversion xts en dataframe avec les dates comme indices\n",
    "colnames(CAC40_df)<-c(\"Date\",\"Open\",\"High\",\"Low\",\"Close\",\"Vol\",\"Adj.Close\")\n",
    "sapply(CAC40_df,function(x) sum(is.na(x)))\n",
    "CAC40_df<-na.omit(CAC40_df)\n",
    "sapply(CAC40_df,function(x) sum(is.na(x)))\n",
    "class(CAC40_df)"
   ]
  },
  {
   "cell_type": "code",
   "execution_count": 6,
   "id": "fc5cca4e",
   "metadata": {},
   "outputs": [
    {
     "ename": "ERROR",
     "evalue": "Error in head(CAC40_df): objet 'CAC40_df' introuvable\n",
     "output_type": "error",
     "traceback": [
      "Error in head(CAC40_df): objet 'CAC40_df' introuvable\nTraceback:\n",
      "1. head(CAC40_df)"
     ]
    }
   ],
   "source": [
    "head(CAC40_df)"
   ]
  },
  {
   "cell_type": "markdown",
   "id": "8e6dccdf",
   "metadata": {},
   "source": [
    "### Utilisation de la librairie yahoofinancer \n",
    "Il existe aussi la librairie yahoofinancer mais elle ne semble pas capable d'importer des données dès qu'elles contiennent des observations manquantes. On importe ici des données mensuelles et non quotidiennes.\n"
   ]
  },
  {
   "cell_type": "code",
   "execution_count": 16,
   "id": "57c1aa68",
   "metadata": {},
   "outputs": [
    {
     "name": "stdout",
     "output_type": "stream",
     "text": [
      "\n",
      "Les packages binaires téléchargés sont dans\n",
      "\t/var/folders/xg/0g_n267j1qgbrh2hgn3w9nnc0000gp/T//RtmpywTKWU/downloaded_packages\n"
     ]
    }
   ],
   "source": [
    "install.packages('yahoofinancer')"
   ]
  },
  {
   "cell_type": "code",
   "execution_count": 17,
   "id": "d9035891",
   "metadata": {},
   "outputs": [],
   "source": [
    "library(yahoofinancer)\n",
    "cac40<-Index$new('^FCHI')\n",
    "cac40_data<-cac40$get_history(start = '1990-01-01',interval = '1mo')"
   ]
  },
  {
   "cell_type": "markdown",
   "id": "d8f75ee8",
   "metadata": {},
   "source": [
    "## Représentation graphique de l'indice CAC40\n",
    "On utilise les données importées via quantmod. \n"
   ]
  },
  {
   "cell_type": "code",
   "execution_count": 14,
   "id": "48bc14c8",
   "metadata": {},
   "outputs": [
    {
     "name": "stderr",
     "output_type": "stream",
     "text": [
      "also installing the dependencies 'cli', 'lifecycle', 'rlang', 'scales', 'vctrs'\n",
      "\n"
     ]
    },
    {
     "name": "stdout",
     "output_type": "stream",
     "text": [
      "\n",
      "  There are binary versions available but the source versions are later:\n",
      "          binary source needs_compilation\n",
      "cli        2.5.0  3.6.1              TRUE\n",
      "lifecycle  1.0.0  1.0.3             FALSE\n",
      "rlang     0.4.11  1.1.1              TRUE\n",
      "scales     1.1.1  1.2.1             FALSE\n",
      "vctrs      0.3.8  0.6.3              TRUE\n",
      "ggplot2    3.3.3  3.4.2             FALSE\n",
      "\n",
      "  Binaries will be installed\n",
      "package 'cli' successfully unpacked and MD5 sums checked\n",
      "package 'rlang' successfully unpacked and MD5 sums checked\n"
     ]
    },
    {
     "name": "stderr",
     "output_type": "stream",
     "text": [
      "Warning message:\n",
      "\"cannot remove prior installation of package 'rlang'\"Warning message in file.copy(savedcopy, lib, recursive = TRUE):\n",
      "\"problème lors de la copie de C:\\Users\\ylepen\\Anaconda3\\envs\\r-tutorial\\Lib\\R\\library\\00LOCK\\rlang\\libs\\x64\\rlang.dll vers C:\\Users\\ylepen\\Anaconda3\\envs\\r-tutorial\\Lib\\R\\library\\rlang\\libs\\x64\\rlang.dll: Permission denied\"Warning message:\n",
      "\"restored 'rlang'\""
     ]
    },
    {
     "name": "stdout",
     "output_type": "stream",
     "text": [
      "package 'vctrs' successfully unpacked and MD5 sums checked\n",
      "\n",
      "The downloaded binary packages are in\n",
      "\tC:\\Users\\ylepen\\AppData\\Local\\Temp\\RtmporXieq\\downloaded_packages\n"
     ]
    },
    {
     "name": "stderr",
     "output_type": "stream",
     "text": [
      "installing the source packages 'lifecycle', 'scales', 'ggplot2'\n",
      "\n",
      "Warning message in install.packages(\"ggplot2\"):\n",
      "\"installation of package 'lifecycle' had non-zero exit status\"Warning message in install.packages(\"ggplot2\"):\n",
      "\"installation of package 'scales' had non-zero exit status\"Warning message in install.packages(\"ggplot2\"):\n",
      "\"installation of package 'ggplot2' had non-zero exit status\""
     ]
    }
   ],
   "source": [
    "#install.packages(c('cli','lifecycle','rlang','scales','vctrs'))\n",
    "install.packages('ggplot2')\n"
   ]
  },
  {
   "cell_type": "code",
   "execution_count": 15,
   "id": "9043ee54",
   "metadata": {},
   "outputs": [
    {
     "ename": "ERROR",
     "evalue": "Error in library(ggplot2): there is no package called 'ggplot2'\n",
     "output_type": "error",
     "traceback": [
      "Error in library(ggplot2): there is no package called 'ggplot2'\nTraceback:\n",
      "1. library(ggplot2)"
     ]
    }
   ],
   "source": [
    "library(ggplot2)\n",
    "p1<-ggplot(data=CAC40_df,aes(x=Date,y=Adj.Close))+geom_line(colour='blue')+ggtitle('Indice CAC 40 en log')+xlab('date')+ylab('indice en log')+theme_bw()+theme(plot.title = element_text(hjust = 0.5))\n",
    "p1"
   ]
  },
  {
   "cell_type": "code",
   "execution_count": null,
   "id": "a6e85473",
   "metadata": {},
   "outputs": [],
   "source": []
  }
 ],
 "metadata": {
  "kernelspec": {
   "display_name": "R",
   "language": "R",
   "name": "ir"
  },
  "language_info": {
   "codemirror_mode": "r",
   "file_extension": ".r",
   "mimetype": "text/x-r-source",
   "name": "R",
   "pygments_lexer": "r",
   "version": "3.6.1"
  }
 },
 "nbformat": 4,
 "nbformat_minor": 5
}
